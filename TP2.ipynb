{
 "cells": [
  {
   "cell_type": "code",
   "execution_count": 1,
   "metadata": {
    "collapsed": true
   },
   "outputs": [],
   "source": [
    "import numpy as np\n",
    "import pandas as pd\n",
    "import csv\n",
    "from time import time\n",
    "\n",
    "# plots\n",
    "import matplotlib.pyplot as plt\n",
    "import seaborn as sns\n",
    "%matplotlib inline\n",
    "\n",
    "from sklearn.model_selection import GridSearchCV\n",
    "from sklearn.model_selection import cross_val_score\n",
    "from datetime import datetime\n",
    "import matplotlib.pyplot as plt"
   ]
  },
  {
   "cell_type": "code",
   "execution_count": 2,
   "metadata": {
    "collapsed": true
   },
   "outputs": [],
   "source": [
    "train = pd.read_csv('train.csv')"
   ]
  },
  {
   "cell_type": "code",
   "execution_count": 3,
   "metadata": {
    "collapsed": false
   },
   "outputs": [],
   "source": [
    "train = train.drop('id', axis=1)\n",
    "train = train.drop('titulo', axis=1)\n",
    "train = train.drop('descripcion', axis=1)\n",
    "train = train.drop('tipodepropiedad', axis=1)\n",
    "train = train.drop('direccion', axis=1)\n",
    "train = train.drop('ciudad', axis=1)\n",
    "train = train.drop('provincia', axis=1)\n",
    "train = train.drop('lat', axis=1)\n",
    "train = train.drop('lng', axis=1)\n",
    "train = train.drop('fecha', axis=1)"
   ]
  },
  {
   "cell_type": "code",
   "execution_count": 4,
   "metadata": {
    "collapsed": true
   },
   "outputs": [],
   "source": [
    "train[['antiguedad']] = train[['antiguedad']].fillna(value=81)\n",
    "train[['habitaciones']] = train[['habitaciones']].fillna(value=0)\n",
    "train[['garages']] = train[['garages']].fillna(value=4)\n",
    "train[['banos']] = train[['banos']].fillna(value=0)\n",
    "train[['metroscubiertos']] = train[['metroscubiertos']].fillna(value=0)\n",
    "train[['metrostotales']] = train[['metrostotales']].fillna(value=0)\n",
    "train[['idzona']] = train[['idzona']].fillna(value=0)"
   ]
  },
  {
   "cell_type": "code",
   "execution_count": 5,
   "metadata": {
    "collapsed": true
   },
   "outputs": [],
   "source": [
    "train_label = []\n",
    "train_data = []\n",
    "\n",
    "train_label = train.iloc[:, 12]\n",
    "train_data = train.iloc[:, train.columns != 'precio']"
   ]
  },
  {
   "cell_type": "code",
   "execution_count": 6,
   "metadata": {
    "collapsed": true
   },
   "outputs": [],
   "source": [
    "test = pd.read_csv('test.csv')"
   ]
  },
  {
   "cell_type": "code",
   "execution_count": 7,
   "metadata": {
    "collapsed": true
   },
   "outputs": [],
   "source": [
    "test = test.drop('id', axis=1)\n",
    "test = test.drop('titulo', axis=1)\n",
    "test = test.drop('descripcion', axis=1)\n",
    "test = test.drop('tipodepropiedad', axis=1)\n",
    "test = test.drop('direccion', axis=1)\n",
    "test = test.drop('ciudad', axis=1)\n",
    "test = test.drop('provincia', axis=1)\n",
    "test = test.drop('lat', axis=1)\n",
    "test = test.drop('lng', axis=1)\n",
    "test = test.drop('fecha', axis=1)"
   ]
  },
  {
   "cell_type": "code",
   "execution_count": 8,
   "metadata": {
    "collapsed": true
   },
   "outputs": [],
   "source": [
    "test[['antiguedad']] = test[['antiguedad']].fillna(value=81)\n",
    "test[['habitaciones']] = test[['habitaciones']].fillna(value=0)\n",
    "test[['garages']] = test[['garages']].fillna(value=4)\n",
    "test[['banos']] = test[['banos']].fillna(value=0)\n",
    "test[['metroscubiertos']] = test[['metroscubiertos']].fillna(value=0)\n",
    "test[['metrostotales']] = test[['metrostotales']].fillna(value=0)\n",
    "test[['idzona']] = test[['idzona']].fillna(value=0)"
   ]
  },
  {
   "cell_type": "code",
   "execution_count": 9,
   "metadata": {
    "collapsed": false
   },
   "outputs": [
    {
     "name": "stderr",
     "output_type": "stream",
     "text": [
      "/usr/local/lib/python2.7/dist-packages/sklearn/ensemble/weight_boosting.py:29: DeprecationWarning: numpy.core.umath_tests is an internal NumPy module and should not be imported. It will be removed in a future NumPy release.\n",
      "  from numpy.core.umath_tests import inner1d\n"
     ]
    }
   ],
   "source": [
    "#-----------------------------------------------------------------\n",
    "# Modelo Random Forest Regressor\n",
    "#-----------------------------------------------------------------\n",
    "from sklearn.ensemble import RandomForestRegressor"
   ]
  },
  {
   "cell_type": "code",
   "execution_count": 42,
   "metadata": {
    "collapsed": false
   },
   "outputs": [
    {
     "name": "stdout",
     "output_type": "stream",
     "text": [
      "[INFO] grid search accuracy: 96.91%\n",
      "[INFO] grid search best parameters: {'n_estimators': 100}\n"
     ]
    }
   ],
   "source": [
    "params = [ {'n_estimators': [10, 50, 100]},]\n",
    "\n",
    "modeloRFR = RandomForestRegressor(random_state=0, n_jobs=-1)\n",
    "grid = GridSearchCV(modeloRFR, params, n_jobs=-1)\n",
    "grid.fit(train_data, train_label)\n",
    "\n",
    "acc = grid.score(train_data, train_label)\n",
    "print(\"[INFO] grid search accuracy: {:.2f}%\".format(acc * 100))\n",
    "print(\"[INFO] grid search best parameters: {}\".format(grid.best_params_))"
   ]
  },
  {
   "cell_type": "code",
   "execution_count": 10,
   "metadata": {
    "collapsed": true
   },
   "outputs": [],
   "source": [
    "modeloRFR=RandomForestRegressor(random_state=0, n_jobs=-1, n_estimators=100)"
   ]
  },
  {
   "cell_type": "code",
   "execution_count": 11,
   "metadata": {
    "collapsed": true
   },
   "outputs": [],
   "source": [
    "modeloRFR.fit(train_data, train[\"precio\"])\n",
    "\n",
    "result = modeloRFR.predict(test)"
   ]
  },
  {
   "cell_type": "code",
   "execution_count": 17,
   "metadata": {
    "collapsed": true
   },
   "outputs": [],
   "source": [
    "def write_submission(test_data, prediction, file_output):\n",
    "    \n",
    "    archivo_entrada = open(test_data)\n",
    "    entrada_csv = csv.reader(archivo_entrada)\n",
    "    next(entrada_csv, None)  # skip the headers\n",
    "\n",
    "    archivo_salida = open(file_output, 'w')\n",
    "    submit_csv = csv.writer(archivo_salida)\n",
    "    submit_csv.writerow(['id', 'target'])\n",
    "\n",
    "    for reg1, reg2  in zip(entrada_csv, prediction):\n",
    "        linea = [reg1[0], round(reg2, 2)]\n",
    "        submit_csv.writerow(linea)\n",
    "    archivo_salida.close()"
   ]
  },
  {
   "cell_type": "code",
   "execution_count": 18,
   "metadata": {
    "collapsed": true
   },
   "outputs": [],
   "source": [
    "write_submission(\"test.csv\", result, \"RFR.csv\")"
   ]
  },
  {
   "cell_type": "code",
   "execution_count": null,
   "metadata": {
    "collapsed": true
   },
   "outputs": [],
   "source": []
  }
 ],
 "metadata": {
  "kernelspec": {
   "display_name": "Python 2",
   "language": "python",
   "name": "python2"
  },
  "language_info": {
   "codemirror_mode": {
    "name": "ipython",
    "version": 2
   },
   "file_extension": ".py",
   "mimetype": "text/x-python",
   "name": "python",
   "nbconvert_exporter": "python",
   "pygments_lexer": "ipython2",
   "version": "2.7.12"
  }
 },
 "nbformat": 4,
 "nbformat_minor": 1
}
