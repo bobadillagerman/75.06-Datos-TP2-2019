{
 "cells": [
  {
   "cell_type": "code",
   "execution_count": 1,
   "metadata": {
    "collapsed": false
   },
   "outputs": [],
   "source": [
    "import numpy as np\n",
    "import pandas as pd\n",
    "import csv\n",
    "from time import time\n",
    "\n",
    "# plots\n",
    "import matplotlib.pyplot as plt\n",
    "import seaborn as sns\n",
    "%matplotlib inline\n",
    "\n",
    "from sklearn.model_selection import GridSearchCV\n",
    "from sklearn.model_selection import cross_val_score\n",
    "from datetime import datetime\n",
    "import matplotlib.pyplot as plt\n",
    "import category_encoders as ce"
   ]
  },
  {
   "cell_type": "code",
   "execution_count": 2,
   "metadata": {
    "collapsed": true
   },
   "outputs": [],
   "source": [
    "train = pd.read_csv('train.csv')"
   ]
  },
  {
   "cell_type": "code",
   "execution_count": 3,
   "metadata": {
    "collapsed": true
   },
   "outputs": [],
   "source": [
    "#Capitales de los Estados de México\n",
    "capitales=['Aguascalientes','Mexicali','La Paz','Campeche','Tuxtla Gutiérrez','Chihuahua','Saltillo','Colima','Durango','Guanajuato','Chilpancingo de los Bravo','Pachuca','Guadalajara','Toluca','Morelia','Cuernavaca','Tepic','Monterrey','Oaxaca de Juárez','Puebla','Querétaro','Chetumal','San Luis Potosí','Culiacán','Hermosillo','Villahermosa','Victoria','Tlaxcala','Xalapa','Mérida','Zacatecas','Cuauhtémoc']"
   ]
  },
  {
   "cell_type": "code",
   "execution_count": 4,
   "metadata": {
    "collapsed": true
   },
   "outputs": [],
   "source": [
    "#Función que establece si una ciudad se encuentra en la capital del estado\n",
    "def EstaEnCapital(Ciudad):\n",
    "    for capital in capitales:\n",
    "        if(Ciudad==capital):\n",
    "            return 1\n",
    "    return 0"
   ]
  },
  {
   "cell_type": "code",
   "execution_count": 5,
   "metadata": {
    "collapsed": true
   },
   "outputs": [],
   "source": [
    "train['Esta_Capital']=train['ciudad'].apply(EstaEnCapital)"
   ]
  },
  {
   "cell_type": "code",
   "execution_count": 6,
   "metadata": {
    "collapsed": true
   },
   "outputs": [],
   "source": [
    "train['Esta_condominio']=train.titulo.str.contains('condominio')\n",
    "train['Esta_loma']=train.titulo.str.contains('loma|lomas')\n",
    "train['Esta_bosque']=train.titulo.str.contains('bosque')\n",
    "train['Esta_country']=train.titulo.str.contains('country')\n",
    "train['Esta_lago']=train.titulo.str.contains('lago')\n",
    "train['Esta_residencial']=train.titulo.str.contains('residencial')\n",
    "train['Esta_penthouse']=train.titulo.str.contains('pent house')\n",
    "train['Esta_panoramica']=train.titulo.str.contains('panorámica|panoramica')\n",
    "train['Esta_mirador']=train.titulo.str.contains('mirador')\n",
    "train['Esta_privado']=train.titulo.str.contains('privado|privada')\n",
    "train['Esta_vigilancia']=train.titulo.str.contains('vigilancia')\n",
    "train['Esta_fraccionamiento']=train.titulo.str.contains('fraccionamiento')\n",
    "train['Esta_refugio']=train.titulo.str.contains('refugio')\n",
    "train['Esta_bancario']=train.titulo.str.contains('bancario')\n",
    "train['Esta_habitarse']=train.titulo.str.contains('habitarse')"
   ]
  },
  {
   "cell_type": "code",
   "execution_count": 7,
   "metadata": {
    "collapsed": false
   },
   "outputs": [],
   "source": [
    "train[['Esta_condominio']]=train[['Esta_condominio']].fillna(value=0)\n",
    "train[['Esta_loma']]=train[['Esta_loma']].fillna(value=0)\n",
    "train[['Esta_bosque']]=train[['Esta_bosque']].fillna(value=0)\n",
    "train[['Esta_country']]=train[['Esta_country']].fillna(value=0)\n",
    "train[['Esta_lago']]=train[['Esta_lago']].fillna(value=0)\n",
    "train[['Esta_residencial']]=train[['Esta_residencial']].fillna(value=0)\n",
    "train[['Esta_penthouse']]=train[['Esta_penthouse']].fillna(value=0)\n",
    "train[['Esta_panoramica']]=train[['Esta_panoramica']].fillna(value=0)\n",
    "train[['Esta_mirador']]=train[['Esta_mirador']].fillna(value=0)\n",
    "train[['Esta_privado']]=train[['Esta_privado']].fillna(value=0)\n",
    "train[['Esta_vigilancia']]=train[['Esta_vigilancia']].fillna(value=0)\n",
    "train[['Esta_fraccionamiento']]=train[['Esta_fraccionamiento']].fillna(value=0)\n",
    "train[['Esta_refugio']]=train[['Esta_refugio']].fillna(value=0)\n",
    "train[['Esta_bancario']]=train[['Esta_bancario']].fillna(value=0)\n",
    "train[['Esta_habitarse']]=train[['Esta_habitarse']].fillna(value=0)"
   ]
  },
  {
   "cell_type": "code",
   "execution_count": 8,
   "metadata": {
    "collapsed": true
   },
   "outputs": [],
   "source": [
    "train['Esta_condominio'] = train['Esta_condominio'].astype(int)\n",
    "train['Esta_loma'] = train['Esta_loma'].astype(int)\n",
    "train['Esta_bosque'] = train['Esta_bosque'].astype(int)\n",
    "train['Esta_country'] = train['Esta_country'].astype(int)\n",
    "train['Esta_lago'] = train['Esta_lago'].astype(int)\n",
    "train['Esta_residencial'] = train['Esta_residencial'].astype(int)\n",
    "train['Esta_penthouse'] = train['Esta_penthouse'].astype(int)\n",
    "train['Esta_panoramica'] = train['Esta_panoramica'].astype(int)\n",
    "train['Esta_mirador'] = train['Esta_mirador'].astype(int)\n",
    "train['Esta_privado'] = train['Esta_privado'].astype(int)\n",
    "train['Esta_vigilancia'] = train['Esta_vigilancia'].astype(int)\n",
    "train['Esta_fraccionamiento'] = train['Esta_fraccionamiento'].astype(int)\n",
    "train['Esta_refugio'] = train['Esta_refugio'].astype(int)\n",
    "train['Esta_bancario'] = train['Esta_bancario'].astype(int)\n",
    "train['Esta_habitarse'] = train['Esta_habitarse'].astype(int)"
   ]
  },
  {
   "cell_type": "code",
   "execution_count": 9,
   "metadata": {
    "collapsed": false
   },
   "outputs": [],
   "source": [
    "train = train.drop('id', axis=1)\n",
    "train = train.drop('titulo', axis=1)\n",
    "train = train.drop('descripcion', axis=1)\n",
    "train = train.drop('direccion', axis=1)\n",
    "train = train.drop('lat', axis=1)\n",
    "train = train.drop('lng', axis=1)"
   ]
  },
  {
   "cell_type": "code",
   "execution_count": 10,
   "metadata": {
    "collapsed": true
   },
   "outputs": [],
   "source": [
    "train[['antiguedad']] = train[['antiguedad']].fillna(value=8.116114)\n",
    "train[['habitaciones']] = train[['habitaciones']].fillna(value=2.902326)\n",
    "train[['garages']] = train[['garages']].fillna(value=1.546874)\n",
    "train[['banos']] = train[['banos']].fillna(value=2.132417)\n",
    "train[['metroscubiertos']] = train[['metroscubiertos']].fillna(value=174.016774)\n",
    "train[['metrostotales']] = train[['metrostotales']].fillna(value=176.765145)\n",
    "train[['idzona']] = train[['idzona']].fillna(value=2141183.096329)"
   ]
  },
  {
   "cell_type": "code",
   "execution_count": 11,
   "metadata": {
    "collapsed": true
   },
   "outputs": [],
   "source": [
    "def oneHotEncoding(df, columna):\n",
    "    one_hot = pd.get_dummies(df[columna])\n",
    "    df.drop(columna, axis=1, inplace=True)\n",
    "    df = pd.concat([df, one_hot], axis=1)\n",
    "    return df"
   ]
  },
  {
   "cell_type": "code",
   "execution_count": 12,
   "metadata": {
    "collapsed": false
   },
   "outputs": [],
   "source": [
    "train = oneHotEncoding(train,'provincia')\n",
    "train = oneHotEncoding(train,'tipodepropiedad')"
   ]
  },
  {
   "cell_type": "code",
   "execution_count": 13,
   "metadata": {
    "collapsed": false
   },
   "outputs": [],
   "source": [
    "train = train.drop('Garage', axis=1)\n",
    "train = train.drop('Hospedaje', axis=1)"
   ]
  },
  {
   "cell_type": "code",
   "execution_count": 14,
   "metadata": {
    "collapsed": false
   },
   "outputs": [],
   "source": [
    "#Hacemos la conversión de fechas\n",
    "train['Fecha']=pd.to_datetime(train['fecha'])\n",
    "train.drop(columns={'fecha'},inplace=True)"
   ]
  },
  {
   "cell_type": "code",
   "execution_count": 15,
   "metadata": {
    "collapsed": false
   },
   "outputs": [],
   "source": [
    "train['Anio']=train['Fecha'].dt.year\n",
    "train = train.drop('Fecha', axis=1)"
   ]
  },
  {
   "cell_type": "code",
   "execution_count": 16,
   "metadata": {
    "collapsed": true
   },
   "outputs": [],
   "source": [
    "target_enc = ce.TargetEncoder(train['ciudad'])\n",
    "\n",
    "# Fit the encoder using the categorical features and target\n",
    "target_enc.fit(train['ciudad'], train['precio'])\n",
    "\n",
    "# Transform the features, rename the columns with _target suffix, and join to dataframe\n",
    "train = train.join(target_enc.transform(train['ciudad']).add_suffix('_target'))\n",
    "\n",
    "train = train.drop('ciudad', axis=1)"
   ]
  },
  {
   "cell_type": "code",
   "execution_count": 19,
   "metadata": {
    "collapsed": true
   },
   "outputs": [],
   "source": [
    "train_label = []\n",
    "train_data = []\n",
    "\n",
    "train_label = train.iloc[:, 12]\n",
    "train_data = train.iloc[:, train.columns != 'precio']"
   ]
  },
  {
   "cell_type": "code",
   "execution_count": 20,
   "metadata": {
    "collapsed": true
   },
   "outputs": [],
   "source": [
    "test = pd.read_csv('test.csv')"
   ]
  },
  {
   "cell_type": "code",
   "execution_count": 21,
   "metadata": {
    "collapsed": true
   },
   "outputs": [],
   "source": [
    "test['Esta_Capital']=test['ciudad'].apply(EstaEnCapital)"
   ]
  },
  {
   "cell_type": "code",
   "execution_count": 22,
   "metadata": {
    "collapsed": true
   },
   "outputs": [],
   "source": [
    "test['Esta_condominio']=test.titulo.str.contains('condominio')\n",
    "test['Esta_loma']=test.titulo.str.contains('loma|lomas')\n",
    "test['Esta_bosque']=test.titulo.str.contains('bosque')\n",
    "test['Esta_country']=test.titulo.str.contains('country')\n",
    "test['Esta_lago']=test.titulo.str.contains('lago')\n",
    "test['Esta_residencial']=test.titulo.str.contains('residencial')\n",
    "test['Esta_penthouse']=test.titulo.str.contains('pent house')\n",
    "test['Esta_panoramica']=test.titulo.str.contains('panorámica|panoramica')\n",
    "test['Esta_mirador']=test.titulo.str.contains('mirador')\n",
    "test['Esta_privado']=test.titulo.str.contains('privado|privada')\n",
    "test['Esta_vigilancia']=test.titulo.str.contains('vigilancia')\n",
    "test['Esta_fraccionamiento']=test.titulo.str.contains('fraccionamiento')\n",
    "test['Esta_refugio']=test.titulo.str.contains('refugio')\n",
    "test['Esta_bancario']=test.titulo.str.contains('bancario')\n",
    "test['Esta_habitarse']=test.titulo.str.contains('habitarse')"
   ]
  },
  {
   "cell_type": "code",
   "execution_count": 23,
   "metadata": {
    "collapsed": true
   },
   "outputs": [],
   "source": [
    "test[['Esta_condominio']]=test[['Esta_condominio']].fillna(value=0)\n",
    "test[['Esta_loma']]=test[['Esta_loma']].fillna(value=0)\n",
    "test[['Esta_bosque']]=test[['Esta_bosque']].fillna(value=0)\n",
    "test[['Esta_country']]=test[['Esta_country']].fillna(value=0)\n",
    "test[['Esta_lago']]=test[['Esta_lago']].fillna(value=0)\n",
    "test[['Esta_residencial']]=test[['Esta_residencial']].fillna(value=0)\n",
    "test[['Esta_penthouse']]=test[['Esta_penthouse']].fillna(value=0)\n",
    "test[['Esta_panoramica']]=test[['Esta_panoramica']].fillna(value=0)\n",
    "test[['Esta_mirador']]=test[['Esta_mirador']].fillna(value=0)\n",
    "test[['Esta_privado']]=test[['Esta_privado']].fillna(value=0)\n",
    "test[['Esta_vigilancia']]=test[['Esta_vigilancia']].fillna(value=0)\n",
    "test[['Esta_fraccionamiento']]=test[['Esta_fraccionamiento']].fillna(value=0)\n",
    "test[['Esta_refugio']]=test[['Esta_refugio']].fillna(value=0)\n",
    "test[['Esta_bancario']]=test[['Esta_bancario']].fillna(value=0)\n",
    "test[['Esta_habitarse']]=test[['Esta_habitarse']].fillna(value=0)"
   ]
  },
  {
   "cell_type": "code",
   "execution_count": 24,
   "metadata": {
    "collapsed": true
   },
   "outputs": [],
   "source": [
    "test['Esta_condominio'] = test['Esta_condominio'].astype(int)\n",
    "test['Esta_loma'] = test['Esta_loma'].astype(int)\n",
    "test['Esta_bosque'] = test['Esta_bosque'].astype(int)\n",
    "test['Esta_country'] = test['Esta_country'].astype(int)\n",
    "test['Esta_lago'] = test['Esta_lago'].astype(int)\n",
    "test['Esta_residencial'] = test['Esta_residencial'].astype(int)\n",
    "test['Esta_penthouse'] = test['Esta_penthouse'].astype(int)\n",
    "test['Esta_panoramica'] = test['Esta_panoramica'].astype(int)\n",
    "test['Esta_mirador'] = test['Esta_mirador'].astype(int)\n",
    "test['Esta_privado'] = test['Esta_privado'].astype(int)\n",
    "test['Esta_vigilancia'] = test['Esta_vigilancia'].astype(int)\n",
    "test['Esta_fraccionamiento'] = test['Esta_fraccionamiento'].astype(int)\n",
    "test['Esta_refugio'] = test['Esta_refugio'].astype(int)\n",
    "test['Esta_bancario'] = test['Esta_bancario'].astype(int)\n",
    "test['Esta_habitarse'] = test['Esta_habitarse'].astype(int)"
   ]
  },
  {
   "cell_type": "code",
   "execution_count": 25,
   "metadata": {
    "collapsed": false
   },
   "outputs": [],
   "source": [
    "test = test.drop('id', axis=1)\n",
    "test = test.drop('titulo', axis=1)\n",
    "test = test.drop('descripcion', axis=1)\n",
    "test = test.drop('direccion', axis=1)\n",
    "test = test.drop('lat', axis=1)\n",
    "test = test.drop('lng', axis=1)"
   ]
  },
  {
   "cell_type": "code",
   "execution_count": 26,
   "metadata": {
    "collapsed": true
   },
   "outputs": [],
   "source": [
    "test[['antiguedad']] = test[['antiguedad']].fillna(value=8.116114)\n",
    "test[['habitaciones']] = test[['habitaciones']].fillna(value=2.902326)\n",
    "test[['garages']] = test[['garages']].fillna(value=1.546874)\n",
    "test[['banos']] = test[['banos']].fillna(value=2.132417)\n",
    "test[['metroscubiertos']] = test[['metroscubiertos']].fillna(value=174.016774)\n",
    "test[['metrostotales']] = test[['metrostotales']].fillna(value=176.765145)\n",
    "test[['idzona']] = test[['idzona']].fillna(value=2141183.096329)"
   ]
  },
  {
   "cell_type": "code",
   "execution_count": 27,
   "metadata": {
    "collapsed": true
   },
   "outputs": [],
   "source": [
    "test = oneHotEncoding(test,'provincia')\n",
    "test = oneHotEncoding(test,'tipodepropiedad')"
   ]
  },
  {
   "cell_type": "code",
   "execution_count": 28,
   "metadata": {
    "collapsed": false
   },
   "outputs": [],
   "source": [
    "#Hacemos la conversión de fechas\n",
    "test['Fecha']=pd.to_datetime(test['fecha'])\n",
    "test.drop(columns={'fecha'},inplace=True)"
   ]
  },
  {
   "cell_type": "code",
   "execution_count": 29,
   "metadata": {
    "collapsed": true
   },
   "outputs": [],
   "source": [
    "test['Anio'] = test['Fecha'].dt.year\n",
    "test = test.drop('Fecha', axis=1)"
   ]
  },
  {
   "cell_type": "code",
   "execution_count": 30,
   "metadata": {
    "collapsed": true
   },
   "outputs": [],
   "source": [
    "test = test.join(target_enc.transform(test['ciudad']).add_suffix('_target'))\n",
    "test = test.drop('ciudad', axis=1)"
   ]
  },
  {
   "cell_type": "code",
   "execution_count": 33,
   "metadata": {
    "collapsed": true
   },
   "outputs": [],
   "source": [
    "def write_submission(test_data, prediction, file_output):\n",
    "    \n",
    "    archivo_entrada = open(test_data)\n",
    "    entrada_csv = csv.reader(archivo_entrada)\n",
    "    next(entrada_csv, None)  # skip the headers\n",
    "\n",
    "    archivo_salida = open(file_output, 'w')\n",
    "    submit_csv = csv.writer(archivo_salida)\n",
    "    submit_csv.writerow(['id', 'target'])\n",
    "\n",
    "    for reg1, reg2  in zip(entrada_csv, prediction):\n",
    "        linea = [reg1[0], round(reg2, 2)]\n",
    "        submit_csv.writerow(linea)\n",
    "    archivo_salida.close()"
   ]
  },
  {
   "cell_type": "code",
   "execution_count": 34,
   "metadata": {
    "collapsed": false
   },
   "outputs": [],
   "source": [
    "#-----------------------------------------------------------------\n",
    "# Modelo Random Forest Regressor\n",
    "#-----------------------------------------------------------------\n",
    "from sklearn.ensemble import RandomForestRegressor"
   ]
  },
  {
   "cell_type": "code",
   "execution_count": 42,
   "metadata": {
    "collapsed": false
   },
   "outputs": [
    {
     "name": "stdout",
     "output_type": "stream",
     "text": [
      "[INFO] grid search accuracy: 96.91%\n",
      "[INFO] grid search best parameters: {'n_estimators': 100}\n"
     ]
    }
   ],
   "source": [
    "params = [ {'n_estimators': [10, 50, 100]},]\n",
    "\n",
    "modeloRFR = RandomForestRegressor(random_state=0, n_jobs=-1)\n",
    "grid = GridSearchCV(modeloRFR, params, n_jobs=-1)\n",
    "grid.fit(train_data, train_label)\n",
    "\n",
    "acc = grid.score(train_data, train_label)\n",
    "print(\"[INFO] grid search accuracy: {:.2f}%\".format(acc * 100))\n",
    "print(\"[INFO] grid search best parameters: {}\".format(grid.best_params_))"
   ]
  },
  {
   "cell_type": "code",
   "execution_count": 35,
   "metadata": {
    "collapsed": true
   },
   "outputs": [],
   "source": [
    "modeloRFR=RandomForestRegressor(random_state=0, n_jobs=-1, n_estimators=100)"
   ]
  },
  {
   "cell_type": "code",
   "execution_count": 36,
   "metadata": {
    "collapsed": false
   },
   "outputs": [],
   "source": [
    "modeloRFR.fit(train_data, train[\"precio\"])\n",
    "\n",
    "result = modeloRFR.predict(test)"
   ]
  },
  {
   "cell_type": "code",
   "execution_count": 37,
   "metadata": {
    "collapsed": true
   },
   "outputs": [],
   "source": [
    "write_submission(\"test.csv\", result, \"RFR_ciudadTargetE.csv\")"
   ]
  },
  {
   "cell_type": "code",
   "execution_count": 84,
   "metadata": {
    "collapsed": false
   },
   "outputs": [],
   "source": [
    "#-----------------------------------------------------------------\n",
    "# Modelo GradientBoostingRegressor\n",
    "#-----------------------------------------------------------------\n",
    "from sklearn.ensemble import GradientBoostingRegressor"
   ]
  },
  {
   "cell_type": "code",
   "execution_count": 15,
   "metadata": {
    "collapsed": false
   },
   "outputs": [
    {
     "name": "stdout",
     "output_type": "stream",
     "text": [
      "[INFO] grid search accuracy: 66.77%\n",
      "[INFO] grid search best parameters: {'n_estimators': 150}\n"
     ]
    }
   ],
   "source": [
    "params = [ {'n_estimators': [50, 100, 150]},]\n",
    "\n",
    "modeloGBR = GradientBoostingRegressor(random_state=0)\n",
    "grid = GridSearchCV(modeloGBR, params, n_jobs=-1)\n",
    "grid.fit(train_data, train_label)\n",
    "\n",
    "acc = grid.score(train_data, train_label)\n",
    "print(\"[INFO] grid search accuracy: {:.2f}%\".format(acc * 100))\n",
    "print(\"[INFO] grid search best parameters: {}\".format(grid.best_params_))"
   ]
  },
  {
   "cell_type": "code",
   "execution_count": 16,
   "metadata": {
    "collapsed": true
   },
   "outputs": [],
   "source": [
    "modeloGBR=GradientBoostingRegressor(random_state=0, n_estimators=150)"
   ]
  },
  {
   "cell_type": "code",
   "execution_count": 17,
   "metadata": {
    "collapsed": true
   },
   "outputs": [],
   "source": [
    "modeloGBR.fit(train_data, train[\"precio\"])\n",
    "\n",
    "result = modeloGBR.predict(test)"
   ]
  },
  {
   "cell_type": "code",
   "execution_count": 18,
   "metadata": {
    "collapsed": true
   },
   "outputs": [],
   "source": [
    "write_submission(\"test.csv\", result, \"GBR.csv\")"
   ]
  },
  {
   "cell_type": "code",
   "execution_count": 19,
   "metadata": {
    "collapsed": true
   },
   "outputs": [],
   "source": [
    "del modeloGBR"
   ]
  },
  {
   "cell_type": "code",
   "execution_count": 20,
   "metadata": {
    "collapsed": true
   },
   "outputs": [],
   "source": [
    "#-----------------------------------------------------------------\n",
    "# Modelo Bagging Regressor\n",
    "#-----------------------------------------------------------------\n",
    "from sklearn.ensemble import BaggingRegressor"
   ]
  },
  {
   "cell_type": "code",
   "execution_count": null,
   "metadata": {
    "collapsed": true
   },
   "outputs": [],
   "source": [
    "params = [ {'n_estimators': [10, 50, 100]},]\n",
    "\n",
    "modeloBG = BaggingRegressor(random_state=0)\n",
    "grid = GridSearchCV(modeloBG, params, n_jobs=-1)\n",
    "grid.fit(train_data, train_label)\n",
    "\n",
    "acc = grid.score(train_data, train_label)\n",
    "print(\"[INFO] grid search accuracy: {:.2f}%\".format(acc * 100))\n",
    "print(\"[INFO] grid search best parameters: {}\".format(grid.best_params_))"
   ]
  },
  {
   "cell_type": "code",
   "execution_count": null,
   "metadata": {
    "collapsed": true
   },
   "outputs": [],
   "source": [
    "modeloBG=BaggingRegressor(random_state=0, n_jobs=-1, n_estimators=150)"
   ]
  },
  {
   "cell_type": "code",
   "execution_count": null,
   "metadata": {
    "collapsed": true
   },
   "outputs": [],
   "source": [
    "modeloBG.fit(train_data, train[\"precio\"])\n",
    "\n",
    "result = modeloBG.predict(test)"
   ]
  },
  {
   "cell_type": "code",
   "execution_count": null,
   "metadata": {
    "collapsed": true
   },
   "outputs": [],
   "source": [
    "write_submission(\"test.csv\", result, \"BG.csv\")"
   ]
  },
  {
   "cell_type": "code",
   "execution_count": null,
   "metadata": {
    "collapsed": true
   },
   "outputs": [],
   "source": [
    "del modeloBG"
   ]
  },
  {
   "cell_type": "code",
   "execution_count": 11,
   "metadata": {
    "collapsed": false
   },
   "outputs": [],
   "source": [
    "#-----------------------------------------------------------------\n",
    "# Modelo Multi-layer Perceptron regressor\n",
    "#-----------------------------------------------------------------\n",
    "from sklearn.neural_network import MLPRegressor"
   ]
  },
  {
   "cell_type": "code",
   "execution_count": null,
   "metadata": {
    "collapsed": true
   },
   "outputs": [],
   "source": [
    "params = [\n",
    "    {\n",
    "        'activation' : ('logistic', 'tanh', 'relu',),\n",
    "        'solver' : ('lbfgs','adam','sgd',),\n",
    "        'learning_rate' : ('constant', 'invscaling', 'adaptive',),\n",
    "    },\n",
    "]\n",
    "\n",
    "modeloMLPR = MLPRegressor(random_state=0)\n",
    "grid = GridSearchCV(modeloMLPR, params, n_jobs=-1)\n",
    "grid.fit(train_data, train_label)\n",
    "\n",
    "acc = grid.score(train_data, train_label)\n",
    "print(\"[INFO] grid search accuracy: {:.2f}%\".format(acc * 100))\n",
    "print(\"[INFO] grid search best parameters: {}\".format(grid.best_params_))"
   ]
  },
  {
   "cell_type": "code",
   "execution_count": null,
   "metadata": {
    "collapsed": true
   },
   "outputs": [],
   "source": [
    "modeloMLPR=MLPRegressor(random_state=0, n_estimators=150)"
   ]
  },
  {
   "cell_type": "code",
   "execution_count": null,
   "metadata": {
    "collapsed": true
   },
   "outputs": [],
   "source": [
    "modeloMLPR.fit(train_data, train[\"precio\"])\n",
    "\n",
    "result = modeloMLPR.predict(test)"
   ]
  },
  {
   "cell_type": "code",
   "execution_count": null,
   "metadata": {
    "collapsed": true
   },
   "outputs": [],
   "source": [
    "write_submission(\"test.csv\", result, \"MLPR.csv\")"
   ]
  }
 ],
 "metadata": {
  "kernelspec": {
   "display_name": "Python 2",
   "language": "python",
   "name": "python2"
  },
  "language_info": {
   "codemirror_mode": {
    "name": "ipython",
    "version": 2
   },
   "file_extension": ".py",
   "mimetype": "text/x-python",
   "name": "python",
   "nbconvert_exporter": "python",
   "pygments_lexer": "ipython2",
   "version": "2.7.12"
  }
 },
 "nbformat": 4,
 "nbformat_minor": 1
}
