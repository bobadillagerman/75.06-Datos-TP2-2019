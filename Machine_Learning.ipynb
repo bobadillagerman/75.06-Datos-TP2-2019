{
 "cells": [
  {
   "cell_type": "markdown",
   "metadata": {},
   "source": [
    "# Machine Learning"
   ]
  },
  {
   "cell_type": "markdown",
   "metadata": {},
   "source": [
    "## 1) Creando Set de Entrenamiento"
   ]
  },
  {
   "cell_type": "code",
   "execution_count": 1,
   "metadata": {},
   "outputs": [],
   "source": [
    "import numpy as np\n",
    "import pandas as pd\n",
    "import xgboost as xgb\n",
    "import matplotlib.pyplot as plt\n",
    "from sklearn.model_selection import train_test_split\n",
    "from sklearn.dummy import DummyRegressor\n",
    "from sklearn.ensemble import RandomForestRegressor\n",
    "from sklearn.tree import DecisionTreeRegressor\n",
    "from sklearn.neighbors import KNeighborsRegressor\n",
    "from sklearn.ensemble import AdaBoostRegressor\n",
    "from sklearn.linear_model import Ridge\n",
    "from sklearn.linear_model import Lasso\n",
    "from sklearn.linear_model import LinearRegression\n",
    "from sklearn.linear_model import ElasticNet\n",
    "from sklearn.ensemble import BaggingRegressor\n",
    "from sklearn.ensemble import ExtraTreesRegressor\n",
    "from sklearn.metrics import mean_absolute_error\n",
    "from sklearn.model_selection import GridSearchCV\n",
    "from sklearn.model_selection import cross_val_score\n",
    "from sklearn.svm import SVR\n",
    "import category_encoders as ce\n",
    "import re\n",
    "from collections import Counter\n",
    "from nltk.corpus import stopwords\n",
    "from nltk.stem import SnowballStemmer\n",
    "from math import radians, cos, sin, asin, sqrt\n",
    "\n",
    "%matplotlib inline\n",
    "plt.style.use('default')"
   ]
  },
  {
   "cell_type": "code",
   "execution_count": 2,
   "metadata": {},
   "outputs": [],
   "source": [
    "#Capitales de los Estados de México\n",
    "capitales=['Aguascalientes','Mexicali','La Paz','Campeche','Tuxtla Gutiérrez','Chihuahua','Saltillo','Colima','Durango','Guanajuato','Chilpancingo de los Bravo','Pachuca','Guadalajara','Toluca','Morelia','Cuernavaca','Tepic','Monterrey','Oaxaca de Juárez','Puebla','Querétaro','Chetumal','San Luis Potosí','Culiacán','Hermosillo','Villahermosa','Victoria','Tlaxcala','Xalapa','Mérida','Zacatecas','Cuauhtémoc']"
   ]
  },
  {
   "cell_type": "code",
   "execution_count": 3,
   "metadata": {},
   "outputs": [],
   "source": [
    "zona_metropolitana_valle=['Azcapotzalco','Coyoacán','Cuajimalpa de Morelos','Gustavo A. Madero','Iztacalco','Iztapalapa','La Magdalena Contreras','Milpa Alta','Alvaro Obregón','Tláhuac','Tlalpan','Xochimilco','Benito Juárez','Cuauhtémoc','Miguel Hidalgo','Venustiano Carranza','Tizayuca','Acolman','Amecameca','Atenco','Atizapán de Zaragoza','Atlautla','Axapusco','Ayapango','Coacalco de Berriozábal','Cocotitlán','Coyotepec','Cuautitlán','Chalco','Chiautla','Chicoloapan','Chiconcuac','Chimalhuacán','Ecatepec de Morelos','Ecatzingo','Huehuetoca','Huixquilucan','Isidro Fabela','Ixtapaluca','Jaltenco','Jilotzingo','Melchor Ocampo','Naucalpan de Juárez','Nezahualcóyotl','Nextlalpan','Nicolás Romero','Nopaltepec','Otumba','Ozumba','Papalotla','La Paz','San Martín de las Pirámides','Tecámac','Temamatla','Temascalapa','Tenango del Aire','Teoloyucan','Teotihuacán','Tepetlaoxtoc','Tepetlixpa','Tepotzotlán','Tequixquiac','Texcoco','Tezoyuca','Tlalmanalco','Tlalnepantla de Baz','Tultepec','Tultitlán','Villa del Carbón','Zumpango','Cuautitlán Izcalli','Valle de Chalco Solidaridad','Tonanitla']\n",
    "zona_metropolitana_guadalajara=['Guadalajara','Zapopan','Tlaquepaque','Tlajomulco de Zúñiga','Tonalá','El Salto','Zapotlanejo','Ixtlahuacán de los Membrillos','Juanacatlán','Juanacatlán']\n",
    "zona_metropolitana_monterrey=['San Pedro Garza García','San Nicolás de los Garza','Monterrey','Santiago','Guadalupe','Apodaca','Cadereyta Jiménez','Santa Catarina','Gral. Escobedo','García','Juárez','Salinas Victoria']\n",
    "zona_metropolitana_puebla_texaca=['Amozoc','Coronango','Cuautlancingo','Huejotzingo','Juan C. Bonilla','Ocoyucan','Puebla','San Andrés Cholula','San Gregorio Atzompa','San Martín Texmelucan','San Miguel Xoxtla','San Pedro Cholula','San Salvador el Verde','Tepatlaxco de Hidalgo','Tlaltenango','Ixtacuixtla de Mariano Matamoros','Tepetitla de Lardizábal','Natívitas','San Pablo del Monte','Tenancingo','Teolocholco','Tepeyanco','Tetlatlahuca','Papalotla de Xicohténcatl','Xicohtzinco','Zacatelco','Zacualpan','Santa Ana Nopalucan','Teacalco','Santa Catarina']\n",
    "zona_metropolitana_toluca=['Toluca','Metepec','Zinacantepec','Almoloya de Juárez','Lerma','Otzolotepec','San Mateo Atenco','Ocoyoacac','Calimaya','Xonacatlán','Tenango del Valle','San Antonio la Isla','Mexicaltzingo','Chapultepec']\n",
    "zona_metropolitana_laguna=['Torreón','Gómez Palacio','Lerdo','Matamoros']\n",
    "zona_metropolitana_queretaro=['Querétaro','Corregidora','El Marqués','Huimilpan','Apaseo el Alto']\n",
    "corona_regional=['Distrito Federal','Edo. de México','Hidalgo','Puebla','Tlaxcala','Morelos']"
   ]
  },
  {
   "cell_type": "code",
   "execution_count": 4,
   "metadata": {},
   "outputs": [],
   "source": [
    "cuidades_turisticas=['Cancún','Guadalajara','Puerto Vallarta','Acapulco de Juárez','Monterrey','Bahía de Banderas','Mazatlán','Puebla','Veracruz','Mérida','Querétaro','León','Zihuatanejo de Azueta','San Luis Potosí','Cozumel','Villahermosa','Tijuana','Oaxaca de Juárez','Aguascalientes','Santa María Huatulco','Juárez','Chihuahua','Morelia','Manzanillo','Hermosillo','Toluca','Zacatecas','Tuxtla Gutiérrez','Mexicali','Celaya','Guanajuato','Culiacán']"
   ]
  },
  {
   "cell_type": "code",
   "execution_count": 5,
   "metadata": {},
   "outputs": [],
   "source": [
    "data={'provincia':['Baja California Sur','Baja California Norte','Chihuahua','Durango','Sinaloa','Sonora','Coahuila','Nuevo León','Tamaulipas','Nayarit','Jalisco','Colima','Michoacán','Puebla','Veracruz','Tlaxcala','Hidalgo','Aguascalientes','Guanajuato','San luis Potosí','Zacatecas','Querétaro','Morelos','Edo. de México','Distrito Federal','Guerrero','Oaxaca','Chiapas','Tabasco','Campeche','Quintana Roo','Yucatán'], 'Zona':['nor_oeste','nor_oeste','nor_oeste','nor_oeste','nor_oeste','nor_oeste','nor_este','nor_este','nor_este','occidente','occidente','occidente','occidente','oriente','oriente','oriente','oriente','centro_norte','centro_norte','centro_norte','centro_norte','centro_norte','centro_sur','centro_sur','centro_sur','sur_oeste','sur_oeste','sur_oeste','sur_este','sur_este','sur_este','sur_este']}"
   ]
  },
  {
   "cell_type": "code",
   "execution_count": 6,
   "metadata": {},
   "outputs": [
    {
     "data": {
      "text/html": [
       "<div>\n",
       "<style scoped>\n",
       "    .dataframe tbody tr th:only-of-type {\n",
       "        vertical-align: middle;\n",
       "    }\n",
       "\n",
       "    .dataframe tbody tr th {\n",
       "        vertical-align: top;\n",
       "    }\n",
       "\n",
       "    .dataframe thead th {\n",
       "        text-align: right;\n",
       "    }\n",
       "</style>\n",
       "<table border=\"1\" class=\"dataframe\">\n",
       "  <thead>\n",
       "    <tr style=\"text-align: right;\">\n",
       "      <th></th>\n",
       "      <th>Zona</th>\n",
       "      <th>provincia</th>\n",
       "    </tr>\n",
       "  </thead>\n",
       "  <tbody>\n",
       "    <tr>\n",
       "      <th>0</th>\n",
       "      <td>nor_oeste</td>\n",
       "      <td>Baja California Sur</td>\n",
       "    </tr>\n",
       "    <tr>\n",
       "      <th>1</th>\n",
       "      <td>nor_oeste</td>\n",
       "      <td>Baja California Norte</td>\n",
       "    </tr>\n",
       "    <tr>\n",
       "      <th>2</th>\n",
       "      <td>nor_oeste</td>\n",
       "      <td>Chihuahua</td>\n",
       "    </tr>\n",
       "    <tr>\n",
       "      <th>3</th>\n",
       "      <td>nor_oeste</td>\n",
       "      <td>Durango</td>\n",
       "    </tr>\n",
       "    <tr>\n",
       "      <th>4</th>\n",
       "      <td>nor_oeste</td>\n",
       "      <td>Sinaloa</td>\n",
       "    </tr>\n",
       "  </tbody>\n",
       "</table>\n",
       "</div>"
      ],
      "text/plain": [
       "        Zona              provincia\n",
       "0  nor_oeste    Baja California Sur\n",
       "1  nor_oeste  Baja California Norte\n",
       "2  nor_oeste              Chihuahua\n",
       "3  nor_oeste                Durango\n",
       "4  nor_oeste                Sinaloa"
      ]
     },
     "execution_count": 6,
     "metadata": {},
     "output_type": "execute_result"
    }
   ],
   "source": [
    "zonas_df=pd.DataFrame(data)\n",
    "zonas_df.head()"
   ]
  },
  {
   "cell_type": "code",
   "execution_count": 7,
   "metadata": {},
   "outputs": [
    {
     "data": {
      "text/html": [
       "<div>\n",
       "<style scoped>\n",
       "    .dataframe tbody tr th:only-of-type {\n",
       "        vertical-align: middle;\n",
       "    }\n",
       "\n",
       "    .dataframe tbody tr th {\n",
       "        vertical-align: top;\n",
       "    }\n",
       "\n",
       "    .dataframe thead th {\n",
       "        text-align: right;\n",
       "    }\n",
       "</style>\n",
       "<table border=\"1\" class=\"dataframe\">\n",
       "  <thead>\n",
       "    <tr style=\"text-align: right;\">\n",
       "      <th></th>\n",
       "      <th>centro_comercial</th>\n",
       "      <th>ciudad</th>\n",
       "      <th>lat</th>\n",
       "      <th>lng</th>\n",
       "      <th>provincia</th>\n",
       "    </tr>\n",
       "  </thead>\n",
       "  <tbody>\n",
       "    <tr>\n",
       "      <th>0</th>\n",
       "      <td>Perisur</td>\n",
       "      <td>Coyoacán</td>\n",
       "      <td>19.303899</td>\n",
       "      <td>-99.189435</td>\n",
       "      <td>Distrito Federal</td>\n",
       "    </tr>\n",
       "    <tr>\n",
       "      <th>1</th>\n",
       "      <td>Parque Tezontle</td>\n",
       "      <td>Iztapalapa</td>\n",
       "      <td>19.383660</td>\n",
       "      <td>-99.082329</td>\n",
       "      <td>Distrito Federal</td>\n",
       "    </tr>\n",
       "    <tr>\n",
       "      <th>2</th>\n",
       "      <td>Las Américas Cancún</td>\n",
       "      <td>Cancún</td>\n",
       "      <td>21.147655</td>\n",
       "      <td>-86.823800</td>\n",
       "      <td>Quintana Roo</td>\n",
       "    </tr>\n",
       "    <tr>\n",
       "      <th>3</th>\n",
       "      <td>Antea LifeStyle Center</td>\n",
       "      <td>Querétaro</td>\n",
       "      <td>20.674103</td>\n",
       "      <td>-100.435181</td>\n",
       "      <td>Querétaro</td>\n",
       "    </tr>\n",
       "    <tr>\n",
       "      <th>4</th>\n",
       "      <td>Andarés</td>\n",
       "      <td>Zapopan</td>\n",
       "      <td>20.710305</td>\n",
       "      <td>-103.412591</td>\n",
       "      <td>Jalisco</td>\n",
       "    </tr>\n",
       "    <tr>\n",
       "      <th>5</th>\n",
       "      <td>Plaza Satélite</td>\n",
       "      <td>Naucalpan de Juárez</td>\n",
       "      <td>19.510331</td>\n",
       "      <td>-99.235556</td>\n",
       "      <td>Edo. de México</td>\n",
       "    </tr>\n",
       "    <tr>\n",
       "      <th>6</th>\n",
       "      <td>Forum Buenavista</td>\n",
       "      <td>Cuauhtémoc</td>\n",
       "      <td>19.449796</td>\n",
       "      <td>-99.151794</td>\n",
       "      <td>Distrito Federal</td>\n",
       "    </tr>\n",
       "    <tr>\n",
       "      <th>7</th>\n",
       "      <td>Multiplaza Aragón</td>\n",
       "      <td>Ecatepec de Morelos</td>\n",
       "      <td>19.530644</td>\n",
       "      <td>-99.028458</td>\n",
       "      <td>Edo. de México</td>\n",
       "    </tr>\n",
       "    <tr>\n",
       "      <th>8</th>\n",
       "      <td>Toreo Parque Central</td>\n",
       "      <td>Naucalpan de Juárez</td>\n",
       "      <td>19.454400</td>\n",
       "      <td>-99.218174</td>\n",
       "      <td>Edo. de México</td>\n",
       "    </tr>\n",
       "    <tr>\n",
       "      <th>9</th>\n",
       "      <td>Centro SantaFe</td>\n",
       "      <td>Cuajimalpa de Morelos</td>\n",
       "      <td>19.360861</td>\n",
       "      <td>-99.272838</td>\n",
       "      <td>Distrito Federal</td>\n",
       "    </tr>\n",
       "  </tbody>\n",
       "</table>\n",
       "</div>"
      ],
      "text/plain": [
       "         centro_comercial                 ciudad        lat         lng  \\\n",
       "0                 Perisur               Coyoacán  19.303899  -99.189435   \n",
       "1         Parque Tezontle             Iztapalapa  19.383660  -99.082329   \n",
       "2     Las Américas Cancún                 Cancún  21.147655  -86.823800   \n",
       "3  Antea LifeStyle Center              Querétaro  20.674103 -100.435181   \n",
       "4                 Andarés                Zapopan  20.710305 -103.412591   \n",
       "5          Plaza Satélite    Naucalpan de Juárez  19.510331  -99.235556   \n",
       "6        Forum Buenavista             Cuauhtémoc  19.449796  -99.151794   \n",
       "7       Multiplaza Aragón    Ecatepec de Morelos  19.530644  -99.028458   \n",
       "8    Toreo Parque Central    Naucalpan de Juárez  19.454400  -99.218174   \n",
       "9          Centro SantaFe  Cuajimalpa de Morelos  19.360861  -99.272838   \n",
       "\n",
       "          provincia  \n",
       "0  Distrito Federal  \n",
       "1  Distrito Federal  \n",
       "2      Quintana Roo  \n",
       "3         Querétaro  \n",
       "4           Jalisco  \n",
       "5    Edo. de México  \n",
       "6  Distrito Federal  \n",
       "7    Edo. de México  \n",
       "8    Edo. de México  \n",
       "9  Distrito Federal  "
      ]
     },
     "execution_count": 7,
     "metadata": {},
     "output_type": "execute_result"
    }
   ],
   "source": [
    "data_centros={'centro_comercial':['Perisur','Parque Tezontle','Las Américas Cancún','Antea LifeStyle Center','Andarés','Plaza Satélite','Forum Buenavista','Multiplaza Aragón','Toreo Parque Central','Centro SantaFe'],'ciudad':['Coyoacán','Iztapalapa','Cancún','Querétaro','Zapopan','Naucalpan de Juárez','Cuauhtémoc','Ecatepec de Morelos','Naucalpan de Juárez','Cuajimalpa de Morelos'],'provincia':['Distrito Federal','Distrito Federal','Quintana Roo','Querétaro','Jalisco','Edo. de México','Distrito Federal','Edo. de México','Edo. de México','Distrito Federal'],'lat':[19.303899,19.38366,21.147655,20.674103,20.710305,19.510331,19.449796,19.530644,19.454400,19.360861],'lng':[-99.189435,-99.082329,-86.823800,-100.435181,-103.412591,-99.235556,-99.151794,-99.028458,-99.218174,-99.272838]}\n",
    "centros_comerciales_df=pd.DataFrame(data_centros)\n",
    "centros_comerciales_df"
   ]
  },
  {
   "cell_type": "code",
   "execution_count": 8,
   "metadata": {},
   "outputs": [],
   "source": [
    "def haversine(lon1, lat1, lon2, lat2):\n",
    "    \n",
    "    lon1, lat1, lon2, lat2 = map(radians, [lon1, lat1, lon2, lat2])\n",
    "\n",
    "    dlon = lon2 - lon1 \n",
    "    dlat = lat2 - lat1 \n",
    "    a = sin(dlat/2)**2 + cos(lat1) * cos(lat2) * sin(dlon/2)**2\n",
    "    c = 2 * asin(sqrt(a)) \n",
    "    r = 6371\n",
    "    return c * r"
   ]
  },
  {
   "cell_type": "code",
   "execution_count": 9,
   "metadata": {},
   "outputs": [],
   "source": [
    "def CercaniaCentrosImportantes(lng,lat,CentrosComercialesCercanos):\n",
    "    cantidad_centros_importantes=0\n",
    "    if(CentrosComercialesCercanos==1):\n",
    "        for fila in centros_comerciales_df.iterrows():\n",
    "            if(haversine(lng,lat,fila[1][3],fila[1][2])<10):\n",
    "                cantidad_centros_importantes=cantidad_centros_importantes+1\n",
    "    return cantidad_centros_importantes          "
   ]
  },
  {
   "cell_type": "code",
   "execution_count": 10,
   "metadata": {},
   "outputs": [],
   "source": [
    "#Función que establece si una ciudad se encuentra en la capital del estado\n",
    "def EstaEnCapital(Ciudad):\n",
    "    for capital in capitales:\n",
    "        if(Ciudad==capital):\n",
    "            return 1\n",
    "    return 0"
   ]
  },
  {
   "cell_type": "code",
   "execution_count": 11,
   "metadata": {},
   "outputs": [],
   "source": [
    "#Función que establece si una ciudad se encuentra en la zona metropolitana\n",
    "def EnQueZonaMetropolitanaEsta(Ciudad,Provincia):\n",
    "    if(Provincia=='Tijuana'):\n",
    "        return 'Tijuana'\n",
    "    for ciudad_metropolitana in zona_metropolitana_valle:\n",
    "        if(Ciudad==ciudad_metropolitana):\n",
    "            return 'Valle'\n",
    "    for ciudad_metropolitana in zona_metropolitana_guadalajara:\n",
    "        if(Ciudad==ciudad_metropolitana):\n",
    "            return 'Guadalajara'\n",
    "    for ciudad_metropolitana in zona_metropolitana_monterrey:\n",
    "        if(Ciudad==ciudad_metropolitana):\n",
    "            return 'Monterrey'\n",
    "    for ciudad_metropolitana in zona_metropolitana_puebla_texaca:\n",
    "        if(Ciudad==ciudad_metropolitana):\n",
    "            return 'Puebla_Texaca'\n",
    "    for ciudad_metropolitana in zona_metropolitana_toluca:\n",
    "        if(Ciudad==ciudad_metropolitana):\n",
    "            return 'Toluca'\n",
    "    for ciudad_metropolitana in zona_metropolitana_laguna:\n",
    "        if(Ciudad==ciudad_metropolitana):\n",
    "            return 'Laguna'\n",
    "    for ciudad_metropolitana in zona_metropolitana_queretaro:\n",
    "        if(Ciudad==ciudad_metropolitana):\n",
    "            return 'Queretaro'\n",
    "    return 'No_Esta'"
   ]
  },
  {
   "cell_type": "code",
   "execution_count": 12,
   "metadata": {},
   "outputs": [],
   "source": [
    "def EstaCoronaRegional(Provincia):\n",
    "    for provincia_corona in corona_regional:\n",
    "        if(Provincia==provincia_corona):\n",
    "            return 1\n",
    "    return 0"
   ]
  },
  {
   "cell_type": "code",
   "execution_count": 13,
   "metadata": {},
   "outputs": [],
   "source": [
    "#Función que establece si una ciudad se encuentra en la zona turistica\n",
    "def EstaEnZonaTuristica(Ciudad,Provincia):\n",
    "    if(Provincia=='Distrito Federal'):\n",
    "        return 1\n",
    "    for ciudad_turistica in cuidades_turisticas:\n",
    "        if(Ciudad==ciudad_turistica):\n",
    "            return 1\n",
    "    return 0"
   ]
  },
  {
   "cell_type": "code",
   "execution_count": 14,
   "metadata": {},
   "outputs": [],
   "source": [
    "def EstaProvinciaCara(Provincia):\n",
    "    for provincia_cara in top_provincias_caras:\n",
    "        if(Provincia==provincia_cara):\n",
    "            return 1\n",
    "    return 0  "
   ]
  },
  {
   "cell_type": "code",
   "execution_count": 15,
   "metadata": {},
   "outputs": [],
   "source": [
    "def EstaCiudadCara(Ciudad):\n",
    "    for ciudad_cara in top_ciudades_caras:\n",
    "        if(Ciudad==ciudad_cara):\n",
    "            return 1\n",
    "    return 0    "
   ]
  },
  {
   "cell_type": "code",
   "execution_count": 16,
   "metadata": {},
   "outputs": [],
   "source": [
    "def oneHotEncoding(df, columna):\n",
    "    one_hot = pd.get_dummies(df[columna])\n",
    "    df.drop(columna, axis=1, inplace=True)\n",
    "    df = pd.concat([df, one_hot], axis=1)\n",
    "    return df"
   ]
  },
  {
   "cell_type": "code",
   "execution_count": 17,
   "metadata": {},
   "outputs": [],
   "source": [
    "#Creamos una función que según el mes y el dia, nos devuelve en que estación se encuentra\n",
    "def fechaEstacion(mes,dia):\n",
    "    if((mes==1) | (mes==2)):\n",
    "        return 'Invierno'\n",
    "    if(mes==3):\n",
    "        if(dia<21):\n",
    "            return 'Invierno'\n",
    "        if(dia>=21):\n",
    "            return 'Primavera'\n",
    "    if((mes==4) | (mes==5)):\n",
    "        return 'Primavera'\n",
    "    if(mes==6):\n",
    "        if(dia<21):\n",
    "            return 'Primavera'\n",
    "        if(dia>=21):\n",
    "            return 'Verano'\n",
    "    if((mes==7) | (mes==8)):\n",
    "        return 'Verano'\n",
    "    if(mes==9):\n",
    "        if(dia<21):\n",
    "            return 'Verano'\n",
    "        if(dia>=21):\n",
    "            return 'Otonio'\n",
    "    if((mes==10) | (mes==11)):\n",
    "        return 'Otonio'\n",
    "    if(mes==12):\n",
    "        if(dia<21):\n",
    "            return 'Otonio'\n",
    "        if(dia>=21):\n",
    "            return 'Invierno'"
   ]
  },
  {
   "cell_type": "code",
   "execution_count": 18,
   "metadata": {},
   "outputs": [],
   "source": [
    "#Por cada provincia devuelvo la latitud promedio\n",
    "def CambiarLatitud(provincia):\n",
    "     if(provincia=='Distrito Federal'):\n",
    "        return distrito['lat'].mean()\n",
    "     if(provincia=='Edo. de México'):\n",
    "        return estado['lat'].mean()\n",
    "     if(provincia=='Jalisco'):\n",
    "        return jalisco['lat'].mean()\n",
    "     if(provincia=='Querétaro'):\n",
    "        return queretaro['lat'].mean()\n",
    "     if(provincia=='Nuevo León'):\n",
    "        return nuevo_leon['lat'].mean()\n",
    "     if(provincia=='Puebla'):\n",
    "        return puebla['lat'].mean()\n",
    "     if(provincia=='San luis Potosí'):\n",
    "        return san_luis['lat'].mean()\n",
    "     if(provincia=='Yucatán'):\n",
    "        return yucatan['lat'].mean()\n",
    "     if(provincia=='Morelos'):\n",
    "        return morelos['lat'].mean()\n",
    "     if(provincia=='Veracruz'):\n",
    "        return veracruz['lat'].mean()\n",
    "     if(provincia=='Quintana Roo'):\n",
    "        return quintara_roo['lat'].mean()\n",
    "     if(provincia=='Chihuahua'):\n",
    "        return chihuahua['lat'].mean()\n",
    "     if(provincia=='Coahuila'):\n",
    "        return coahuila['lat'].mean()\n",
    "     if(provincia=='Baja California Norte'):\n",
    "        return baja_california_norte['lat'].mean()\n",
    "     if(provincia=='Baja California Sur'):\n",
    "        return baja_california_sur['lat'].mean()\n",
    "     if(provincia=='Sonora'):\n",
    "        return sonora['lat'].mean()\n",
    "     if(provincia=='Guanajuato'):\n",
    "        return guanajuato['lat'].mean()\n",
    "     if(provincia=='Guerrero'):\n",
    "        return guerrero['lat'].mean()\n",
    "     if(provincia=='Hidalgo'):\n",
    "        return hidalgo['lat'].mean()\n",
    "     if(provincia=='Michoacán'):\n",
    "        return michoacan['lat'].mean()\n",
    "     if(provincia=='Tamaulipas'):\n",
    "        return tamaulipas['lat'].mean()\n",
    "     if(provincia=='Durango'):\n",
    "        return durango['lat'].mean()\n",
    "     if(provincia=='Sinaloa'):\n",
    "        return sinaloa['lat'].mean()\n",
    "     if(provincia=='Aguascalientes'):\n",
    "        return aguascalientes['lat'].mean()\n",
    "     if(provincia=='Nayarit'):\n",
    "        return nayarit['lat'].mean()\n",
    "     if(provincia=='Chiapas'):\n",
    "        return chiapas['lat'].mean()\n",
    "     if(provincia=='Colima'):\n",
    "        return colima['lat'].mean()\n",
    "     if(provincia=='Tabasco'):\n",
    "        return tabasco['lat'].mean()\n",
    "     if(provincia=='Tlaxcala'):\n",
    "        return tlaxcala['lat'].mean()\n",
    "     if(provincia=='Oaxaca'):\n",
    "        return oaxaca['lat'].mean()\n",
    "     if(provincia=='Campeche'):\n",
    "        return campeche['lat'].mean()\n",
    "     if(provincia=='Zacatecas'):\n",
    "        return zacatecas['lat'].mean()\n",
    "     if(provincia==''):\n",
    "        return 0"
   ]
  },
  {
   "cell_type": "code",
   "execution_count": 19,
   "metadata": {},
   "outputs": [],
   "source": [
    "#Por cada provincia devuelvo la longitud promedio\n",
    "def CambiarLongitud(provincia):\n",
    "     if(provincia=='Distrito Federal'):\n",
    "        return distrito['lng'].mean()\n",
    "     if(provincia=='Edo. de México'):\n",
    "        return estado['lng'].mean()\n",
    "     if(provincia=='Jalisco'):\n",
    "        return jalisco['lng'].mean()\n",
    "     if(provincia=='Querétaro'):\n",
    "        return queretaro['lng'].mean()\n",
    "     if(provincia=='Nuevo León'):\n",
    "        return nuevo_leon['lng'].mean()\n",
    "     if(provincia=='Puebla'):\n",
    "        return puebla['lng'].mean()\n",
    "     if(provincia=='San luis Potosí'):\n",
    "        return san_luis['lng'].mean()\n",
    "     if(provincia=='Yucatán'):\n",
    "        return yucatan['lng'].mean()\n",
    "     if(provincia=='Morelos'):\n",
    "        return morelos['lng'].mean()\n",
    "     if(provincia=='Veracruz'):\n",
    "        return veracruz['lng'].mean()\n",
    "     if(provincia=='Quintana Roo'):\n",
    "        return quintara_roo['lng'].mean()\n",
    "     if(provincia=='Chihuahua'):\n",
    "        return chihuahua['lng'].mean()\n",
    "     if(provincia=='Coahuila'):\n",
    "        return coahuila['lng'].mean()\n",
    "     if(provincia=='Baja California Norte'):\n",
    "        return baja_california_norte['lng'].mean()\n",
    "     if(provincia=='Baja California Sur'):\n",
    "        return baja_california_sur['lng'].mean()\n",
    "     if(provincia=='Sonora'):\n",
    "        return sonora['lng'].mean()\n",
    "     if(provincia=='Guanajuato'):\n",
    "        return guanajuato['lng'].mean()\n",
    "     if(provincia=='Guerrero'):\n",
    "        return guerrero['lng'].mean()\n",
    "     if(provincia=='Hidalgo'):\n",
    "        return hidalgo['lng'].mean()\n",
    "     if(provincia=='Michoacán'):\n",
    "        return michoacan['lng'].mean()\n",
    "     if(provincia=='Tamaulipas'):\n",
    "        return tamaulipas['lng'].mean()\n",
    "     if(provincia=='Durango'):\n",
    "        return durango['lng'].mean()\n",
    "     if(provincia=='Sinaloa'):\n",
    "        return sinaloa['lng'].mean()\n",
    "     if(provincia=='Aguascalientes'):\n",
    "        return aguascalientes['lng'].mean()\n",
    "     if(provincia=='Nayarit'):\n",
    "        return nayarit['lng'].mean()\n",
    "     if(provincia=='Chiapas'):\n",
    "        return chiapas['lng'].mean()\n",
    "     if(provincia=='Colima'):\n",
    "        return colima['lng'].mean()\n",
    "     if(provincia=='Tabasco'):\n",
    "        return tabasco['lng'].mean()\n",
    "     if(provincia=='Tlaxcala'):\n",
    "        return tlaxcala['lng'].mean()\n",
    "     if(provincia=='Oaxaca'):\n",
    "        return oaxaca['lng'].mean()\n",
    "     if(provincia=='Campeche'):\n",
    "        return campeche['lng'].mean()\n",
    "     if(provincia=='Zacatecas'):\n",
    "        return zacatecas['lng'].mean()\n",
    "     if(provincia==''):\n",
    "        return 0"
   ]
  },
  {
   "cell_type": "code",
   "execution_count": 20,
   "metadata": {
    "scrolled": false
   },
   "outputs": [
    {
     "data": {
      "text/html": [
       "<div>\n",
       "<style scoped>\n",
       "    .dataframe tbody tr th:only-of-type {\n",
       "        vertical-align: middle;\n",
       "    }\n",
       "\n",
       "    .dataframe tbody tr th {\n",
       "        vertical-align: top;\n",
       "    }\n",
       "\n",
       "    .dataframe thead th {\n",
       "        text-align: right;\n",
       "    }\n",
       "</style>\n",
       "<table border=\"1\" class=\"dataframe\">\n",
       "  <thead>\n",
       "    <tr style=\"text-align: right;\">\n",
       "      <th></th>\n",
       "      <th>id</th>\n",
       "      <th>titulo</th>\n",
       "      <th>descripcion</th>\n",
       "      <th>tipodepropiedad</th>\n",
       "      <th>direccion</th>\n",
       "      <th>ciudad</th>\n",
       "      <th>provincia</th>\n",
       "      <th>antiguedad</th>\n",
       "      <th>habitaciones</th>\n",
       "      <th>garages</th>\n",
       "      <th>...</th>\n",
       "      <th>usosmultiples</th>\n",
       "      <th>piscina</th>\n",
       "      <th>escuelascercanas</th>\n",
       "      <th>centroscomercialescercanos</th>\n",
       "      <th>precio</th>\n",
       "      <th>Fecha</th>\n",
       "      <th>Anio</th>\n",
       "      <th>Mes</th>\n",
       "      <th>Dia</th>\n",
       "      <th>Estacion</th>\n",
       "    </tr>\n",
       "  </thead>\n",
       "  <tbody>\n",
       "    <tr>\n",
       "      <th>0</th>\n",
       "      <td>254099</td>\n",
       "      <td>depto. tipo a-402</td>\n",
       "      <td>depto. interior de 80.15m2, consta de sala com...</td>\n",
       "      <td>Apartamento</td>\n",
       "      <td>Avenida Division del Norte 2005</td>\n",
       "      <td>Benito Juárez</td>\n",
       "      <td>Distrito Federal</td>\n",
       "      <td>NaN</td>\n",
       "      <td>2.0</td>\n",
       "      <td>1.0</td>\n",
       "      <td>...</td>\n",
       "      <td>0.0</td>\n",
       "      <td>0.0</td>\n",
       "      <td>0.0</td>\n",
       "      <td>0.0</td>\n",
       "      <td>2273000.0</td>\n",
       "      <td>2015-08-23</td>\n",
       "      <td>2015</td>\n",
       "      <td>8</td>\n",
       "      <td>23</td>\n",
       "      <td>Verano</td>\n",
       "    </tr>\n",
       "    <tr>\n",
       "      <th>1</th>\n",
       "      <td>53461</td>\n",
       "      <td>condominio horizontal en venta</td>\n",
       "      <td>&lt;p&gt;entre sonora y guerrero, atr&amp;aacute;s del h...</td>\n",
       "      <td>Casa en condominio</td>\n",
       "      <td>AV. MEXICO</td>\n",
       "      <td>La Magdalena Contreras</td>\n",
       "      <td>Distrito Federal</td>\n",
       "      <td>10.0</td>\n",
       "      <td>3.0</td>\n",
       "      <td>2.0</td>\n",
       "      <td>...</td>\n",
       "      <td>0.0</td>\n",
       "      <td>0.0</td>\n",
       "      <td>1.0</td>\n",
       "      <td>1.0</td>\n",
       "      <td>3600000.0</td>\n",
       "      <td>2013-06-28</td>\n",
       "      <td>2013</td>\n",
       "      <td>6</td>\n",
       "      <td>28</td>\n",
       "      <td>Verano</td>\n",
       "    </tr>\n",
       "    <tr>\n",
       "      <th>2</th>\n",
       "      <td>247984</td>\n",
       "      <td>casa en venta urbi 3 recamaras tonala</td>\n",
       "      <td>descripcion \\nla mejor ubicacion residencial e...</td>\n",
       "      <td>Casa</td>\n",
       "      <td>Urbi Tonala</td>\n",
       "      <td>Tonalá</td>\n",
       "      <td>Jalisco</td>\n",
       "      <td>5.0</td>\n",
       "      <td>3.0</td>\n",
       "      <td>2.0</td>\n",
       "      <td>...</td>\n",
       "      <td>0.0</td>\n",
       "      <td>0.0</td>\n",
       "      <td>0.0</td>\n",
       "      <td>0.0</td>\n",
       "      <td>1200000.0</td>\n",
       "      <td>2015-10-17</td>\n",
       "      <td>2015</td>\n",
       "      <td>10</td>\n",
       "      <td>17</td>\n",
       "      <td>Otonio</td>\n",
       "    </tr>\n",
       "    <tr>\n",
       "      <th>3</th>\n",
       "      <td>209067</td>\n",
       "      <td>casa sola en toluca zinacantepec con credito i...</td>\n",
       "      <td>casa en privada con caseta de vigilancia casas...</td>\n",
       "      <td>Casa</td>\n",
       "      <td>IGNACIO MANUEL ALTAMIRANO 128</td>\n",
       "      <td>Zinacantepec</td>\n",
       "      <td>Edo. de México</td>\n",
       "      <td>1.0</td>\n",
       "      <td>2.0</td>\n",
       "      <td>1.0</td>\n",
       "      <td>...</td>\n",
       "      <td>0.0</td>\n",
       "      <td>0.0</td>\n",
       "      <td>1.0</td>\n",
       "      <td>1.0</td>\n",
       "      <td>650000.0</td>\n",
       "      <td>2012-03-09</td>\n",
       "      <td>2012</td>\n",
       "      <td>3</td>\n",
       "      <td>9</td>\n",
       "      <td>Invierno</td>\n",
       "    </tr>\n",
       "    <tr>\n",
       "      <th>4</th>\n",
       "      <td>185997</td>\n",
       "      <td>paseos del sol</td>\n",
       "      <td>bonito departamento en excelentes condiciones ...</td>\n",
       "      <td>Apartamento</td>\n",
       "      <td>PASEOS DEL SOL</td>\n",
       "      <td>Zapopan</td>\n",
       "      <td>Jalisco</td>\n",
       "      <td>10.0</td>\n",
       "      <td>2.0</td>\n",
       "      <td>1.0</td>\n",
       "      <td>...</td>\n",
       "      <td>0.0</td>\n",
       "      <td>0.0</td>\n",
       "      <td>0.0</td>\n",
       "      <td>0.0</td>\n",
       "      <td>1150000.0</td>\n",
       "      <td>2016-06-07</td>\n",
       "      <td>2016</td>\n",
       "      <td>6</td>\n",
       "      <td>7</td>\n",
       "      <td>Primavera</td>\n",
       "    </tr>\n",
       "  </tbody>\n",
       "</table>\n",
       "<p>5 rows × 27 columns</p>\n",
       "</div>"
      ],
      "text/plain": [
       "       id                                             titulo  \\\n",
       "0  254099                                  depto. tipo a-402   \n",
       "1   53461                     condominio horizontal en venta   \n",
       "2  247984              casa en venta urbi 3 recamaras tonala   \n",
       "3  209067  casa sola en toluca zinacantepec con credito i...   \n",
       "4  185997                                     paseos del sol   \n",
       "\n",
       "                                         descripcion     tipodepropiedad  \\\n",
       "0  depto. interior de 80.15m2, consta de sala com...         Apartamento   \n",
       "1  <p>entre sonora y guerrero, atr&aacute;s del h...  Casa en condominio   \n",
       "2  descripcion \\nla mejor ubicacion residencial e...                Casa   \n",
       "3  casa en privada con caseta de vigilancia casas...                Casa   \n",
       "4  bonito departamento en excelentes condiciones ...         Apartamento   \n",
       "\n",
       "                         direccion                  ciudad         provincia  \\\n",
       "0  Avenida Division del Norte 2005           Benito Juárez  Distrito Federal   \n",
       "1                       AV. MEXICO  La Magdalena Contreras  Distrito Federal   \n",
       "2                      Urbi Tonala                  Tonalá           Jalisco   \n",
       "3    IGNACIO MANUEL ALTAMIRANO 128            Zinacantepec    Edo. de México   \n",
       "4                  PASEOS DEL SOL                  Zapopan           Jalisco   \n",
       "\n",
       "   antiguedad  habitaciones  garages    ...      usosmultiples  piscina  \\\n",
       "0         NaN           2.0      1.0    ...                0.0      0.0   \n",
       "1        10.0           3.0      2.0    ...                0.0      0.0   \n",
       "2         5.0           3.0      2.0    ...                0.0      0.0   \n",
       "3         1.0           2.0      1.0    ...                0.0      0.0   \n",
       "4        10.0           2.0      1.0    ...                0.0      0.0   \n",
       "\n",
       "   escuelascercanas  centroscomercialescercanos     precio      Fecha  Anio  \\\n",
       "0               0.0                         0.0  2273000.0 2015-08-23  2015   \n",
       "1               1.0                         1.0  3600000.0 2013-06-28  2013   \n",
       "2               0.0                         0.0  1200000.0 2015-10-17  2015   \n",
       "3               1.0                         1.0   650000.0 2012-03-09  2012   \n",
       "4               0.0                         0.0  1150000.0 2016-06-07  2016   \n",
       "\n",
       "   Mes  Dia   Estacion  \n",
       "0    8   23     Verano  \n",
       "1    6   28     Verano  \n",
       "2   10   17     Otonio  \n",
       "3    3    9   Invierno  \n",
       "4    6    7  Primavera  \n",
       "\n",
       "[5 rows x 27 columns]"
      ]
     },
     "execution_count": 20,
     "metadata": {},
     "output_type": "execute_result"
    }
   ],
   "source": [
    "train=pd.read_csv('train.csv')\n",
    "#Hacemos la conversión de fechas\n",
    "train['Fecha']=pd.to_datetime(train['fecha'])\n",
    "train.drop(columns={'fecha'},inplace=True)\n",
    "train['Anio']=train['Fecha'].dt.year\n",
    "train['Mes']=train['Fecha'].dt.month\n",
    "train['Dia']=train['Fecha'].dt.day\n",
    "train['Estacion']=train.apply(lambda x: fechaEstacion(x['Mes'],x['Dia']),axis=1)\n",
    "train.head()"
   ]
  },
  {
   "cell_type": "code",
   "execution_count": 21,
   "metadata": {},
   "outputs": [],
   "source": [
    "precio_promedio_provincia=train.groupby(['provincia']).agg({'precio':'mean'}).sort_values(by='precio',ascending=False)\n",
    "precio_promedio_provincia.rename(columns={'precio':'precio_promedio_provincia'},inplace=True)\n",
    "top_provincias_caras=precio_promedio_provincia.head(10).index"
   ]
  },
  {
   "cell_type": "code",
   "execution_count": 22,
   "metadata": {},
   "outputs": [],
   "source": [
    "train['Esta_Capital']=train['ciudad'].apply(EstaEnCapital)\n",
    "train['Esta_Provincia_Cara']=train['provincia'].apply(EstaProvinciaCara)\n",
    "train['Estacion']=train.apply(lambda x: fechaEstacion(x['Mes'],x['Dia']),axis=1)\n",
    "train['Esta_Zona_Turistica']=train.apply(lambda x: EstaEnZonaTuristica(x['ciudad'],x['provincia']),axis=1)\n",
    "train['Zona_Metropolitana']=train.apply(lambda x: EnQueZonaMetropolitanaEsta(x['ciudad'],x['provincia']),axis=1)\n",
    "train['Corona_Regional']=train['provincia'].apply(EstaCoronaRegional)\n",
    "train['Cantidad_Centros_Cercanos']=train.apply(lambda x: CercaniaCentrosImportantes(x['lng'],x['lat'],x['centroscomercialescercanos']),axis=1)"
   ]
  },
  {
   "cell_type": "code",
   "execution_count": 23,
   "metadata": {},
   "outputs": [],
   "source": [
    "target_enc = ce.TargetEncoder(train['ciudad'])\n",
    "\n",
    "# Fit the encoder using the categorical features and target\n",
    "target_enc.fit(train['ciudad'], train['precio'])\n",
    "\n",
    "# Transform the features, rename the columns with _target suffix, and join to dataframe\n",
    "train = train.join(target_enc.transform(train['ciudad']).add_suffix('_target'))\n",
    "\n",
    "train = train.drop('ciudad', axis=1)"
   ]
  },
  {
   "cell_type": "code",
   "execution_count": 24,
   "metadata": {},
   "outputs": [],
   "source": [
    "trainAux = train.copy()\n",
    "trainAux.dropna(subset=[\"titulo\"],inplace=True)\n",
    "\n",
    "titulos = trainAux[\"titulo\"]\n",
    "del trainAux"
   ]
  },
  {
   "cell_type": "code",
   "execution_count": 25,
   "metadata": {},
   "outputs": [],
   "source": [
    "spanish_stopwords = stopwords.words('spanish')\n",
    "stemmer = SnowballStemmer('spanish')\n",
    "\n",
    "tipos = ['casa','apartamento','condominio','terreno','local','oficina','bodega','edificio','comercial','quinta','duplex','rancho','departamento','nave','industrial','lote','hospedaje','garage','venta','vende','mexico','dept','departamento','Casa','dept.','departamentos','Mexico','vendo','depto','depto.']\n",
    "spanish_stopwords.extend(tipos)"
   ]
  },
  {
   "cell_type": "code",
   "execution_count": 26,
   "metadata": {},
   "outputs": [],
   "source": [
    "def stem_tokens(tokens, stemmer):\n",
    "    stemmed = []\n",
    "    for item in tokens:\n",
    "        stemmed.append(stemmer.stem(item))\n",
    "    return stemmed"
   ]
  },
  {
   "cell_type": "code",
   "execution_count": 27,
   "metadata": {},
   "outputs": [],
   "source": [
    "palabras=[]\n",
    "for row in titulos:\n",
    "    row =row.lower()\n",
    "    row=filter(None, re.split(\"[, \\-!?:._¡¿'`<>;()+]\", row))\n",
    "    for palabra in row:\n",
    "        if len(palabra)<4: #saco conectores\n",
    "            continue\n",
    "        if palabra not in spanish_stopwords:\n",
    "            palabras.append(palabra)"
   ]
  },
  {
   "cell_type": "code",
   "execution_count": 28,
   "metadata": {},
   "outputs": [],
   "source": [
    "stems = stem_tokens(palabras, stemmer)\n",
    "contador = Counter(stems)\n",
    "palabrasComunes = contador.most_common(60)"
   ]
  },
  {
   "cell_type": "code",
   "execution_count": 29,
   "metadata": {},
   "outputs": [],
   "source": [
    "columnas_nuevas = []\n",
    "for elemento in palabrasComunes:\n",
    "    columnas_nuevas.append(elemento[0])"
   ]
  },
  {
   "cell_type": "code",
   "execution_count": 30,
   "metadata": {},
   "outputs": [],
   "source": [
    "del titulos\n",
    "del palabras\n",
    "del contador\n",
    "del palabrasComunes"
   ]
  },
  {
   "cell_type": "code",
   "execution_count": 31,
   "metadata": {},
   "outputs": [],
   "source": [
    "for columna in columnas_nuevas:\n",
    "    train[columna]=train.titulo.str.lower().str.contains(columna)"
   ]
  },
  {
   "cell_type": "code",
   "execution_count": 32,
   "metadata": {},
   "outputs": [],
   "source": [
    "train.dropna(subset=['tipodepropiedad','provincia'],inplace=True)"
   ]
  },
  {
   "cell_type": "code",
   "execution_count": 33,
   "metadata": {},
   "outputs": [
    {
     "data": {
      "text/html": [
       "<div>\n",
       "<style scoped>\n",
       "    .dataframe tbody tr th:only-of-type {\n",
       "        vertical-align: middle;\n",
       "    }\n",
       "\n",
       "    .dataframe tbody tr th {\n",
       "        vertical-align: top;\n",
       "    }\n",
       "\n",
       "    .dataframe thead th {\n",
       "        text-align: right;\n",
       "    }\n",
       "</style>\n",
       "<table border=\"1\" class=\"dataframe\">\n",
       "  <thead>\n",
       "    <tr style=\"text-align: right;\">\n",
       "      <th></th>\n",
       "      <th>id</th>\n",
       "      <th>titulo</th>\n",
       "      <th>descripcion</th>\n",
       "      <th>tipodepropiedad</th>\n",
       "      <th>direccion</th>\n",
       "      <th>provincia</th>\n",
       "      <th>antiguedad</th>\n",
       "      <th>habitaciones</th>\n",
       "      <th>garages</th>\n",
       "      <th>banos</th>\n",
       "      <th>...</th>\n",
       "      <th>puebl</th>\n",
       "      <th>mer</th>\n",
       "      <th>benit</th>\n",
       "      <th>morel</th>\n",
       "      <th>luj</th>\n",
       "      <th>buen</th>\n",
       "      <th>club</th>\n",
       "      <th>acab</th>\n",
       "      <th>cerr</th>\n",
       "      <th>Zona</th>\n",
       "    </tr>\n",
       "  </thead>\n",
       "  <tbody>\n",
       "    <tr>\n",
       "      <th>0</th>\n",
       "      <td>254099</td>\n",
       "      <td>depto. tipo a-402</td>\n",
       "      <td>depto. interior de 80.15m2, consta de sala com...</td>\n",
       "      <td>Apartamento</td>\n",
       "      <td>Avenida Division del Norte 2005</td>\n",
       "      <td>Distrito Federal</td>\n",
       "      <td>NaN</td>\n",
       "      <td>2.0</td>\n",
       "      <td>1.0</td>\n",
       "      <td>2.0</td>\n",
       "      <td>...</td>\n",
       "      <td>False</td>\n",
       "      <td>False</td>\n",
       "      <td>False</td>\n",
       "      <td>False</td>\n",
       "      <td>False</td>\n",
       "      <td>False</td>\n",
       "      <td>False</td>\n",
       "      <td>False</td>\n",
       "      <td>False</td>\n",
       "      <td>centro_sur</td>\n",
       "    </tr>\n",
       "    <tr>\n",
       "      <th>1</th>\n",
       "      <td>53461</td>\n",
       "      <td>condominio horizontal en venta</td>\n",
       "      <td>&lt;p&gt;entre sonora y guerrero, atr&amp;aacute;s del h...</td>\n",
       "      <td>Casa en condominio</td>\n",
       "      <td>AV. MEXICO</td>\n",
       "      <td>Distrito Federal</td>\n",
       "      <td>10.0</td>\n",
       "      <td>3.0</td>\n",
       "      <td>2.0</td>\n",
       "      <td>2.0</td>\n",
       "      <td>...</td>\n",
       "      <td>False</td>\n",
       "      <td>False</td>\n",
       "      <td>False</td>\n",
       "      <td>False</td>\n",
       "      <td>False</td>\n",
       "      <td>False</td>\n",
       "      <td>False</td>\n",
       "      <td>False</td>\n",
       "      <td>False</td>\n",
       "      <td>centro_sur</td>\n",
       "    </tr>\n",
       "    <tr>\n",
       "      <th>2</th>\n",
       "      <td>126147</td>\n",
       "      <td>departamento en venta taxqueña</td>\n",
       "      <td>amplio departamento, estancia de sala y comedo...</td>\n",
       "      <td>Apartamento</td>\n",
       "      <td>Condominio Tlalpan 2B</td>\n",
       "      <td>Distrito Federal</td>\n",
       "      <td>5.0</td>\n",
       "      <td>2.0</td>\n",
       "      <td>1.0</td>\n",
       "      <td>1.0</td>\n",
       "      <td>...</td>\n",
       "      <td>False</td>\n",
       "      <td>False</td>\n",
       "      <td>False</td>\n",
       "      <td>False</td>\n",
       "      <td>False</td>\n",
       "      <td>False</td>\n",
       "      <td>False</td>\n",
       "      <td>False</td>\n",
       "      <td>False</td>\n",
       "      <td>centro_sur</td>\n",
       "    </tr>\n",
       "    <tr>\n",
       "      <th>3</th>\n",
       "      <td>130216</td>\n",
       "      <td>casa matias romero - sión bancaria</td>\n",
       "      <td>flamante casa habitación en condominio horizon...</td>\n",
       "      <td>Casa</td>\n",
       "      <td>MATIAS ROMERO, COLONIA DEL VALLE</td>\n",
       "      <td>Distrito Federal</td>\n",
       "      <td>20.0</td>\n",
       "      <td>NaN</td>\n",
       "      <td>0.0</td>\n",
       "      <td>NaN</td>\n",
       "      <td>...</td>\n",
       "      <td>False</td>\n",
       "      <td>True</td>\n",
       "      <td>False</td>\n",
       "      <td>False</td>\n",
       "      <td>False</td>\n",
       "      <td>False</td>\n",
       "      <td>False</td>\n",
       "      <td>False</td>\n",
       "      <td>False</td>\n",
       "      <td>centro_sur</td>\n",
       "    </tr>\n",
       "    <tr>\n",
       "      <th>4</th>\n",
       "      <td>73348</td>\n",
       "      <td>oportunidad, departamento col del valle, 3 rec...</td>\n",
       "      <td>magnifico departamento con excelente distribuc...</td>\n",
       "      <td>Apartamento</td>\n",
       "      <td>Pazaje Santa Cruz</td>\n",
       "      <td>Distrito Federal</td>\n",
       "      <td>5.0</td>\n",
       "      <td>3.0</td>\n",
       "      <td>2.0</td>\n",
       "      <td>NaN</td>\n",
       "      <td>...</td>\n",
       "      <td>False</td>\n",
       "      <td>False</td>\n",
       "      <td>False</td>\n",
       "      <td>False</td>\n",
       "      <td>False</td>\n",
       "      <td>True</td>\n",
       "      <td>False</td>\n",
       "      <td>False</td>\n",
       "      <td>False</td>\n",
       "      <td>centro_sur</td>\n",
       "    </tr>\n",
       "  </tbody>\n",
       "</table>\n",
       "<p>5 rows × 94 columns</p>\n",
       "</div>"
      ],
      "text/plain": [
       "       id                                             titulo  \\\n",
       "0  254099                                  depto. tipo a-402   \n",
       "1   53461                     condominio horizontal en venta   \n",
       "2  126147                     departamento en venta taxqueña   \n",
       "3  130216                 casa matias romero - sión bancaria   \n",
       "4   73348  oportunidad, departamento col del valle, 3 rec...   \n",
       "\n",
       "                                         descripcion     tipodepropiedad  \\\n",
       "0  depto. interior de 80.15m2, consta de sala com...         Apartamento   \n",
       "1  <p>entre sonora y guerrero, atr&aacute;s del h...  Casa en condominio   \n",
       "2  amplio departamento, estancia de sala y comedo...         Apartamento   \n",
       "3  flamante casa habitación en condominio horizon...                Casa   \n",
       "4  magnifico departamento con excelente distribuc...         Apartamento   \n",
       "\n",
       "                          direccion         provincia  antiguedad  \\\n",
       "0   Avenida Division del Norte 2005  Distrito Federal         NaN   \n",
       "1                        AV. MEXICO  Distrito Federal        10.0   \n",
       "2             Condominio Tlalpan 2B  Distrito Federal         5.0   \n",
       "3  MATIAS ROMERO, COLONIA DEL VALLE  Distrito Federal        20.0   \n",
       "4                 Pazaje Santa Cruz  Distrito Federal         5.0   \n",
       "\n",
       "   habitaciones  garages  banos     ...      puebl    mer  benit  morel  \\\n",
       "0           2.0      1.0    2.0     ...      False  False  False  False   \n",
       "1           3.0      2.0    2.0     ...      False  False  False  False   \n",
       "2           2.0      1.0    1.0     ...      False  False  False  False   \n",
       "3           NaN      0.0    NaN     ...      False   True  False  False   \n",
       "4           3.0      2.0    NaN     ...      False  False  False  False   \n",
       "\n",
       "     luj   buen   club   acab   cerr        Zona  \n",
       "0  False  False  False  False  False  centro_sur  \n",
       "1  False  False  False  False  False  centro_sur  \n",
       "2  False  False  False  False  False  centro_sur  \n",
       "3  False  False  False  False  False  centro_sur  \n",
       "4  False   True  False  False  False  centro_sur  \n",
       "\n",
       "[5 rows x 94 columns]"
      ]
     },
     "execution_count": 33,
     "metadata": {},
     "output_type": "execute_result"
    }
   ],
   "source": [
    "train=pd.merge(train,zonas_df,on='provincia',how='inner')\n",
    "train.head()"
   ]
  },
  {
   "cell_type": "code",
   "execution_count": 34,
   "metadata": {},
   "outputs": [],
   "source": [
    "distrito=train[(train['provincia']=='Distrito Federal')]\n",
    "estado=train[(train['provincia']=='Edo. de México')]\n",
    "jalisco=train[(train['provincia']=='Jalisco')]\n",
    "queretaro=train[(train['provincia']=='Querétaro')]\n",
    "nuevo_leon=train[(train['provincia']=='Nuevo León')]\n",
    "puebla=train[(train['provincia']=='Puebla')]\n",
    "san_luis=train[(train['provincia']=='San luis Potosí')]\n",
    "yucatan=train[(train['provincia']=='Yucatán')]\n",
    "morelos=train[(train['provincia']=='Morelos')]\n",
    "veracruz=train[(train['provincia']=='Veracruz')]\n",
    "quintara_roo=train[(train['provincia']=='Quintana Roo')]\n",
    "chihuahua=train[(train['provincia']=='Chihuahua')]\n",
    "coahuila=train[(train['provincia']=='Coahuila')]\n",
    "baja_california_norte=train[(train['provincia']=='Baja California Norte')]\n",
    "baja_california_sur=train[(train['provincia']=='Baja California Sur')]\n",
    "sonora=train[(train['provincia']=='Sonora')]\n",
    "guanajuato=train[(train['provincia']=='Guanajuato')]\n",
    "guerrero=train[(train['provincia']=='Guerrero')]\n",
    "hidalgo=train[(train['provincia']=='Hidalgo')]\n",
    "michoacan=train[(train['provincia']=='Michoacán')]\n",
    "tamaulipas=train[(train['provincia']=='Tamaulipas')]\n",
    "durango=train[(train['provincia']=='Durango')]\n",
    "sinaloa=train[(train['provincia']=='Sinaloa')]\n",
    "aguascalientes=train[(train['provincia']=='Aguascalientes')]\n",
    "nayarit=train[(train['provincia']=='Nayarit')]\n",
    "chiapas=train[(train['provincia']=='Chiapas')]\n",
    "colima=train[(train['provincia']=='Colima')]\n",
    "tabasco=train[(train['provincia']=='Tabasco')]\n",
    "tlaxcala=train[(train['provincia']=='Tlaxcala')]\n",
    "oaxaca=train[(train['provincia']=='Oaxaca')]\n",
    "campeche=train[(train['provincia']=='Campeche')]\n",
    "zacatecas=train[(train['provincia']=='Zacatecas')]"
   ]
  },
  {
   "cell_type": "code",
   "execution_count": 35,
   "metadata": {},
   "outputs": [],
   "source": [
    "#Guardamos el promedio de las columnas para luego completar los NaNs\n",
    "mean_antiguedad=np.floor(train['antiguedad'].mean())\n",
    "mean_habitaciones=np.ceil(train['habitaciones'].mean())\n",
    "mean_garages=np.ceil(train['garages'].mean())\n",
    "mean_banos=np.floor(train['banos'].mean())\n",
    "mean_metroscubiertos=np.ceil(train['metroscubiertos'].mean())\n",
    "mean_metrostotales=np.ceil(train['metrostotales'].mean())\n",
    "mean_idzona=np.ceil(train['idzona'].mean())"
   ]
  },
  {
   "cell_type": "code",
   "execution_count": 36,
   "metadata": {},
   "outputs": [],
   "source": [
    "#Cambiamos el tipo de dato de algunas columnas para bajar el uso de memoria\n",
    "train['antiguedad']=train['antiguedad'].astype('int32',errors='ignore')\n",
    "train['habitaciones']=train['habitaciones'].astype('int32',errors='ignore')\n",
    "train['banos']=train['banos'].astype('int32',errors='ignore')\n",
    "train['gimnasio']=train['gimnasio'].astype('int32',errors='ignore')\n",
    "train['usosmultiples']=train['usosmultiples'].astype('int32',errors='ignore')\n",
    "train['piscina']=train['piscina'].astype('int32',errors='ignore')\n",
    "train['escuelascercanas']=train['escuelascercanas'].astype('int32',errors='ignore')\n",
    "train['centroscomercialescercanos']=train['centroscomercialescercanos'].astype('int32',errors='ignore')"
   ]
  },
  {
   "cell_type": "code",
   "execution_count": 37,
   "metadata": {},
   "outputs": [],
   "source": [
    "#Llenamos los NaNs con el promedio\n",
    "train[['antiguedad']]=train[['antiguedad']].fillna(value=mean_antiguedad)\n",
    "train[['habitaciones']]=train[['habitaciones']].fillna(value=mean_habitaciones)\n",
    "train[['garages']]=train[['garages']].fillna(value=mean_garages)\n",
    "train[['banos']]=train[['banos']].fillna(value=mean_banos)\n",
    "train[['metroscubiertos']]=train[['metroscubiertos']].fillna(value=mean_metroscubiertos)\n",
    "train[['metrostotales']]=train[['metrostotales']].fillna(value=mean_metrostotales)\n",
    "train[['idzona']]=train[['idzona']].fillna(value=mean_idzona)"
   ]
  },
  {
   "cell_type": "code",
   "execution_count": 38,
   "metadata": {},
   "outputs": [],
   "source": [
    "train['lat']=train['provincia'].apply(CambiarLatitud)\n",
    "train['lng']=train['provincia'].apply(CambiarLongitud)"
   ]
  },
  {
   "cell_type": "code",
   "execution_count": 39,
   "metadata": {},
   "outputs": [],
   "source": [
    "train = oneHotEncoding(train,'provincia')\n",
    "train = oneHotEncoding(train,'tipodepropiedad')\n",
    "train = oneHotEncoding(train,'Estacion')\n",
    "train = oneHotEncoding(train,'Zona')\n",
    "train = oneHotEncoding(train,'Zona_Metropolitana')"
   ]
  },
  {
   "cell_type": "code",
   "execution_count": 40,
   "metadata": {},
   "outputs": [
    {
     "data": {
      "text/html": [
       "<div>\n",
       "<style scoped>\n",
       "    .dataframe tbody tr th:only-of-type {\n",
       "        vertical-align: middle;\n",
       "    }\n",
       "\n",
       "    .dataframe tbody tr th {\n",
       "        vertical-align: top;\n",
       "    }\n",
       "\n",
       "    .dataframe thead th {\n",
       "        text-align: right;\n",
       "    }\n",
       "</style>\n",
       "<table border=\"1\" class=\"dataframe\">\n",
       "  <thead>\n",
       "    <tr style=\"text-align: right;\">\n",
       "      <th></th>\n",
       "      <th>antiguedad</th>\n",
       "      <th>habitaciones</th>\n",
       "      <th>garages</th>\n",
       "      <th>banos</th>\n",
       "      <th>metroscubiertos</th>\n",
       "      <th>metrostotales</th>\n",
       "      <th>idzona</th>\n",
       "      <th>lat</th>\n",
       "      <th>lng</th>\n",
       "      <th>gimnasio</th>\n",
       "      <th>...</th>\n",
       "      <th>sur_este</th>\n",
       "      <th>sur_oeste</th>\n",
       "      <th>Guadalajara</th>\n",
       "      <th>Laguna</th>\n",
       "      <th>Monterrey</th>\n",
       "      <th>No_Esta</th>\n",
       "      <th>Puebla_Texaca</th>\n",
       "      <th>Queretaro</th>\n",
       "      <th>Toluca</th>\n",
       "      <th>Valle</th>\n",
       "    </tr>\n",
       "  </thead>\n",
       "  <tbody>\n",
       "    <tr>\n",
       "      <th>0</th>\n",
       "      <td>8.0</td>\n",
       "      <td>2.0</td>\n",
       "      <td>1.0</td>\n",
       "      <td>2.0</td>\n",
       "      <td>80.0</td>\n",
       "      <td>80.0</td>\n",
       "      <td>23533.0</td>\n",
       "      <td>19.359628</td>\n",
       "      <td>-98.826768</td>\n",
       "      <td>0</td>\n",
       "      <td>...</td>\n",
       "      <td>0</td>\n",
       "      <td>0</td>\n",
       "      <td>0</td>\n",
       "      <td>0</td>\n",
       "      <td>0</td>\n",
       "      <td>0</td>\n",
       "      <td>0</td>\n",
       "      <td>0</td>\n",
       "      <td>0</td>\n",
       "      <td>1</td>\n",
       "    </tr>\n",
       "    <tr>\n",
       "      <th>1</th>\n",
       "      <td>10.0</td>\n",
       "      <td>3.0</td>\n",
       "      <td>2.0</td>\n",
       "      <td>2.0</td>\n",
       "      <td>268.0</td>\n",
       "      <td>180.0</td>\n",
       "      <td>24514.0</td>\n",
       "      <td>19.359628</td>\n",
       "      <td>-98.826768</td>\n",
       "      <td>0</td>\n",
       "      <td>...</td>\n",
       "      <td>0</td>\n",
       "      <td>0</td>\n",
       "      <td>0</td>\n",
       "      <td>0</td>\n",
       "      <td>0</td>\n",
       "      <td>0</td>\n",
       "      <td>0</td>\n",
       "      <td>0</td>\n",
       "      <td>0</td>\n",
       "      <td>1</td>\n",
       "    </tr>\n",
       "    <tr>\n",
       "      <th>2</th>\n",
       "      <td>5.0</td>\n",
       "      <td>2.0</td>\n",
       "      <td>1.0</td>\n",
       "      <td>1.0</td>\n",
       "      <td>75.0</td>\n",
       "      <td>90.0</td>\n",
       "      <td>23650.0</td>\n",
       "      <td>19.359628</td>\n",
       "      <td>-98.826768</td>\n",
       "      <td>0</td>\n",
       "      <td>...</td>\n",
       "      <td>0</td>\n",
       "      <td>0</td>\n",
       "      <td>0</td>\n",
       "      <td>0</td>\n",
       "      <td>0</td>\n",
       "      <td>0</td>\n",
       "      <td>0</td>\n",
       "      <td>0</td>\n",
       "      <td>0</td>\n",
       "      <td>1</td>\n",
       "    </tr>\n",
       "    <tr>\n",
       "      <th>3</th>\n",
       "      <td>20.0</td>\n",
       "      <td>3.0</td>\n",
       "      <td>0.0</td>\n",
       "      <td>2.0</td>\n",
       "      <td>227.0</td>\n",
       "      <td>185.0</td>\n",
       "      <td>50003995.0</td>\n",
       "      <td>19.359628</td>\n",
       "      <td>-98.826768</td>\n",
       "      <td>0</td>\n",
       "      <td>...</td>\n",
       "      <td>0</td>\n",
       "      <td>0</td>\n",
       "      <td>0</td>\n",
       "      <td>0</td>\n",
       "      <td>0</td>\n",
       "      <td>0</td>\n",
       "      <td>0</td>\n",
       "      <td>0</td>\n",
       "      <td>0</td>\n",
       "      <td>1</td>\n",
       "    </tr>\n",
       "    <tr>\n",
       "      <th>4</th>\n",
       "      <td>5.0</td>\n",
       "      <td>3.0</td>\n",
       "      <td>2.0</td>\n",
       "      <td>2.0</td>\n",
       "      <td>127.0</td>\n",
       "      <td>127.0</td>\n",
       "      <td>50003995.0</td>\n",
       "      <td>19.359628</td>\n",
       "      <td>-98.826768</td>\n",
       "      <td>0</td>\n",
       "      <td>...</td>\n",
       "      <td>0</td>\n",
       "      <td>0</td>\n",
       "      <td>0</td>\n",
       "      <td>0</td>\n",
       "      <td>0</td>\n",
       "      <td>0</td>\n",
       "      <td>0</td>\n",
       "      <td>0</td>\n",
       "      <td>0</td>\n",
       "      <td>1</td>\n",
       "    </tr>\n",
       "  </tbody>\n",
       "</table>\n",
       "<p>5 rows × 159 columns</p>\n",
       "</div>"
      ],
      "text/plain": [
       "   antiguedad  habitaciones  garages  banos  metroscubiertos  metrostotales  \\\n",
       "0         8.0           2.0      1.0    2.0             80.0           80.0   \n",
       "1        10.0           3.0      2.0    2.0            268.0          180.0   \n",
       "2         5.0           2.0      1.0    1.0             75.0           90.0   \n",
       "3        20.0           3.0      0.0    2.0            227.0          185.0   \n",
       "4         5.0           3.0      2.0    2.0            127.0          127.0   \n",
       "\n",
       "       idzona        lat        lng  gimnasio  ...    sur_este  sur_oeste  \\\n",
       "0     23533.0  19.359628 -98.826768         0  ...           0          0   \n",
       "1     24514.0  19.359628 -98.826768         0  ...           0          0   \n",
       "2     23650.0  19.359628 -98.826768         0  ...           0          0   \n",
       "3  50003995.0  19.359628 -98.826768         0  ...           0          0   \n",
       "4  50003995.0  19.359628 -98.826768         0  ...           0          0   \n",
       "\n",
       "   Guadalajara  Laguna  Monterrey  No_Esta  Puebla_Texaca  Queretaro  Toluca  \\\n",
       "0            0       0          0        0              0          0       0   \n",
       "1            0       0          0        0              0          0       0   \n",
       "2            0       0          0        0              0          0       0   \n",
       "3            0       0          0        0              0          0       0   \n",
       "4            0       0          0        0              0          0       0   \n",
       "\n",
       "   Valle  \n",
       "0      1  \n",
       "1      1  \n",
       "2      1  \n",
       "3      1  \n",
       "4      1  \n",
       "\n",
       "[5 rows x 159 columns]"
      ]
     },
     "execution_count": 40,
     "metadata": {},
     "output_type": "execute_result"
    }
   ],
   "source": [
    "train.drop(columns={'direccion','titulo','descripcion','Fecha','id','Dia'},inplace=True)\n",
    "train.head()"
   ]
  },
  {
   "cell_type": "code",
   "execution_count": 41,
   "metadata": {},
   "outputs": [
    {
     "data": {
      "text/html": [
       "<div>\n",
       "<style scoped>\n",
       "    .dataframe tbody tr th:only-of-type {\n",
       "        vertical-align: middle;\n",
       "    }\n",
       "\n",
       "    .dataframe tbody tr th {\n",
       "        vertical-align: top;\n",
       "    }\n",
       "\n",
       "    .dataframe thead th {\n",
       "        text-align: right;\n",
       "    }\n",
       "</style>\n",
       "<table border=\"1\" class=\"dataframe\">\n",
       "  <thead>\n",
       "    <tr style=\"text-align: right;\">\n",
       "      <th></th>\n",
       "      <th>antiguedad</th>\n",
       "      <th>habitaciones</th>\n",
       "      <th>garages</th>\n",
       "      <th>banos</th>\n",
       "      <th>metroscubiertos</th>\n",
       "      <th>metrostotales</th>\n",
       "      <th>idzona</th>\n",
       "      <th>lat</th>\n",
       "      <th>lng</th>\n",
       "      <th>gimnasio</th>\n",
       "      <th>...</th>\n",
       "      <th>sur_oeste</th>\n",
       "      <th>Guadalajara</th>\n",
       "      <th>Laguna</th>\n",
       "      <th>Monterrey</th>\n",
       "      <th>No_Esta</th>\n",
       "      <th>Puebla_Texaca</th>\n",
       "      <th>Queretaro</th>\n",
       "      <th>Toluca</th>\n",
       "      <th>Valle</th>\n",
       "      <th>metrosdescubiertos</th>\n",
       "    </tr>\n",
       "  </thead>\n",
       "  <tbody>\n",
       "    <tr>\n",
       "      <th>0</th>\n",
       "      <td>8.0</td>\n",
       "      <td>2.0</td>\n",
       "      <td>1.0</td>\n",
       "      <td>2.0</td>\n",
       "      <td>80.0</td>\n",
       "      <td>80.0</td>\n",
       "      <td>23533.0</td>\n",
       "      <td>19.359628</td>\n",
       "      <td>-98.826768</td>\n",
       "      <td>0</td>\n",
       "      <td>...</td>\n",
       "      <td>0</td>\n",
       "      <td>0</td>\n",
       "      <td>0</td>\n",
       "      <td>0</td>\n",
       "      <td>0</td>\n",
       "      <td>0</td>\n",
       "      <td>0</td>\n",
       "      <td>0</td>\n",
       "      <td>1</td>\n",
       "      <td>0.0</td>\n",
       "    </tr>\n",
       "    <tr>\n",
       "      <th>2</th>\n",
       "      <td>5.0</td>\n",
       "      <td>2.0</td>\n",
       "      <td>1.0</td>\n",
       "      <td>1.0</td>\n",
       "      <td>75.0</td>\n",
       "      <td>90.0</td>\n",
       "      <td>23650.0</td>\n",
       "      <td>19.359628</td>\n",
       "      <td>-98.826768</td>\n",
       "      <td>0</td>\n",
       "      <td>...</td>\n",
       "      <td>0</td>\n",
       "      <td>0</td>\n",
       "      <td>0</td>\n",
       "      <td>0</td>\n",
       "      <td>0</td>\n",
       "      <td>0</td>\n",
       "      <td>0</td>\n",
       "      <td>0</td>\n",
       "      <td>1</td>\n",
       "      <td>15.0</td>\n",
       "    </tr>\n",
       "    <tr>\n",
       "      <th>4</th>\n",
       "      <td>5.0</td>\n",
       "      <td>3.0</td>\n",
       "      <td>2.0</td>\n",
       "      <td>2.0</td>\n",
       "      <td>127.0</td>\n",
       "      <td>127.0</td>\n",
       "      <td>50003995.0</td>\n",
       "      <td>19.359628</td>\n",
       "      <td>-98.826768</td>\n",
       "      <td>0</td>\n",
       "      <td>...</td>\n",
       "      <td>0</td>\n",
       "      <td>0</td>\n",
       "      <td>0</td>\n",
       "      <td>0</td>\n",
       "      <td>0</td>\n",
       "      <td>0</td>\n",
       "      <td>0</td>\n",
       "      <td>0</td>\n",
       "      <td>1</td>\n",
       "      <td>0.0</td>\n",
       "    </tr>\n",
       "    <tr>\n",
       "      <th>5</th>\n",
       "      <td>18.0</td>\n",
       "      <td>3.0</td>\n",
       "      <td>3.0</td>\n",
       "      <td>3.0</td>\n",
       "      <td>174.0</td>\n",
       "      <td>306.0</td>\n",
       "      <td>2423512.0</td>\n",
       "      <td>19.359628</td>\n",
       "      <td>-98.826768</td>\n",
       "      <td>0</td>\n",
       "      <td>...</td>\n",
       "      <td>0</td>\n",
       "      <td>0</td>\n",
       "      <td>0</td>\n",
       "      <td>0</td>\n",
       "      <td>0</td>\n",
       "      <td>0</td>\n",
       "      <td>0</td>\n",
       "      <td>0</td>\n",
       "      <td>1</td>\n",
       "      <td>132.0</td>\n",
       "    </tr>\n",
       "    <tr>\n",
       "      <th>7</th>\n",
       "      <td>16.0</td>\n",
       "      <td>3.0</td>\n",
       "      <td>1.0</td>\n",
       "      <td>2.0</td>\n",
       "      <td>90.0</td>\n",
       "      <td>110.0</td>\n",
       "      <td>24125.0</td>\n",
       "      <td>19.359628</td>\n",
       "      <td>-98.826768</td>\n",
       "      <td>0</td>\n",
       "      <td>...</td>\n",
       "      <td>0</td>\n",
       "      <td>0</td>\n",
       "      <td>0</td>\n",
       "      <td>0</td>\n",
       "      <td>0</td>\n",
       "      <td>0</td>\n",
       "      <td>0</td>\n",
       "      <td>0</td>\n",
       "      <td>1</td>\n",
       "      <td>20.0</td>\n",
       "    </tr>\n",
       "  </tbody>\n",
       "</table>\n",
       "<p>5 rows × 160 columns</p>\n",
       "</div>"
      ],
      "text/plain": [
       "   antiguedad  habitaciones  garages  banos  metroscubiertos  metrostotales  \\\n",
       "0         8.0           2.0      1.0    2.0             80.0           80.0   \n",
       "2         5.0           2.0      1.0    1.0             75.0           90.0   \n",
       "4         5.0           3.0      2.0    2.0            127.0          127.0   \n",
       "5        18.0           3.0      3.0    3.0            174.0          306.0   \n",
       "7        16.0           3.0      1.0    2.0             90.0          110.0   \n",
       "\n",
       "       idzona        lat        lng  gimnasio         ...          sur_oeste  \\\n",
       "0     23533.0  19.359628 -98.826768         0         ...                  0   \n",
       "2     23650.0  19.359628 -98.826768         0         ...                  0   \n",
       "4  50003995.0  19.359628 -98.826768         0         ...                  0   \n",
       "5   2423512.0  19.359628 -98.826768         0         ...                  0   \n",
       "7     24125.0  19.359628 -98.826768         0         ...                  0   \n",
       "\n",
       "   Guadalajara  Laguna  Monterrey  No_Esta  Puebla_Texaca  Queretaro  Toluca  \\\n",
       "0            0       0          0        0              0          0       0   \n",
       "2            0       0          0        0              0          0       0   \n",
       "4            0       0          0        0              0          0       0   \n",
       "5            0       0          0        0              0          0       0   \n",
       "7            0       0          0        0              0          0       0   \n",
       "\n",
       "   Valle  metrosdescubiertos  \n",
       "0      1                 0.0  \n",
       "2      1                15.0  \n",
       "4      1                 0.0  \n",
       "5      1               132.0  \n",
       "7      1                20.0  \n",
       "\n",
       "[5 rows x 160 columns]"
      ]
     },
     "execution_count": 41,
     "metadata": {},
     "output_type": "execute_result"
    }
   ],
   "source": [
    "train['metrosdescubiertos']=train['metrostotales']-train['metroscubiertos']\n",
    "#Me quedo solamente con los cuales el valor de metros descubiertos es positivo\n",
    "train=train[(train['metrosdescubiertos']>=0)]\n",
    "train.head()"
   ]
  },
  {
   "cell_type": "code",
   "execution_count": 42,
   "metadata": {},
   "outputs": [
    {
     "data": {
      "text/html": [
       "<div>\n",
       "<style scoped>\n",
       "    .dataframe tbody tr th:only-of-type {\n",
       "        vertical-align: middle;\n",
       "    }\n",
       "\n",
       "    .dataframe tbody tr th {\n",
       "        vertical-align: top;\n",
       "    }\n",
       "\n",
       "    .dataframe thead th {\n",
       "        text-align: right;\n",
       "    }\n",
       "</style>\n",
       "<table border=\"1\" class=\"dataframe\">\n",
       "  <thead>\n",
       "    <tr style=\"text-align: right;\">\n",
       "      <th></th>\n",
       "      <th>antiguedad</th>\n",
       "      <th>habitaciones</th>\n",
       "      <th>garages</th>\n",
       "      <th>banos</th>\n",
       "      <th>metroscubiertos</th>\n",
       "      <th>metrostotales</th>\n",
       "      <th>idzona</th>\n",
       "      <th>lat</th>\n",
       "      <th>lng</th>\n",
       "      <th>gimnasio</th>\n",
       "      <th>...</th>\n",
       "      <th>sur_oeste</th>\n",
       "      <th>Guadalajara</th>\n",
       "      <th>Laguna</th>\n",
       "      <th>Monterrey</th>\n",
       "      <th>No_Esta</th>\n",
       "      <th>Puebla_Texaca</th>\n",
       "      <th>Queretaro</th>\n",
       "      <th>Toluca</th>\n",
       "      <th>Valle</th>\n",
       "      <th>metrosdescubiertos</th>\n",
       "    </tr>\n",
       "  </thead>\n",
       "  <tbody>\n",
       "    <tr>\n",
       "      <th>0</th>\n",
       "      <td>8.0</td>\n",
       "      <td>2.0</td>\n",
       "      <td>1.0</td>\n",
       "      <td>2.0</td>\n",
       "      <td>80.0</td>\n",
       "      <td>80.0</td>\n",
       "      <td>23533.0</td>\n",
       "      <td>19.359628</td>\n",
       "      <td>-98.826768</td>\n",
       "      <td>0</td>\n",
       "      <td>...</td>\n",
       "      <td>0</td>\n",
       "      <td>0</td>\n",
       "      <td>0</td>\n",
       "      <td>0</td>\n",
       "      <td>0</td>\n",
       "      <td>0</td>\n",
       "      <td>0</td>\n",
       "      <td>0</td>\n",
       "      <td>1</td>\n",
       "      <td>0.0</td>\n",
       "    </tr>\n",
       "    <tr>\n",
       "      <th>2</th>\n",
       "      <td>5.0</td>\n",
       "      <td>2.0</td>\n",
       "      <td>1.0</td>\n",
       "      <td>1.0</td>\n",
       "      <td>75.0</td>\n",
       "      <td>90.0</td>\n",
       "      <td>23650.0</td>\n",
       "      <td>19.359628</td>\n",
       "      <td>-98.826768</td>\n",
       "      <td>0</td>\n",
       "      <td>...</td>\n",
       "      <td>0</td>\n",
       "      <td>0</td>\n",
       "      <td>0</td>\n",
       "      <td>0</td>\n",
       "      <td>0</td>\n",
       "      <td>0</td>\n",
       "      <td>0</td>\n",
       "      <td>0</td>\n",
       "      <td>1</td>\n",
       "      <td>15.0</td>\n",
       "    </tr>\n",
       "    <tr>\n",
       "      <th>4</th>\n",
       "      <td>5.0</td>\n",
       "      <td>3.0</td>\n",
       "      <td>2.0</td>\n",
       "      <td>2.0</td>\n",
       "      <td>127.0</td>\n",
       "      <td>127.0</td>\n",
       "      <td>50003995.0</td>\n",
       "      <td>19.359628</td>\n",
       "      <td>-98.826768</td>\n",
       "      <td>0</td>\n",
       "      <td>...</td>\n",
       "      <td>0</td>\n",
       "      <td>0</td>\n",
       "      <td>0</td>\n",
       "      <td>0</td>\n",
       "      <td>0</td>\n",
       "      <td>0</td>\n",
       "      <td>0</td>\n",
       "      <td>0</td>\n",
       "      <td>1</td>\n",
       "      <td>0.0</td>\n",
       "    </tr>\n",
       "    <tr>\n",
       "      <th>5</th>\n",
       "      <td>18.0</td>\n",
       "      <td>3.0</td>\n",
       "      <td>3.0</td>\n",
       "      <td>3.0</td>\n",
       "      <td>174.0</td>\n",
       "      <td>306.0</td>\n",
       "      <td>2423512.0</td>\n",
       "      <td>19.359628</td>\n",
       "      <td>-98.826768</td>\n",
       "      <td>0</td>\n",
       "      <td>...</td>\n",
       "      <td>0</td>\n",
       "      <td>0</td>\n",
       "      <td>0</td>\n",
       "      <td>0</td>\n",
       "      <td>0</td>\n",
       "      <td>0</td>\n",
       "      <td>0</td>\n",
       "      <td>0</td>\n",
       "      <td>1</td>\n",
       "      <td>132.0</td>\n",
       "    </tr>\n",
       "    <tr>\n",
       "      <th>7</th>\n",
       "      <td>16.0</td>\n",
       "      <td>3.0</td>\n",
       "      <td>1.0</td>\n",
       "      <td>2.0</td>\n",
       "      <td>90.0</td>\n",
       "      <td>110.0</td>\n",
       "      <td>24125.0</td>\n",
       "      <td>19.359628</td>\n",
       "      <td>-98.826768</td>\n",
       "      <td>0</td>\n",
       "      <td>...</td>\n",
       "      <td>0</td>\n",
       "      <td>0</td>\n",
       "      <td>0</td>\n",
       "      <td>0</td>\n",
       "      <td>0</td>\n",
       "      <td>0</td>\n",
       "      <td>0</td>\n",
       "      <td>0</td>\n",
       "      <td>1</td>\n",
       "      <td>20.0</td>\n",
       "    </tr>\n",
       "  </tbody>\n",
       "</table>\n",
       "<p>5 rows × 160 columns</p>\n",
       "</div>"
      ],
      "text/plain": [
       "   antiguedad  habitaciones  garages  banos  metroscubiertos  metrostotales  \\\n",
       "0         8.0           2.0      1.0    2.0             80.0           80.0   \n",
       "2         5.0           2.0      1.0    1.0             75.0           90.0   \n",
       "4         5.0           3.0      2.0    2.0            127.0          127.0   \n",
       "5        18.0           3.0      3.0    3.0            174.0          306.0   \n",
       "7        16.0           3.0      1.0    2.0             90.0          110.0   \n",
       "\n",
       "       idzona        lat        lng  gimnasio         ...          sur_oeste  \\\n",
       "0     23533.0  19.359628 -98.826768         0         ...                  0   \n",
       "2     23650.0  19.359628 -98.826768         0         ...                  0   \n",
       "4  50003995.0  19.359628 -98.826768         0         ...                  0   \n",
       "5   2423512.0  19.359628 -98.826768         0         ...                  0   \n",
       "7     24125.0  19.359628 -98.826768         0         ...                  0   \n",
       "\n",
       "   Guadalajara  Laguna  Monterrey  No_Esta  Puebla_Texaca  Queretaro  Toluca  \\\n",
       "0            0       0          0        0              0          0       0   \n",
       "2            0       0          0        0              0          0       0   \n",
       "4            0       0          0        0              0          0       0   \n",
       "5            0       0          0        0              0          0       0   \n",
       "7            0       0          0        0              0          0       0   \n",
       "\n",
       "   Valle  metrosdescubiertos  \n",
       "0      1                 0.0  \n",
       "2      1                15.0  \n",
       "4      1                 0.0  \n",
       "5      1               132.0  \n",
       "7      1                20.0  \n",
       "\n",
       "[5 rows x 160 columns]"
      ]
     },
     "execution_count": 42,
     "metadata": {},
     "output_type": "execute_result"
    }
   ],
   "source": [
    "train.fillna(0,inplace=True)\n",
    "train['precio']=np.log(train['precio'])\n",
    "train.sort_values(by='Anio',ascending=True)\n",
    "train.head()"
   ]
  },
  {
   "cell_type": "markdown",
   "metadata": {},
   "source": [
    "## 2) Aplicación de Algoritmos"
   ]
  },
  {
   "cell_type": "markdown",
   "metadata": {},
   "source": [
    "Utilizamos Mean Absolute Error (MAE) para ver la precisión de nuestra preducción, cuya formula es:"
   ]
  },
  {
   "cell_type": "markdown",
   "metadata": {},
   "source": [
    "<img src=\"https://miro.medium.com/max/780/1*8DXbECB9pnKxTpIvuVD-vg.png\">"
   ]
  },
  {
   "cell_type": "code",
   "execution_count": 43,
   "metadata": {
    "scrolled": true
   },
   "outputs": [
    {
     "data": {
      "text/html": [
       "<div>\n",
       "<style scoped>\n",
       "    .dataframe tbody tr th:only-of-type {\n",
       "        vertical-align: middle;\n",
       "    }\n",
       "\n",
       "    .dataframe tbody tr th {\n",
       "        vertical-align: top;\n",
       "    }\n",
       "\n",
       "    .dataframe thead th {\n",
       "        text-align: right;\n",
       "    }\n",
       "</style>\n",
       "<table border=\"1\" class=\"dataframe\">\n",
       "  <thead>\n",
       "    <tr style=\"text-align: right;\">\n",
       "      <th></th>\n",
       "      <th>antiguedad</th>\n",
       "      <th>habitaciones</th>\n",
       "      <th>garages</th>\n",
       "      <th>banos</th>\n",
       "      <th>metroscubiertos</th>\n",
       "      <th>metrostotales</th>\n",
       "      <th>idzona</th>\n",
       "      <th>lat</th>\n",
       "      <th>lng</th>\n",
       "      <th>gimnasio</th>\n",
       "      <th>...</th>\n",
       "      <th>sur_oeste</th>\n",
       "      <th>Guadalajara</th>\n",
       "      <th>Laguna</th>\n",
       "      <th>Monterrey</th>\n",
       "      <th>No_Esta</th>\n",
       "      <th>Puebla_Texaca</th>\n",
       "      <th>Queretaro</th>\n",
       "      <th>Toluca</th>\n",
       "      <th>Valle</th>\n",
       "      <th>metrosdescubiertos</th>\n",
       "    </tr>\n",
       "  </thead>\n",
       "  <tbody>\n",
       "    <tr>\n",
       "      <th>0</th>\n",
       "      <td>8.0</td>\n",
       "      <td>2.0</td>\n",
       "      <td>1.0</td>\n",
       "      <td>2.0</td>\n",
       "      <td>80.0</td>\n",
       "      <td>80.0</td>\n",
       "      <td>23533.0</td>\n",
       "      <td>19.359628</td>\n",
       "      <td>-98.826768</td>\n",
       "      <td>0</td>\n",
       "      <td>...</td>\n",
       "      <td>0</td>\n",
       "      <td>0</td>\n",
       "      <td>0</td>\n",
       "      <td>0</td>\n",
       "      <td>0</td>\n",
       "      <td>0</td>\n",
       "      <td>0</td>\n",
       "      <td>0</td>\n",
       "      <td>1</td>\n",
       "      <td>0.0</td>\n",
       "    </tr>\n",
       "    <tr>\n",
       "      <th>2</th>\n",
       "      <td>5.0</td>\n",
       "      <td>2.0</td>\n",
       "      <td>1.0</td>\n",
       "      <td>1.0</td>\n",
       "      <td>75.0</td>\n",
       "      <td>90.0</td>\n",
       "      <td>23650.0</td>\n",
       "      <td>19.359628</td>\n",
       "      <td>-98.826768</td>\n",
       "      <td>0</td>\n",
       "      <td>...</td>\n",
       "      <td>0</td>\n",
       "      <td>0</td>\n",
       "      <td>0</td>\n",
       "      <td>0</td>\n",
       "      <td>0</td>\n",
       "      <td>0</td>\n",
       "      <td>0</td>\n",
       "      <td>0</td>\n",
       "      <td>1</td>\n",
       "      <td>15.0</td>\n",
       "    </tr>\n",
       "    <tr>\n",
       "      <th>4</th>\n",
       "      <td>5.0</td>\n",
       "      <td>3.0</td>\n",
       "      <td>2.0</td>\n",
       "      <td>2.0</td>\n",
       "      <td>127.0</td>\n",
       "      <td>127.0</td>\n",
       "      <td>50003995.0</td>\n",
       "      <td>19.359628</td>\n",
       "      <td>-98.826768</td>\n",
       "      <td>0</td>\n",
       "      <td>...</td>\n",
       "      <td>0</td>\n",
       "      <td>0</td>\n",
       "      <td>0</td>\n",
       "      <td>0</td>\n",
       "      <td>0</td>\n",
       "      <td>0</td>\n",
       "      <td>0</td>\n",
       "      <td>0</td>\n",
       "      <td>1</td>\n",
       "      <td>0.0</td>\n",
       "    </tr>\n",
       "    <tr>\n",
       "      <th>5</th>\n",
       "      <td>18.0</td>\n",
       "      <td>3.0</td>\n",
       "      <td>3.0</td>\n",
       "      <td>3.0</td>\n",
       "      <td>174.0</td>\n",
       "      <td>306.0</td>\n",
       "      <td>2423512.0</td>\n",
       "      <td>19.359628</td>\n",
       "      <td>-98.826768</td>\n",
       "      <td>0</td>\n",
       "      <td>...</td>\n",
       "      <td>0</td>\n",
       "      <td>0</td>\n",
       "      <td>0</td>\n",
       "      <td>0</td>\n",
       "      <td>0</td>\n",
       "      <td>0</td>\n",
       "      <td>0</td>\n",
       "      <td>0</td>\n",
       "      <td>1</td>\n",
       "      <td>132.0</td>\n",
       "    </tr>\n",
       "    <tr>\n",
       "      <th>7</th>\n",
       "      <td>16.0</td>\n",
       "      <td>3.0</td>\n",
       "      <td>1.0</td>\n",
       "      <td>2.0</td>\n",
       "      <td>90.0</td>\n",
       "      <td>110.0</td>\n",
       "      <td>24125.0</td>\n",
       "      <td>19.359628</td>\n",
       "      <td>-98.826768</td>\n",
       "      <td>0</td>\n",
       "      <td>...</td>\n",
       "      <td>0</td>\n",
       "      <td>0</td>\n",
       "      <td>0</td>\n",
       "      <td>0</td>\n",
       "      <td>0</td>\n",
       "      <td>0</td>\n",
       "      <td>0</td>\n",
       "      <td>0</td>\n",
       "      <td>1</td>\n",
       "      <td>20.0</td>\n",
       "    </tr>\n",
       "  </tbody>\n",
       "</table>\n",
       "<p>5 rows × 157 columns</p>\n",
       "</div>"
      ],
      "text/plain": [
       "   antiguedad  habitaciones  garages  banos  metroscubiertos  metrostotales  \\\n",
       "0         8.0           2.0      1.0    2.0             80.0           80.0   \n",
       "2         5.0           2.0      1.0    1.0             75.0           90.0   \n",
       "4         5.0           3.0      2.0    2.0            127.0          127.0   \n",
       "5        18.0           3.0      3.0    3.0            174.0          306.0   \n",
       "7        16.0           3.0      1.0    2.0             90.0          110.0   \n",
       "\n",
       "       idzona        lat        lng  gimnasio         ...          sur_oeste  \\\n",
       "0     23533.0  19.359628 -98.826768         0         ...                  0   \n",
       "2     23650.0  19.359628 -98.826768         0         ...                  0   \n",
       "4  50003995.0  19.359628 -98.826768         0         ...                  0   \n",
       "5   2423512.0  19.359628 -98.826768         0         ...                  0   \n",
       "7     24125.0  19.359628 -98.826768         0         ...                  0   \n",
       "\n",
       "   Guadalajara  Laguna  Monterrey  No_Esta  Puebla_Texaca  Queretaro  Toluca  \\\n",
       "0            0       0          0        0              0          0       0   \n",
       "2            0       0          0        0              0          0       0   \n",
       "4            0       0          0        0              0          0       0   \n",
       "5            0       0          0        0              0          0       0   \n",
       "7            0       0          0        0              0          0       0   \n",
       "\n",
       "   Valle  metrosdescubiertos  \n",
       "0      1                 0.0  \n",
       "2      1                15.0  \n",
       "4      1                 0.0  \n",
       "5      1               132.0  \n",
       "7      1                20.0  \n",
       "\n",
       "[5 rows x 157 columns]"
      ]
     },
     "execution_count": 43,
     "metadata": {},
     "output_type": "execute_result"
    }
   ],
   "source": [
    "datos=train.drop(columns={'precio','Garage','Hospedaje'})\n",
    "precio=train['precio']\n",
    "datos.head()"
   ]
  },
  {
   "cell_type": "code",
   "execution_count": 44,
   "metadata": {},
   "outputs": [],
   "source": [
    "#Preparo el set de Test para ser utilizado por los algoritmos\n",
    "test_final=pd.read_csv('test.csv')\n",
    "IDS=test_final[['id']].copy()\n",
    "test_final['Fecha']=pd.to_datetime(test_final['fecha'])\n",
    "test_final.drop(columns={'fecha'},inplace=True)\n",
    "test_final['Anio']=test_final['Fecha'].dt.year\n",
    "test_final['Mes']=test_final['Fecha'].dt.month\n",
    "test_final['Dia']=test_final['Fecha'].dt.day\n",
    "test_final['Esta_Capital']=test_final['ciudad'].apply(EstaEnCapital)"
   ]
  },
  {
   "cell_type": "code",
   "execution_count": 45,
   "metadata": {},
   "outputs": [],
   "source": [
    "test_final['Estacion']=test_final.apply(lambda x: fechaEstacion(x['Mes'],x['Dia']),axis=1)\n",
    "test_final['Esta_Zona_Turistica']=test_final.apply(lambda x: EstaEnZonaTuristica(x['ciudad'],x['provincia']),axis=1)\n",
    "test_final['Zona_Metropolitana']=test_final.apply(lambda x: EnQueZonaMetropolitanaEsta(x['ciudad'],x['provincia']),axis=1)\n",
    "test_final['Corona_Regional']=test_final['provincia'].apply(EstaCoronaRegional)\n",
    "test_final['Esta_Provincia_Cara']=test_final['provincia'].apply(EstaProvinciaCara)\n",
    "test_final['Cantidad_Centros_Cercanos']=test_final.apply(lambda x: CercaniaCentrosImportantes(x['lng'],x['lat'],x['centroscomercialescercanos']),axis=1)"
   ]
  },
  {
   "cell_type": "code",
   "execution_count": 46,
   "metadata": {},
   "outputs": [],
   "source": [
    "test_final[['antiguedad']]=test_final[['antiguedad']].fillna(value=mean_antiguedad)\n",
    "test_final[['habitaciones']]=test_final[['habitaciones']].fillna(value=mean_habitaciones)\n",
    "test_final[['garages']]=test_final[['garages']].fillna(value=mean_garages)\n",
    "test_final[['banos']]=test_final[['banos']].fillna(value=mean_banos)\n",
    "test_final[['metroscubiertos']]=test_final[['metroscubiertos']].fillna(value=mean_metroscubiertos)\n",
    "test_final[['metrostotales']]=test_final[['metrostotales']].fillna(value=mean_metrostotales)\n",
    "test_final[['idzona']]=test_final[['idzona']].fillna(value=mean_idzona)"
   ]
  },
  {
   "cell_type": "code",
   "execution_count": 47,
   "metadata": {},
   "outputs": [],
   "source": [
    "test_final=pd.merge(test_final,zonas_df,on='provincia',how='left')"
   ]
  },
  {
   "cell_type": "code",
   "execution_count": 48,
   "metadata": {},
   "outputs": [],
   "source": [
    "test_final = test_final.join(target_enc.transform(test_final['ciudad']).add_suffix('_target'))\n",
    "test_final = test_final.drop('ciudad', axis=1)"
   ]
  },
  {
   "cell_type": "code",
   "execution_count": 49,
   "metadata": {},
   "outputs": [],
   "source": [
    "for columna in columnas_nuevas:\n",
    "    test_final[columna]=test_final.titulo.str.lower().str.contains(columna)"
   ]
  },
  {
   "cell_type": "code",
   "execution_count": 50,
   "metadata": {},
   "outputs": [],
   "source": [
    "test_final['lat']=test_final['provincia'].apply(CambiarLatitud)\n",
    "test_final['lng']=test_final['provincia'].apply(CambiarLongitud)"
   ]
  },
  {
   "cell_type": "code",
   "execution_count": 51,
   "metadata": {},
   "outputs": [],
   "source": [
    "test_final = oneHotEncoding(test_final,'provincia')\n",
    "test_final = oneHotEncoding(test_final,'tipodepropiedad')\n",
    "test_final = oneHotEncoding(test_final,'Estacion')\n",
    "test_final = oneHotEncoding(test_final,'Zona')\n",
    "test_final = oneHotEncoding(test_final,'Zona_Metropolitana')"
   ]
  },
  {
   "cell_type": "code",
   "execution_count": 52,
   "metadata": {},
   "outputs": [
    {
     "data": {
      "text/html": [
       "<div>\n",
       "<style scoped>\n",
       "    .dataframe tbody tr th:only-of-type {\n",
       "        vertical-align: middle;\n",
       "    }\n",
       "\n",
       "    .dataframe tbody tr th {\n",
       "        vertical-align: top;\n",
       "    }\n",
       "\n",
       "    .dataframe thead th {\n",
       "        text-align: right;\n",
       "    }\n",
       "</style>\n",
       "<table border=\"1\" class=\"dataframe\">\n",
       "  <thead>\n",
       "    <tr style=\"text-align: right;\">\n",
       "      <th></th>\n",
       "      <th>antiguedad</th>\n",
       "      <th>habitaciones</th>\n",
       "      <th>garages</th>\n",
       "      <th>banos</th>\n",
       "      <th>metroscubiertos</th>\n",
       "      <th>metrostotales</th>\n",
       "      <th>idzona</th>\n",
       "      <th>lat</th>\n",
       "      <th>lng</th>\n",
       "      <th>gimnasio</th>\n",
       "      <th>...</th>\n",
       "      <th>sur_oeste</th>\n",
       "      <th>Guadalajara</th>\n",
       "      <th>Laguna</th>\n",
       "      <th>Monterrey</th>\n",
       "      <th>No_Esta</th>\n",
       "      <th>Puebla_Texaca</th>\n",
       "      <th>Queretaro</th>\n",
       "      <th>Toluca</th>\n",
       "      <th>Valle</th>\n",
       "      <th>metrosdescubiertos</th>\n",
       "    </tr>\n",
       "  </thead>\n",
       "  <tbody>\n",
       "    <tr>\n",
       "      <th>0</th>\n",
       "      <td>29.0</td>\n",
       "      <td>3.0</td>\n",
       "      <td>2.0</td>\n",
       "      <td>4.0</td>\n",
       "      <td>300.0</td>\n",
       "      <td>177.0</td>\n",
       "      <td>2423512.0</td>\n",
       "      <td>19.359628</td>\n",
       "      <td>-98.826768</td>\n",
       "      <td>0.0</td>\n",
       "      <td>...</td>\n",
       "      <td>0</td>\n",
       "      <td>0</td>\n",
       "      <td>0</td>\n",
       "      <td>0</td>\n",
       "      <td>0</td>\n",
       "      <td>0</td>\n",
       "      <td>0</td>\n",
       "      <td>0</td>\n",
       "      <td>1</td>\n",
       "      <td>-123.0</td>\n",
       "    </tr>\n",
       "    <tr>\n",
       "      <th>1</th>\n",
       "      <td>8.0</td>\n",
       "      <td>1.0</td>\n",
       "      <td>1.0</td>\n",
       "      <td>1.0</td>\n",
       "      <td>67.0</td>\n",
       "      <td>67.0</td>\n",
       "      <td>113851.0</td>\n",
       "      <td>20.857962</td>\n",
       "      <td>-88.811045</td>\n",
       "      <td>0.0</td>\n",
       "      <td>...</td>\n",
       "      <td>0</td>\n",
       "      <td>0</td>\n",
       "      <td>0</td>\n",
       "      <td>0</td>\n",
       "      <td>1</td>\n",
       "      <td>0</td>\n",
       "      <td>0</td>\n",
       "      <td>0</td>\n",
       "      <td>0</td>\n",
       "      <td>0.0</td>\n",
       "    </tr>\n",
       "    <tr>\n",
       "      <th>2</th>\n",
       "      <td>0.0</td>\n",
       "      <td>2.0</td>\n",
       "      <td>1.0</td>\n",
       "      <td>2.0</td>\n",
       "      <td>87.0</td>\n",
       "      <td>100.0</td>\n",
       "      <td>23620.0</td>\n",
       "      <td>19.359628</td>\n",
       "      <td>-98.826768</td>\n",
       "      <td>0.0</td>\n",
       "      <td>...</td>\n",
       "      <td>0</td>\n",
       "      <td>0</td>\n",
       "      <td>0</td>\n",
       "      <td>0</td>\n",
       "      <td>0</td>\n",
       "      <td>0</td>\n",
       "      <td>0</td>\n",
       "      <td>0</td>\n",
       "      <td>1</td>\n",
       "      <td>13.0</td>\n",
       "    </tr>\n",
       "    <tr>\n",
       "      <th>3</th>\n",
       "      <td>2.0</td>\n",
       "      <td>2.0</td>\n",
       "      <td>2.0</td>\n",
       "      <td>2.0</td>\n",
       "      <td>86.0</td>\n",
       "      <td>86.0</td>\n",
       "      <td>129347.0</td>\n",
       "      <td>16.642686</td>\n",
       "      <td>-98.223929</td>\n",
       "      <td>0.0</td>\n",
       "      <td>...</td>\n",
       "      <td>1</td>\n",
       "      <td>0</td>\n",
       "      <td>0</td>\n",
       "      <td>0</td>\n",
       "      <td>1</td>\n",
       "      <td>0</td>\n",
       "      <td>0</td>\n",
       "      <td>0</td>\n",
       "      <td>0</td>\n",
       "      <td>0.0</td>\n",
       "    </tr>\n",
       "    <tr>\n",
       "      <th>4</th>\n",
       "      <td>10.0</td>\n",
       "      <td>2.0</td>\n",
       "      <td>1.0</td>\n",
       "      <td>1.0</td>\n",
       "      <td>80.0</td>\n",
       "      <td>76.0</td>\n",
       "      <td>57125.0</td>\n",
       "      <td>19.455335</td>\n",
       "      <td>-98.732556</td>\n",
       "      <td>0.0</td>\n",
       "      <td>...</td>\n",
       "      <td>0</td>\n",
       "      <td>0</td>\n",
       "      <td>0</td>\n",
       "      <td>0</td>\n",
       "      <td>0</td>\n",
       "      <td>0</td>\n",
       "      <td>0</td>\n",
       "      <td>0</td>\n",
       "      <td>1</td>\n",
       "      <td>-4.0</td>\n",
       "    </tr>\n",
       "  </tbody>\n",
       "</table>\n",
       "<p>5 rows × 157 columns</p>\n",
       "</div>"
      ],
      "text/plain": [
       "   antiguedad  habitaciones  garages  banos  metroscubiertos  metrostotales  \\\n",
       "0        29.0           3.0      2.0    4.0            300.0          177.0   \n",
       "1         8.0           1.0      1.0    1.0             67.0           67.0   \n",
       "2         0.0           2.0      1.0    2.0             87.0          100.0   \n",
       "3         2.0           2.0      2.0    2.0             86.0           86.0   \n",
       "4        10.0           2.0      1.0    1.0             80.0           76.0   \n",
       "\n",
       "      idzona        lat        lng  gimnasio         ...          sur_oeste  \\\n",
       "0  2423512.0  19.359628 -98.826768       0.0         ...                  0   \n",
       "1   113851.0  20.857962 -88.811045       0.0         ...                  0   \n",
       "2    23620.0  19.359628 -98.826768       0.0         ...                  0   \n",
       "3   129347.0  16.642686 -98.223929       0.0         ...                  1   \n",
       "4    57125.0  19.455335 -98.732556       0.0         ...                  0   \n",
       "\n",
       "   Guadalajara  Laguna  Monterrey  No_Esta  Puebla_Texaca  Queretaro  Toluca  \\\n",
       "0            0       0          0        0              0          0       0   \n",
       "1            0       0          0        1              0          0       0   \n",
       "2            0       0          0        0              0          0       0   \n",
       "3            0       0          0        1              0          0       0   \n",
       "4            0       0          0        0              0          0       0   \n",
       "\n",
       "   Valle  metrosdescubiertos  \n",
       "0      1              -123.0  \n",
       "1      0                 0.0  \n",
       "2      1                13.0  \n",
       "3      0                 0.0  \n",
       "4      1                -4.0  \n",
       "\n",
       "[5 rows x 157 columns]"
      ]
     },
     "execution_count": 52,
     "metadata": {},
     "output_type": "execute_result"
    }
   ],
   "source": [
    "test_final.drop(columns={'id','Dia','titulo','descripcion','direccion','Fecha'},inplace=True)\n",
    "test_final['metrosdescubiertos']=test_final['metrostotales']-test_final['metroscubiertos']\n",
    "test_final.sort_values(by='Anio',ascending=True)\n",
    "test_final.head()"
   ]
  },
  {
   "cell_type": "code",
   "execution_count": 53,
   "metadata": {},
   "outputs": [],
   "source": [
    "test_final.fillna(0,inplace=True)"
   ]
  },
  {
   "cell_type": "code",
   "execution_count": 54,
   "metadata": {},
   "outputs": [],
   "source": [
    "#Separamos el set de entrenamiento en set de entrenamiento y de validacion\n",
    "test_size = 0.33\n",
    "random_state = 0\n",
    "datos_train , datos_test, precio_train, precio_test = train_test_split(datos,precio,test_size = test_size,random_state = random_state)"
   ]
  },
  {
   "cell_type": "markdown",
   "metadata": {},
   "source": [
    "### 2.1) Árboles de Decisión"
   ]
  },
  {
   "cell_type": "code",
   "execution_count": 77,
   "metadata": {},
   "outputs": [],
   "source": [
    "tree = DecisionTreeRegressor(criterion='mse',random_state=0)"
   ]
  },
  {
   "cell_type": "code",
   "execution_count": 78,
   "metadata": {},
   "outputs": [
    {
     "data": {
      "text/plain": [
       "DecisionTreeRegressor(criterion='mse', max_depth=None, max_features=None,\n",
       "                      max_leaf_nodes=None, min_impurity_decrease=0.0,\n",
       "                      min_impurity_split=None, min_samples_leaf=1,\n",
       "                      min_samples_split=2, min_weight_fraction_leaf=0.0,\n",
       "                      presort=False, random_state=0, splitter='best')"
      ]
     },
     "execution_count": 78,
     "metadata": {},
     "output_type": "execute_result"
    }
   ],
   "source": [
    "tree.fit(datos_train,precio_train)"
   ]
  },
  {
   "cell_type": "code",
   "execution_count": 79,
   "metadata": {},
   "outputs": [
    {
     "ename": "ValueError",
     "evalue": "Input contains NaN, infinity or a value too large for dtype('float64').",
     "output_type": "error",
     "traceback": [
      "\u001b[1;31m---------------------------------------------------------------------------\u001b[0m",
      "\u001b[1;31mValueError\u001b[0m                                Traceback (most recent call last)",
      "\u001b[1;32m<ipython-input-79-1461568c5c7d>\u001b[0m in \u001b[0;36m<module>\u001b[1;34m()\u001b[0m\n\u001b[0;32m      1\u001b[0m \u001b[0mprediccion_tree_validacion\u001b[0m\u001b[1;33m=\u001b[0m\u001b[0mtree\u001b[0m\u001b[1;33m.\u001b[0m\u001b[0mpredict\u001b[0m\u001b[1;33m(\u001b[0m\u001b[0mdatos_test\u001b[0m\u001b[1;33m)\u001b[0m\u001b[1;33m\u001b[0m\u001b[0m\n\u001b[1;32m----> 2\u001b[1;33m \u001b[0merror\u001b[0m\u001b[1;33m=\u001b[0m\u001b[0mmean_absolute_error\u001b[0m\u001b[1;33m(\u001b[0m\u001b[0mprecio_test\u001b[0m\u001b[1;33m,\u001b[0m\u001b[0mprediccion_tree_validacion\u001b[0m\u001b[1;33m)\u001b[0m\u001b[1;33m\u001b[0m\u001b[0m\n\u001b[0m\u001b[0;32m      3\u001b[0m \u001b[1;33m\u001b[0m\u001b[0m\n\u001b[0;32m      4\u001b[0m \u001b[0mprint\u001b[0m\u001b[1;33m(\u001b[0m\u001b[1;34m'Mean Absolute Error: '\u001b[0m\u001b[1;33m,\u001b[0m\u001b[0merror\u001b[0m\u001b[1;33m)\u001b[0m\u001b[1;33m\u001b[0m\u001b[0m\n",
      "\u001b[1;32m~\\AppData\\Roaming\\Python\\Python36\\site-packages\\sklearn\\metrics\\regression.py\u001b[0m in \u001b[0;36mmean_absolute_error\u001b[1;34m(y_true, y_pred, sample_weight, multioutput)\u001b[0m\n\u001b[0;32m    170\u001b[0m     \"\"\"\n\u001b[0;32m    171\u001b[0m     y_type, y_true, y_pred, multioutput = _check_reg_targets(\n\u001b[1;32m--> 172\u001b[1;33m         y_true, y_pred, multioutput)\n\u001b[0m\u001b[0;32m    173\u001b[0m     \u001b[0mcheck_consistent_length\u001b[0m\u001b[1;33m(\u001b[0m\u001b[0my_true\u001b[0m\u001b[1;33m,\u001b[0m \u001b[0my_pred\u001b[0m\u001b[1;33m,\u001b[0m \u001b[0msample_weight\u001b[0m\u001b[1;33m)\u001b[0m\u001b[1;33m\u001b[0m\u001b[0m\n\u001b[0;32m    174\u001b[0m     output_errors = np.average(np.abs(y_pred - y_true),\n",
      "\u001b[1;32m~\\AppData\\Roaming\\Python\\Python36\\site-packages\\sklearn\\metrics\\regression.py\u001b[0m in \u001b[0;36m_check_reg_targets\u001b[1;34m(y_true, y_pred, multioutput)\u001b[0m\n\u001b[0;32m     76\u001b[0m     \"\"\"\n\u001b[0;32m     77\u001b[0m     \u001b[0mcheck_consistent_length\u001b[0m\u001b[1;33m(\u001b[0m\u001b[0my_true\u001b[0m\u001b[1;33m,\u001b[0m \u001b[0my_pred\u001b[0m\u001b[1;33m)\u001b[0m\u001b[1;33m\u001b[0m\u001b[0m\n\u001b[1;32m---> 78\u001b[1;33m     \u001b[0my_true\u001b[0m \u001b[1;33m=\u001b[0m \u001b[0mcheck_array\u001b[0m\u001b[1;33m(\u001b[0m\u001b[0my_true\u001b[0m\u001b[1;33m,\u001b[0m \u001b[0mensure_2d\u001b[0m\u001b[1;33m=\u001b[0m\u001b[1;32mFalse\u001b[0m\u001b[1;33m)\u001b[0m\u001b[1;33m\u001b[0m\u001b[0m\n\u001b[0m\u001b[0;32m     79\u001b[0m     \u001b[0my_pred\u001b[0m \u001b[1;33m=\u001b[0m \u001b[0mcheck_array\u001b[0m\u001b[1;33m(\u001b[0m\u001b[0my_pred\u001b[0m\u001b[1;33m,\u001b[0m \u001b[0mensure_2d\u001b[0m\u001b[1;33m=\u001b[0m\u001b[1;32mFalse\u001b[0m\u001b[1;33m)\u001b[0m\u001b[1;33m\u001b[0m\u001b[0m\n\u001b[0;32m     80\u001b[0m \u001b[1;33m\u001b[0m\u001b[0m\n",
      "\u001b[1;32m~\\AppData\\Roaming\\Python\\Python36\\site-packages\\sklearn\\utils\\validation.py\u001b[0m in \u001b[0;36mcheck_array\u001b[1;34m(array, accept_sparse, accept_large_sparse, dtype, order, copy, force_all_finite, ensure_2d, allow_nd, ensure_min_samples, ensure_min_features, warn_on_dtype, estimator)\u001b[0m\n\u001b[0;32m    540\u001b[0m         \u001b[1;32mif\u001b[0m \u001b[0mforce_all_finite\u001b[0m\u001b[1;33m:\u001b[0m\u001b[1;33m\u001b[0m\u001b[0m\n\u001b[0;32m    541\u001b[0m             _assert_all_finite(array,\n\u001b[1;32m--> 542\u001b[1;33m                                allow_nan=force_all_finite == 'allow-nan')\n\u001b[0m\u001b[0;32m    543\u001b[0m \u001b[1;33m\u001b[0m\u001b[0m\n\u001b[0;32m    544\u001b[0m     \u001b[1;32mif\u001b[0m \u001b[0mensure_min_samples\u001b[0m \u001b[1;33m>\u001b[0m \u001b[1;36m0\u001b[0m\u001b[1;33m:\u001b[0m\u001b[1;33m\u001b[0m\u001b[0m\n",
      "\u001b[1;32m~\\AppData\\Roaming\\Python\\Python36\\site-packages\\sklearn\\utils\\validation.py\u001b[0m in \u001b[0;36m_assert_all_finite\u001b[1;34m(X, allow_nan)\u001b[0m\n\u001b[0;32m     54\u001b[0m                 not allow_nan and not np.isfinite(X).all()):\n\u001b[0;32m     55\u001b[0m             \u001b[0mtype_err\u001b[0m \u001b[1;33m=\u001b[0m \u001b[1;34m'infinity'\u001b[0m \u001b[1;32mif\u001b[0m \u001b[0mallow_nan\u001b[0m \u001b[1;32melse\u001b[0m \u001b[1;34m'NaN, infinity'\u001b[0m\u001b[1;33m\u001b[0m\u001b[0m\n\u001b[1;32m---> 56\u001b[1;33m             \u001b[1;32mraise\u001b[0m \u001b[0mValueError\u001b[0m\u001b[1;33m(\u001b[0m\u001b[0mmsg_err\u001b[0m\u001b[1;33m.\u001b[0m\u001b[0mformat\u001b[0m\u001b[1;33m(\u001b[0m\u001b[0mtype_err\u001b[0m\u001b[1;33m,\u001b[0m \u001b[0mX\u001b[0m\u001b[1;33m.\u001b[0m\u001b[0mdtype\u001b[0m\u001b[1;33m)\u001b[0m\u001b[1;33m)\u001b[0m\u001b[1;33m\u001b[0m\u001b[0m\n\u001b[0m\u001b[0;32m     57\u001b[0m     \u001b[1;31m# for object dtype data, we only check for NaNs (GH-13254)\u001b[0m\u001b[1;33m\u001b[0m\u001b[1;33m\u001b[0m\u001b[0m\n\u001b[0;32m     58\u001b[0m     \u001b[1;32melif\u001b[0m \u001b[0mX\u001b[0m\u001b[1;33m.\u001b[0m\u001b[0mdtype\u001b[0m \u001b[1;33m==\u001b[0m \u001b[0mnp\u001b[0m\u001b[1;33m.\u001b[0m\u001b[0mdtype\u001b[0m\u001b[1;33m(\u001b[0m\u001b[1;34m'object'\u001b[0m\u001b[1;33m)\u001b[0m \u001b[1;32mand\u001b[0m \u001b[1;32mnot\u001b[0m \u001b[0mallow_nan\u001b[0m\u001b[1;33m:\u001b[0m\u001b[1;33m\u001b[0m\u001b[0m\n",
      "\u001b[1;31mValueError\u001b[0m: Input contains NaN, infinity or a value too large for dtype('float64')."
     ]
    }
   ],
   "source": [
    "prediccion_tree_validacion=tree.predict(datos_test)\n",
    "error=mean_absolute_error(precio_test,prediccion_tree_validacion)\n",
    "\n",
    "print('Mean Absolute Error: ',error)"
   ]
  },
  {
   "cell_type": "code",
   "execution_count": 71,
   "metadata": {},
   "outputs": [
    {
     "data": {
      "text/html": [
       "<div>\n",
       "<style scoped>\n",
       "    .dataframe tbody tr th:only-of-type {\n",
       "        vertical-align: middle;\n",
       "    }\n",
       "\n",
       "    .dataframe tbody tr th {\n",
       "        vertical-align: top;\n",
       "    }\n",
       "\n",
       "    .dataframe thead th {\n",
       "        text-align: right;\n",
       "    }\n",
       "</style>\n",
       "<table border=\"1\" class=\"dataframe\">\n",
       "  <thead>\n",
       "    <tr style=\"text-align: right;\">\n",
       "      <th></th>\n",
       "      <th>target</th>\n",
       "    </tr>\n",
       "    <tr>\n",
       "      <th>id</th>\n",
       "      <th></th>\n",
       "    </tr>\n",
       "  </thead>\n",
       "  <tbody>\n",
       "    <tr>\n",
       "      <th>4941</th>\n",
       "      <td>5000000.0</td>\n",
       "    </tr>\n",
       "    <tr>\n",
       "      <th>51775</th>\n",
       "      <td>950000.0</td>\n",
       "    </tr>\n",
       "    <tr>\n",
       "      <th>115253</th>\n",
       "      <td>2610000.0</td>\n",
       "    </tr>\n",
       "    <tr>\n",
       "      <th>299321</th>\n",
       "      <td>1090000.0</td>\n",
       "    </tr>\n",
       "    <tr>\n",
       "      <th>173570</th>\n",
       "      <td>1250000.0</td>\n",
       "    </tr>\n",
       "  </tbody>\n",
       "</table>\n",
       "</div>"
      ],
      "text/plain": [
       "           target\n",
       "id               \n",
       "4941    5000000.0\n",
       "51775    950000.0\n",
       "115253  2610000.0\n",
       "299321  1090000.0\n",
       "173570  1250000.0"
      ]
     },
     "execution_count": 71,
     "metadata": {},
     "output_type": "execute_result"
    }
   ],
   "source": [
    "prediccion_final=tree.predict(test_final)\n",
    "entregable_tree=IDS[['id']].copy()\n",
    "entregable_tree['target']=prediccion_final\n",
    "entregable_tree['target']=np.exp(entregable_tree['target'])\n",
    "entregable_tree.set_index('id',inplace=True)\n",
    "entregable_tree.head()"
   ]
  },
  {
   "cell_type": "code",
   "execution_count": 72,
   "metadata": {},
   "outputs": [],
   "source": [
    "entregable_tree.to_csv('ADD_15.csv')"
   ]
  },
  {
   "cell_type": "markdown",
   "metadata": {},
   "source": [
    "### 2.2) KNN"
   ]
  },
  {
   "cell_type": "code",
   "execution_count": 75,
   "metadata": {},
   "outputs": [
    {
     "ename": "ValueError",
     "evalue": "Input contains NaN, infinity or a value too large for dtype('float64').",
     "output_type": "error",
     "traceback": [
      "\u001b[1;31m---------------------------------------------------------------------------\u001b[0m",
      "\u001b[1;31mValueError\u001b[0m                                Traceback (most recent call last)",
      "\u001b[1;32m<ipython-input-75-180d128baff9>\u001b[0m in \u001b[0;36m<module>\u001b[1;34m()\u001b[0m\n\u001b[0;32m      7\u001b[0m     \u001b[0mknn\u001b[0m\u001b[1;33m.\u001b[0m\u001b[0mfit\u001b[0m\u001b[1;33m(\u001b[0m\u001b[0mdatos_train\u001b[0m\u001b[1;33m,\u001b[0m\u001b[0mprecio_train\u001b[0m\u001b[1;33m)\u001b[0m\u001b[1;33m\u001b[0m\u001b[0m\n\u001b[0;32m      8\u001b[0m     \u001b[0mprediccion_knn_validacion\u001b[0m\u001b[1;33m=\u001b[0m\u001b[0mknn\u001b[0m\u001b[1;33m.\u001b[0m\u001b[0mpredict\u001b[0m\u001b[1;33m(\u001b[0m\u001b[0mdatos_test\u001b[0m\u001b[1;33m)\u001b[0m\u001b[1;33m\u001b[0m\u001b[0m\n\u001b[1;32m----> 9\u001b[1;33m     \u001b[0merror\u001b[0m\u001b[1;33m=\u001b[0m\u001b[0mmean_absolute_error\u001b[0m\u001b[1;33m(\u001b[0m\u001b[0mprecio_test\u001b[0m\u001b[1;33m,\u001b[0m\u001b[0mprediccion_knn_validacion\u001b[0m\u001b[1;33m)\u001b[0m\u001b[1;33m\u001b[0m\u001b[0m\n\u001b[0m\u001b[0;32m     10\u001b[0m \u001b[1;33m\u001b[0m\u001b[0m\n\u001b[0;32m     11\u001b[0m     \u001b[0mprint\u001b[0m\u001b[1;33m(\u001b[0m\u001b[1;34m'K='\u001b[0m\u001b[1;33m,\u001b[0m\u001b[0mk\u001b[0m\u001b[1;33m,\u001b[0m\u001b[1;34m'- Mean Absolute Error: '\u001b[0m\u001b[1;33m,\u001b[0m\u001b[0merror\u001b[0m\u001b[1;33m)\u001b[0m\u001b[1;33m\u001b[0m\u001b[0m\n",
      "\u001b[1;32m~\\AppData\\Roaming\\Python\\Python36\\site-packages\\sklearn\\metrics\\regression.py\u001b[0m in \u001b[0;36mmean_absolute_error\u001b[1;34m(y_true, y_pred, sample_weight, multioutput)\u001b[0m\n\u001b[0;32m    170\u001b[0m     \"\"\"\n\u001b[0;32m    171\u001b[0m     y_type, y_true, y_pred, multioutput = _check_reg_targets(\n\u001b[1;32m--> 172\u001b[1;33m         y_true, y_pred, multioutput)\n\u001b[0m\u001b[0;32m    173\u001b[0m     \u001b[0mcheck_consistent_length\u001b[0m\u001b[1;33m(\u001b[0m\u001b[0my_true\u001b[0m\u001b[1;33m,\u001b[0m \u001b[0my_pred\u001b[0m\u001b[1;33m,\u001b[0m \u001b[0msample_weight\u001b[0m\u001b[1;33m)\u001b[0m\u001b[1;33m\u001b[0m\u001b[0m\n\u001b[0;32m    174\u001b[0m     output_errors = np.average(np.abs(y_pred - y_true),\n",
      "\u001b[1;32m~\\AppData\\Roaming\\Python\\Python36\\site-packages\\sklearn\\metrics\\regression.py\u001b[0m in \u001b[0;36m_check_reg_targets\u001b[1;34m(y_true, y_pred, multioutput)\u001b[0m\n\u001b[0;32m     76\u001b[0m     \"\"\"\n\u001b[0;32m     77\u001b[0m     \u001b[0mcheck_consistent_length\u001b[0m\u001b[1;33m(\u001b[0m\u001b[0my_true\u001b[0m\u001b[1;33m,\u001b[0m \u001b[0my_pred\u001b[0m\u001b[1;33m)\u001b[0m\u001b[1;33m\u001b[0m\u001b[0m\n\u001b[1;32m---> 78\u001b[1;33m     \u001b[0my_true\u001b[0m \u001b[1;33m=\u001b[0m \u001b[0mcheck_array\u001b[0m\u001b[1;33m(\u001b[0m\u001b[0my_true\u001b[0m\u001b[1;33m,\u001b[0m \u001b[0mensure_2d\u001b[0m\u001b[1;33m=\u001b[0m\u001b[1;32mFalse\u001b[0m\u001b[1;33m)\u001b[0m\u001b[1;33m\u001b[0m\u001b[0m\n\u001b[0m\u001b[0;32m     79\u001b[0m     \u001b[0my_pred\u001b[0m \u001b[1;33m=\u001b[0m \u001b[0mcheck_array\u001b[0m\u001b[1;33m(\u001b[0m\u001b[0my_pred\u001b[0m\u001b[1;33m,\u001b[0m \u001b[0mensure_2d\u001b[0m\u001b[1;33m=\u001b[0m\u001b[1;32mFalse\u001b[0m\u001b[1;33m)\u001b[0m\u001b[1;33m\u001b[0m\u001b[0m\n\u001b[0;32m     80\u001b[0m \u001b[1;33m\u001b[0m\u001b[0m\n",
      "\u001b[1;32m~\\AppData\\Roaming\\Python\\Python36\\site-packages\\sklearn\\utils\\validation.py\u001b[0m in \u001b[0;36mcheck_array\u001b[1;34m(array, accept_sparse, accept_large_sparse, dtype, order, copy, force_all_finite, ensure_2d, allow_nd, ensure_min_samples, ensure_min_features, warn_on_dtype, estimator)\u001b[0m\n\u001b[0;32m    540\u001b[0m         \u001b[1;32mif\u001b[0m \u001b[0mforce_all_finite\u001b[0m\u001b[1;33m:\u001b[0m\u001b[1;33m\u001b[0m\u001b[0m\n\u001b[0;32m    541\u001b[0m             _assert_all_finite(array,\n\u001b[1;32m--> 542\u001b[1;33m                                allow_nan=force_all_finite == 'allow-nan')\n\u001b[0m\u001b[0;32m    543\u001b[0m \u001b[1;33m\u001b[0m\u001b[0m\n\u001b[0;32m    544\u001b[0m     \u001b[1;32mif\u001b[0m \u001b[0mensure_min_samples\u001b[0m \u001b[1;33m>\u001b[0m \u001b[1;36m0\u001b[0m\u001b[1;33m:\u001b[0m\u001b[1;33m\u001b[0m\u001b[0m\n",
      "\u001b[1;32m~\\AppData\\Roaming\\Python\\Python36\\site-packages\\sklearn\\utils\\validation.py\u001b[0m in \u001b[0;36m_assert_all_finite\u001b[1;34m(X, allow_nan)\u001b[0m\n\u001b[0;32m     54\u001b[0m                 not allow_nan and not np.isfinite(X).all()):\n\u001b[0;32m     55\u001b[0m             \u001b[0mtype_err\u001b[0m \u001b[1;33m=\u001b[0m \u001b[1;34m'infinity'\u001b[0m \u001b[1;32mif\u001b[0m \u001b[0mallow_nan\u001b[0m \u001b[1;32melse\u001b[0m \u001b[1;34m'NaN, infinity'\u001b[0m\u001b[1;33m\u001b[0m\u001b[0m\n\u001b[1;32m---> 56\u001b[1;33m             \u001b[1;32mraise\u001b[0m \u001b[0mValueError\u001b[0m\u001b[1;33m(\u001b[0m\u001b[0mmsg_err\u001b[0m\u001b[1;33m.\u001b[0m\u001b[0mformat\u001b[0m\u001b[1;33m(\u001b[0m\u001b[0mtype_err\u001b[0m\u001b[1;33m,\u001b[0m \u001b[0mX\u001b[0m\u001b[1;33m.\u001b[0m\u001b[0mdtype\u001b[0m\u001b[1;33m)\u001b[0m\u001b[1;33m)\u001b[0m\u001b[1;33m\u001b[0m\u001b[0m\n\u001b[0m\u001b[0;32m     57\u001b[0m     \u001b[1;31m# for object dtype data, we only check for NaNs (GH-13254)\u001b[0m\u001b[1;33m\u001b[0m\u001b[1;33m\u001b[0m\u001b[0m\n\u001b[0;32m     58\u001b[0m     \u001b[1;32melif\u001b[0m \u001b[0mX\u001b[0m\u001b[1;33m.\u001b[0m\u001b[0mdtype\u001b[0m \u001b[1;33m==\u001b[0m \u001b[0mnp\u001b[0m\u001b[1;33m.\u001b[0m\u001b[0mdtype\u001b[0m\u001b[1;33m(\u001b[0m\u001b[1;34m'object'\u001b[0m\u001b[1;33m)\u001b[0m \u001b[1;32mand\u001b[0m \u001b[1;32mnot\u001b[0m \u001b[0mallow_nan\u001b[0m\u001b[1;33m:\u001b[0m\u001b[1;33m\u001b[0m\u001b[0m\n",
      "\u001b[1;31mValueError\u001b[0m: Input contains NaN, infinity or a value too large for dtype('float64')."
     ]
    }
   ],
   "source": [
    "#Busco el valor de K que nos de el menor error\n",
    "rango_k = range(1, 20)\n",
    "metricas=[]\n",
    "\n",
    "for k in rango_k:\n",
    "    knn = KNeighborsRegressor(n_neighbors=k,algorithm='kd_tree',metric='manhattan',n_jobs=-1)\n",
    "    knn.fit(datos_train,precio_train)\n",
    "    prediccion_knn_validacion=knn.predict(datos_test)\n",
    "    error=mean_absolute_error(precio_test,prediccion_knn_validacion)\n",
    "\n",
    "    print('K=',k,'- Mean Absolute Error: ',error)\n",
    "    metricas.append(error)"
   ]
  },
  {
   "cell_type": "code",
   "execution_count": 62,
   "metadata": {
    "scrolled": false
   },
   "outputs": [
    {
     "data": {
      "text/plain": [
       "Text(0,0.5,'Error')"
      ]
     },
     "execution_count": 62,
     "metadata": {},
     "output_type": "execute_result"
    },
    {
     "data": {
      "image/png": "[encoded data removed]",
      "text/plain": [
       "<matplotlib.figure.Figure at 0x179a3f0df60>"
      ]
     },
     "metadata": {},
     "output_type": "display_data"
    }
   ],
   "source": [
    "#Ploteamos para ver una mejor representacion\n",
    "plt.subplots(figsize=(10,10))\n",
    "plt.plot(rango_k,metricas)\n",
    "plt.title(\"Error en Relación al Valor de K\",fontsize=20)\n",
    "plt.xlabel(\"K\",fontsize=15)\n",
    "plt.ylabel(\"Error\",fontsize=15)"
   ]
  },
  {
   "cell_type": "code",
   "execution_count": 63,
   "metadata": {},
   "outputs": [],
   "source": [
    "knn = KNeighborsRegressor(n_neighbors=4,algorithm='kd_tree',metric='manhattan')"
   ]
  },
  {
   "cell_type": "code",
   "execution_count": 64,
   "metadata": {},
   "outputs": [
    {
     "data": {
      "text/plain": [
       "KNeighborsRegressor(algorithm='kd_tree', leaf_size=30, metric='manhattan',\n",
       "                    metric_params=None, n_jobs=None, n_neighbors=4, p=2,\n",
       "                    weights='uniform')"
      ]
     },
     "execution_count": 64,
     "metadata": {},
     "output_type": "execute_result"
    }
   ],
   "source": [
    "knn.fit(datos_train,precio_train)"
   ]
  },
  {
   "cell_type": "code",
   "execution_count": 65,
   "metadata": {},
   "outputs": [],
   "source": [
    "prediccion_knn=knn.predict(test_final)"
   ]
  },
  {
   "cell_type": "code",
   "execution_count": 66,
   "metadata": {},
   "outputs": [
    {
     "data": {
      "text/html": [
       "<div>\n",
       "<style scoped>\n",
       "    .dataframe tbody tr th:only-of-type {\n",
       "        vertical-align: middle;\n",
       "    }\n",
       "\n",
       "    .dataframe tbody tr th {\n",
       "        vertical-align: top;\n",
       "    }\n",
       "\n",
       "    .dataframe thead th {\n",
       "        text-align: right;\n",
       "    }\n",
       "</style>\n",
       "<table border=\"1\" class=\"dataframe\">\n",
       "  <thead>\n",
       "    <tr style=\"text-align: right;\">\n",
       "      <th></th>\n",
       "      <th>target</th>\n",
       "    </tr>\n",
       "    <tr>\n",
       "      <th>id</th>\n",
       "      <th></th>\n",
       "    </tr>\n",
       "  </thead>\n",
       "  <tbody>\n",
       "    <tr>\n",
       "      <th>4941</th>\n",
       "      <td>6.364616e+06</td>\n",
       "    </tr>\n",
       "    <tr>\n",
       "      <th>51775</th>\n",
       "      <td>1.157719e+06</td>\n",
       "    </tr>\n",
       "    <tr>\n",
       "      <th>115253</th>\n",
       "      <td>2.461023e+06</td>\n",
       "    </tr>\n",
       "    <tr>\n",
       "      <th>299321</th>\n",
       "      <td>1.320656e+06</td>\n",
       "    </tr>\n",
       "    <tr>\n",
       "      <th>173570</th>\n",
       "      <td>5.161149e+05</td>\n",
       "    </tr>\n",
       "  </tbody>\n",
       "</table>\n",
       "</div>"
      ],
      "text/plain": [
       "              target\n",
       "id                  \n",
       "4941    6.364616e+06\n",
       "51775   1.157719e+06\n",
       "115253  2.461023e+06\n",
       "299321  1.320656e+06\n",
       "173570  5.161149e+05"
      ]
     },
     "execution_count": 66,
     "metadata": {},
     "output_type": "execute_result"
    }
   ],
   "source": [
    "entregable_knn=IDS[['id']].copy()\n",
    "entregable_knn['target']=prediccion_knn\n",
    "entregable_knn.set_index('id',inplace=True)\n",
    "entregable_knn['target']=np.exp(entregable_knn['target'])\n",
    "entregable_knn.head()"
   ]
  },
  {
   "cell_type": "code",
   "execution_count": 67,
   "metadata": {},
   "outputs": [],
   "source": [
    "entregable_knn.to_csv('KNN_15.csv')"
   ]
  },
  {
   "cell_type": "markdown",
   "metadata": {},
   "source": [
    "### 2.3) Ada Boosting"
   ]
  },
  {
   "cell_type": "code",
   "execution_count": 108,
   "metadata": {},
   "outputs": [],
   "source": [
    "ada = AdaBoostRegressor()"
   ]
  },
  {
   "cell_type": "code",
   "execution_count": 109,
   "metadata": {},
   "outputs": [
    {
     "data": {
      "text/plain": [
       "AdaBoostRegressor(base_estimator=None, learning_rate=1.0, loss='linear',\n",
       "                  n_estimators=50, random_state=None)"
      ]
     },
     "execution_count": 109,
     "metadata": {},
     "output_type": "execute_result"
    }
   ],
   "source": [
    "ada.fit(datos_train,precio_train)"
   ]
  },
  {
   "cell_type": "code",
   "execution_count": 110,
   "metadata": {},
   "outputs": [
    {
     "name": "stdout",
     "output_type": "stream",
     "text": [
      "Mean Absolute Error:  1386851.525994734\n"
     ]
    }
   ],
   "source": [
    "prediccion_ada_validacion=ada.predict(datos_test)\n",
    "error=mean_absolute_error(precio_test,prediccion_ada_validacion)\n",
    "\n",
    "print('Mean Absolute Error: ',error)"
   ]
  },
  {
   "cell_type": "code",
   "execution_count": 240,
   "metadata": {},
   "outputs": [],
   "source": [
    "prediccion_ada=ada.predict(test_final)"
   ]
  },
  {
   "cell_type": "code",
   "execution_count": 241,
   "metadata": {},
   "outputs": [
    {
     "data": {
      "text/html": [
       "<div>\n",
       "<style scoped>\n",
       "    .dataframe tbody tr th:only-of-type {\n",
       "        vertical-align: middle;\n",
       "    }\n",
       "\n",
       "    .dataframe tbody tr th {\n",
       "        vertical-align: top;\n",
       "    }\n",
       "\n",
       "    .dataframe thead th {\n",
       "        text-align: right;\n",
       "    }\n",
       "</style>\n",
       "<table border=\"1\" class=\"dataframe\">\n",
       "  <thead>\n",
       "    <tr style=\"text-align: right;\">\n",
       "      <th></th>\n",
       "      <th>target</th>\n",
       "    </tr>\n",
       "    <tr>\n",
       "      <th>id</th>\n",
       "      <th></th>\n",
       "    </tr>\n",
       "  </thead>\n",
       "  <tbody>\n",
       "    <tr>\n",
       "      <th>4941</th>\n",
       "      <td>5821145.0</td>\n",
       "    </tr>\n",
       "    <tr>\n",
       "      <th>51775</th>\n",
       "      <td>1847268.0</td>\n",
       "    </tr>\n",
       "    <tr>\n",
       "      <th>115253</th>\n",
       "      <td>2940219.0</td>\n",
       "    </tr>\n",
       "    <tr>\n",
       "      <th>299321</th>\n",
       "      <td>2393795.0</td>\n",
       "    </tr>\n",
       "    <tr>\n",
       "      <th>173570</th>\n",
       "      <td>1580476.0</td>\n",
       "    </tr>\n",
       "  </tbody>\n",
       "</table>\n",
       "</div>"
      ],
      "text/plain": [
       "           target\n",
       "id               \n",
       "4941    5821145.0\n",
       "51775   1847268.0\n",
       "115253  2940219.0\n",
       "299321  2393795.0\n",
       "173570  1580476.0"
      ]
     },
     "execution_count": 241,
     "metadata": {},
     "output_type": "execute_result"
    }
   ],
   "source": [
    "entregable_ada=IDS[['id']].copy()\n",
    "entregable_ada['target']=prediccion_ada\n",
    "entregable_ada.set_index('id',inplace=True)\n",
    "entregable_ada['target']=entregable_ada['target'].round()\n",
    "entregable_ada.head()"
   ]
  },
  {
   "cell_type": "code",
   "execution_count": 205,
   "metadata": {},
   "outputs": [],
   "source": [
    "entregable_ada.to_csv('ADA_02.csv')"
   ]
  },
  {
   "cell_type": "markdown",
   "metadata": {},
   "source": [
    "### 2.4) Ridge"
   ]
  },
  {
   "cell_type": "code",
   "execution_count": 111,
   "metadata": {},
   "outputs": [],
   "source": [
    "ridge = Ridge()"
   ]
  },
  {
   "cell_type": "code",
   "execution_count": 112,
   "metadata": {},
   "outputs": [
    {
     "name": "stderr",
     "output_type": "stream",
     "text": [
      "C:\\ProgramData\\Anaconda3\\lib\\site-packages\\scipy\\linalg\\basic.py:40: RuntimeWarning: scipy.linalg.solve\n",
      "Ill-conditioned matrix detected. Result is not guaranteed to be accurate.\n",
      "Reciprocal condition number/precision: 3.3133174578521516e-20 / 1.1102230246251565e-16\n",
      "  RuntimeWarning)\n"
     ]
    },
    {
     "data": {
      "text/plain": [
       "Ridge(alpha=1.0, copy_X=True, fit_intercept=True, max_iter=None,\n",
       "      normalize=False, random_state=None, solver='auto', tol=0.001)"
      ]
     },
     "execution_count": 112,
     "metadata": {},
     "output_type": "execute_result"
    }
   ],
   "source": [
    "ridge.fit(datos_train,precio_train)"
   ]
  },
  {
   "cell_type": "code",
   "execution_count": 113,
   "metadata": {},
   "outputs": [
    {
     "name": "stdout",
     "output_type": "stream",
     "text": [
      "Mean Absolute Error:  843192.9520309053\n"
     ]
    }
   ],
   "source": [
    "prediccion_ridge_validacion=ridge.predict(datos_test)\n",
    "error=mean_absolute_error(precio_test,prediccion_ridge_validacion)\n",
    "\n",
    "print('Mean Absolute Error: ',error)"
   ]
  },
  {
   "cell_type": "markdown",
   "metadata": {},
   "source": [
    "### 2.5) Lasso"
   ]
  },
  {
   "cell_type": "code",
   "execution_count": 114,
   "metadata": {},
   "outputs": [],
   "source": [
    "lasso = Lasso(alpha=1000,positive=True)"
   ]
  },
  {
   "cell_type": "code",
   "execution_count": 115,
   "metadata": {},
   "outputs": [
    {
     "name": "stderr",
     "output_type": "stream",
     "text": [
      "C:\\Users\\sergio\\AppData\\Roaming\\Python\\Python36\\site-packages\\sklearn\\linear_model\\coordinate_descent.py:475: ConvergenceWarning: Objective did not converge. You might want to increase the number of iterations. Duality gap: 7066739148890496.0, tolerance: 41064852705799.44\n",
      "  positive)\n"
     ]
    },
    {
     "data": {
      "text/plain": [
       "Lasso(alpha=1000, copy_X=True, fit_intercept=True, max_iter=1000,\n",
       "      normalize=False, positive=True, precompute=False, random_state=None,\n",
       "      selection='cyclic', tol=0.0001, warm_start=False)"
      ]
     },
     "execution_count": 115,
     "metadata": {},
     "output_type": "execute_result"
    }
   ],
   "source": [
    "lasso.fit(datos_train,precio_train)"
   ]
  },
  {
   "cell_type": "code",
   "execution_count": 116,
   "metadata": {},
   "outputs": [
    {
     "name": "stdout",
     "output_type": "stream",
     "text": [
      "Mean Absolute Error:  861496.8927971352\n"
     ]
    }
   ],
   "source": [
    "prediccion_lasso_validacion=lasso.predict(datos_test)\n",
    "error=mean_absolute_error(precio_test,prediccion_lasso_validacion)\n",
    "\n",
    "print('Mean Absolute Error: ',error)"
   ]
  },
  {
   "cell_type": "markdown",
   "metadata": {},
   "source": [
    "### 2.6) Bagging"
   ]
  },
  {
   "cell_type": "markdown",
   "metadata": {},
   "source": [
    "#### 2.6.1) KNN"
   ]
  },
  {
   "cell_type": "code",
   "execution_count": 117,
   "metadata": {},
   "outputs": [],
   "source": [
    "bagging_knn = BaggingRegressor(KNeighborsRegressor(n_neighbors=6,algorithm='kd_tree',metric='manhattan'))"
   ]
  },
  {
   "cell_type": "code",
   "execution_count": 118,
   "metadata": {},
   "outputs": [
    {
     "data": {
      "text/plain": [
       "BaggingRegressor(base_estimator=KNeighborsRegressor(algorithm='kd_tree',\n",
       "                                                    leaf_size=30,\n",
       "                                                    metric='manhattan',\n",
       "                                                    metric_params=None,\n",
       "                                                    n_jobs=None, n_neighbors=6,\n",
       "                                                    p=2, weights='uniform'),\n",
       "                 bootstrap=True, bootstrap_features=False, max_features=1.0,\n",
       "                 max_samples=1.0, n_estimators=10, n_jobs=None, oob_score=False,\n",
       "                 random_state=None, verbose=0, warm_start=False)"
      ]
     },
     "execution_count": 118,
     "metadata": {},
     "output_type": "execute_result"
    }
   ],
   "source": [
    "bagging_knn.fit(datos_train,precio_train)"
   ]
  },
  {
   "cell_type": "code",
   "execution_count": 119,
   "metadata": {},
   "outputs": [
    {
     "name": "stdout",
     "output_type": "stream",
     "text": [
      "Mean Absolute Error:  683237.5696868197\n"
     ]
    }
   ],
   "source": [
    "prediccion_bagging_knn_validacion=bagging_knn.predict(datos_test)\n",
    "error=mean_absolute_error(precio_test,prediccion_bagging_knn_validacion)\n",
    "\n",
    "print('Mean Absolute Error: ',error)"
   ]
  },
  {
   "cell_type": "code",
   "execution_count": 251,
   "metadata": {},
   "outputs": [],
   "source": [
    "prediccion_bagging_knn=bagging_knn.predict(test_final)"
   ]
  },
  {
   "cell_type": "code",
   "execution_count": 252,
   "metadata": {},
   "outputs": [
    {
     "data": {
      "text/html": [
       "<div>\n",
       "<style scoped>\n",
       "    .dataframe tbody tr th:only-of-type {\n",
       "        vertical-align: middle;\n",
       "    }\n",
       "\n",
       "    .dataframe tbody tr th {\n",
       "        vertical-align: top;\n",
       "    }\n",
       "\n",
       "    .dataframe thead th {\n",
       "        text-align: right;\n",
       "    }\n",
       "</style>\n",
       "<table border=\"1\" class=\"dataframe\">\n",
       "  <thead>\n",
       "    <tr style=\"text-align: right;\">\n",
       "      <th></th>\n",
       "      <th>target</th>\n",
       "    </tr>\n",
       "    <tr>\n",
       "      <th>id</th>\n",
       "      <th></th>\n",
       "    </tr>\n",
       "  </thead>\n",
       "  <tbody>\n",
       "    <tr>\n",
       "      <th>4941</th>\n",
       "      <td>4713571.0</td>\n",
       "    </tr>\n",
       "    <tr>\n",
       "      <th>51775</th>\n",
       "      <td>1219714.0</td>\n",
       "    </tr>\n",
       "    <tr>\n",
       "      <th>115253</th>\n",
       "      <td>2302653.0</td>\n",
       "    </tr>\n",
       "    <tr>\n",
       "      <th>299321</th>\n",
       "      <td>1478113.0</td>\n",
       "    </tr>\n",
       "    <tr>\n",
       "      <th>173570</th>\n",
       "      <td>796586.0</td>\n",
       "    </tr>\n",
       "  </tbody>\n",
       "</table>\n",
       "</div>"
      ],
      "text/plain": [
       "           target\n",
       "id               \n",
       "4941    4713571.0\n",
       "51775   1219714.0\n",
       "115253  2302653.0\n",
       "299321  1478113.0\n",
       "173570   796586.0"
      ]
     },
     "execution_count": 252,
     "metadata": {},
     "output_type": "execute_result"
    }
   ],
   "source": [
    "entregable_bagging_knn=IDS[['id']].copy()\n",
    "entregable_bagging_knn['target']=prediccion_bagging_knn\n",
    "entregable_bagging_knn.set_index('id',inplace=True)\n",
    "entregable_bagging_knn['target']=np.exp(entregable_bagging_knn['target'])\n",
    "entregable_bagging_knn.head()"
   ]
  },
  {
   "cell_type": "code",
   "execution_count": 269,
   "metadata": {},
   "outputs": [],
   "source": [
    "entregable_bagging_knn.to_csv('BAGGING_KNN_01.csv')"
   ]
  },
  {
   "cell_type": "markdown",
   "metadata": {},
   "source": [
    "#### 2.6.2) Random Forest"
   ]
  },
  {
   "cell_type": "code",
   "execution_count": 55,
   "metadata": {},
   "outputs": [],
   "source": [
    "bagging_random = BaggingRegressor(RandomForestRegressor(random_state=0, n_jobs=-1, n_estimators=450,bootstrap=True,criterion='mse'))"
   ]
  },
  {
   "cell_type": "code",
   "execution_count": 56,
   "metadata": {},
   "outputs": [
    {
     "data": {
      "text/plain": [
       "BaggingRegressor(base_estimator=RandomForestRegressor(bootstrap=True,\n",
       "                                                      criterion='mse',\n",
       "                                                      max_depth=None,\n",
       "                                                      max_features='auto',\n",
       "                                                      max_leaf_nodes=None,\n",
       "                                                      min_impurity_decrease=0.0,\n",
       "                                                      min_impurity_split=None,\n",
       "                                                      min_samples_leaf=1,\n",
       "                                                      min_samples_split=2,\n",
       "                                                      min_weight_fraction_leaf=0.0,\n",
       "                                                      n_estimators=450,\n",
       "                                                      n_jobs=-1,\n",
       "                                                      oob_score=False,\n",
       "                                                      random_state=0, verbose=0,\n",
       "                                                      warm_start=False),\n",
       "                 bootstrap=True, bootstrap_features=False, max_features=1.0,\n",
       "                 max_samples=1.0, n_estimators=10, n_jobs=None, oob_score=False,\n",
       "                 random_state=None, verbose=0, warm_start=False)"
      ]
     },
     "execution_count": 56,
     "metadata": {},
     "output_type": "execute_result"
    }
   ],
   "source": [
    "bagging_random.fit(datos_train,precio_train)"
   ]
  },
  {
   "cell_type": "code",
   "execution_count": 57,
   "metadata": {},
   "outputs": [
    {
     "name": "stdout",
     "output_type": "stream",
     "text": [
      "Mean Absolute Error:  0.23549416944823853\n"
     ]
    }
   ],
   "source": [
    "prediccion_bagging_random_validacion=bagging_random.predict(datos_test)\n",
    "error=mean_absolute_error(precio_test,prediccion_bagging_random_validacion)\n",
    "#error=np.exp(error)\n",
    "\n",
    "print('Mean Absolute Error: ',error)"
   ]
  },
  {
   "cell_type": "code",
   "execution_count": 58,
   "metadata": {},
   "outputs": [],
   "source": [
    "prediccion_bagging_random=bagging_random.predict(test_final)"
   ]
  },
  {
   "cell_type": "code",
   "execution_count": 59,
   "metadata": {},
   "outputs": [
    {
     "data": {
      "text/html": [
       "<div>\n",
       "<style scoped>\n",
       "    .dataframe tbody tr th:only-of-type {\n",
       "        vertical-align: middle;\n",
       "    }\n",
       "\n",
       "    .dataframe tbody tr th {\n",
       "        vertical-align: top;\n",
       "    }\n",
       "\n",
       "    .dataframe thead th {\n",
       "        text-align: right;\n",
       "    }\n",
       "</style>\n",
       "<table border=\"1\" class=\"dataframe\">\n",
       "  <thead>\n",
       "    <tr style=\"text-align: right;\">\n",
       "      <th></th>\n",
       "      <th>target</th>\n",
       "    </tr>\n",
       "    <tr>\n",
       "      <th>id</th>\n",
       "      <th></th>\n",
       "    </tr>\n",
       "  </thead>\n",
       "  <tbody>\n",
       "    <tr>\n",
       "      <th>4941</th>\n",
       "      <td>3.590455e+06</td>\n",
       "    </tr>\n",
       "    <tr>\n",
       "      <th>51775</th>\n",
       "      <td>1.100291e+06</td>\n",
       "    </tr>\n",
       "    <tr>\n",
       "      <th>115253</th>\n",
       "      <td>2.379708e+06</td>\n",
       "    </tr>\n",
       "    <tr>\n",
       "      <th>299321</th>\n",
       "      <td>1.246374e+06</td>\n",
       "    </tr>\n",
       "    <tr>\n",
       "      <th>173570</th>\n",
       "      <td>6.175388e+05</td>\n",
       "    </tr>\n",
       "  </tbody>\n",
       "</table>\n",
       "</div>"
      ],
      "text/plain": [
       "              target\n",
       "id                  \n",
       "4941    3.590455e+06\n",
       "51775   1.100291e+06\n",
       "115253  2.379708e+06\n",
       "299321  1.246374e+06\n",
       "173570  6.175388e+05"
      ]
     },
     "execution_count": 59,
     "metadata": {},
     "output_type": "execute_result"
    }
   ],
   "source": [
    "entregable_bagging_random=IDS[['id']].copy()\n",
    "entregable_bagging_random['target']=prediccion_bagging_random\n",
    "entregable_bagging_random.set_index('id',inplace=True)\n",
    "entregable_bagging_random['target']=np.exp(entregable_bagging_random['target'])\n",
    "entregable_bagging_random.head()"
   ]
  },
  {
   "cell_type": "code",
   "execution_count": 60,
   "metadata": {},
   "outputs": [],
   "source": [
    "entregable_bagging_random.to_csv('BAGGING_RANDOM_01.csv')"
   ]
  },
  {
   "cell_type": "markdown",
   "metadata": {},
   "source": [
    "### 2.7) Extra Tree Regressor"
   ]
  },
  {
   "cell_type": "code",
   "execution_count": 123,
   "metadata": {},
   "outputs": [],
   "source": [
    "extra_tree = ExtraTreesRegressor(n_estimators=450,criterion='mse',bootstrap=True,n_jobs=-1)"
   ]
  },
  {
   "cell_type": "code",
   "execution_count": 124,
   "metadata": {},
   "outputs": [
    {
     "data": {
      "text/plain": [
       "ExtraTreesRegressor(bootstrap=True, criterion='mse', max_depth=None,\n",
       "                    max_features='auto', max_leaf_nodes=None,\n",
       "                    min_impurity_decrease=0.0, min_impurity_split=None,\n",
       "                    min_samples_leaf=1, min_samples_split=2,\n",
       "                    min_weight_fraction_leaf=0.0, n_estimators=350, n_jobs=-1,\n",
       "                    oob_score=False, random_state=None, verbose=0,\n",
       "                    warm_start=False)"
      ]
     },
     "execution_count": 124,
     "metadata": {},
     "output_type": "execute_result"
    }
   ],
   "source": [
    "extra_tree.fit(datos_train,precio_train)"
   ]
  },
  {
   "cell_type": "code",
   "execution_count": 125,
   "metadata": {},
   "outputs": [
    {
     "name": "stdout",
     "output_type": "stream",
     "text": [
      "Mean Absolute Error:  529747.3275924053\n"
     ]
    }
   ],
   "source": [
    "prediccion_extra_tree_validacion=extra_tree.predict(datos_test)\n",
    "error=mean_absolute_error(precio_test,prediccion_extra_tree_validacion)\n",
    "\n",
    "print('Mean Absolute Error: ',error)"
   ]
  },
  {
   "cell_type": "code",
   "execution_count": 126,
   "metadata": {},
   "outputs": [],
   "source": [
    "prediccion_extra_tree=extra_tree.predict(test_final)"
   ]
  },
  {
   "cell_type": "code",
   "execution_count": 127,
   "metadata": {},
   "outputs": [
    {
     "data": {
      "text/html": [
       "<div>\n",
       "<style scoped>\n",
       "    .dataframe tbody tr th:only-of-type {\n",
       "        vertical-align: middle;\n",
       "    }\n",
       "\n",
       "    .dataframe tbody tr th {\n",
       "        vertical-align: top;\n",
       "    }\n",
       "\n",
       "    .dataframe thead th {\n",
       "        text-align: right;\n",
       "    }\n",
       "</style>\n",
       "<table border=\"1\" class=\"dataframe\">\n",
       "  <thead>\n",
       "    <tr style=\"text-align: right;\">\n",
       "      <th></th>\n",
       "      <th>target</th>\n",
       "    </tr>\n",
       "    <tr>\n",
       "      <th>id</th>\n",
       "      <th></th>\n",
       "    </tr>\n",
       "  </thead>\n",
       "  <tbody>\n",
       "    <tr>\n",
       "      <th>4941</th>\n",
       "      <td>2786644.0</td>\n",
       "    </tr>\n",
       "    <tr>\n",
       "      <th>51775</th>\n",
       "      <td>571034.0</td>\n",
       "    </tr>\n",
       "    <tr>\n",
       "      <th>115253</th>\n",
       "      <td>1304591.0</td>\n",
       "    </tr>\n",
       "    <tr>\n",
       "      <th>299321</th>\n",
       "      <td>1126496.0</td>\n",
       "    </tr>\n",
       "    <tr>\n",
       "      <th>173570</th>\n",
       "      <td>617622.0</td>\n",
       "    </tr>\n",
       "  </tbody>\n",
       "</table>\n",
       "</div>"
      ],
      "text/plain": [
       "           target\n",
       "id               \n",
       "4941    2786644.0\n",
       "51775    571034.0\n",
       "115253  1304591.0\n",
       "299321  1126496.0\n",
       "173570   617622.0"
      ]
     },
     "execution_count": 127,
     "metadata": {},
     "output_type": "execute_result"
    }
   ],
   "source": [
    "entregable_extra_tree=IDS[['id']].copy()\n",
    "entregable_extra_tree['target']=prediccion_extra_tree\n",
    "entregable_extra_tree.set_index('id',inplace=True)\n",
    "entregable_extra_tree['target']=entregable_extra_tree['target'].round()\n",
    "entregable_extra_tree.head()"
   ]
  },
  {
   "cell_type": "code",
   "execution_count": 128,
   "metadata": {},
   "outputs": [],
   "source": [
    "entregable_extra_tree.to_csv('EXTRA_TREE_07.csv')"
   ]
  },
  {
   "cell_type": "markdown",
   "metadata": {},
   "source": [
    "### 2.8) XGBoosting"
   ]
  },
  {
   "cell_type": "code",
   "execution_count": 224,
   "metadata": {},
   "outputs": [],
   "source": [
    "xgboost = xgb.XGBRegressor(objective ='reg:linear', n_estimators = 100)"
   ]
  },
  {
   "cell_type": "code",
   "execution_count": 225,
   "metadata": {},
   "outputs": [
    {
     "name": "stdout",
     "output_type": "stream",
     "text": [
      "[12:30:02] WARNING: C:/Jenkins/workspace/xgboost-win64_release_0.90/src/objective/regression_obj.cu:152: reg:linear is now deprecated in favor of reg:squarederror.\n"
     ]
    },
    {
     "data": {
      "text/plain": [
       "XGBRegressor(base_score=0.5, booster='gbtree', colsample_bylevel=1,\n",
       "       colsample_bynode=1, colsample_bytree=1, gamma=0,\n",
       "       importance_type='gain', learning_rate=0.1, max_delta_step=0,\n",
       "       max_depth=3, min_child_weight=1, missing=None, n_estimators=100,\n",
       "       n_jobs=1, nthread=None, objective='reg:linear', random_state=0,\n",
       "       reg_alpha=0, reg_lambda=1, scale_pos_weight=1, seed=None,\n",
       "       silent=None, subsample=1, verbosity=1)"
      ]
     },
     "execution_count": 225,
     "metadata": {},
     "output_type": "execute_result"
    }
   ],
   "source": [
    "xgboost.fit(datos_train,precio_train)"
   ]
  },
  {
   "cell_type": "code",
   "execution_count": 226,
   "metadata": {
    "scrolled": true
   },
   "outputs": [
    {
     "name": "stdout",
     "output_type": "stream",
     "text": [
      "Mean Absolute Error:  688021.7892900549\n"
     ]
    }
   ],
   "source": [
    "prediccion_xgboost_validacion=xgboost.predict(datos_test)\n",
    "error=mean_absolute_error(precio_test,prediccion_xgboost_validacion)\n",
    "\n",
    "print('Mean Absolute Error: ',error)"
   ]
  },
  {
   "cell_type": "markdown",
   "metadata": {},
   "source": [
    "### 2.9) Linear Regression"
   ]
  },
  {
   "cell_type": "code",
   "execution_count": 129,
   "metadata": {},
   "outputs": [],
   "source": [
    "linear = LinearRegression()"
   ]
  },
  {
   "cell_type": "code",
   "execution_count": 130,
   "metadata": {},
   "outputs": [
    {
     "data": {
      "text/plain": [
       "LinearRegression(copy_X=True, fit_intercept=True, n_jobs=None, normalize=False)"
      ]
     },
     "execution_count": 130,
     "metadata": {},
     "output_type": "execute_result"
    }
   ],
   "source": [
    "linear.fit(datos_train,precio_train)"
   ]
  },
  {
   "cell_type": "code",
   "execution_count": 131,
   "metadata": {},
   "outputs": [
    {
     "name": "stdout",
     "output_type": "stream",
     "text": [
      "Mean Absolute Error:  843205.4875225943\n"
     ]
    }
   ],
   "source": [
    "prediccion_linear_validacion=linear.predict(datos_test)\n",
    "error=mean_absolute_error(precio_test,prediccion_linear_validacion)\n",
    "\n",
    "print('Mean Absolute Error: ',error)"
   ]
  },
  {
   "cell_type": "markdown",
   "metadata": {},
   "source": [
    "### 2.10) ElasticNet Regression"
   ]
  },
  {
   "cell_type": "code",
   "execution_count": 132,
   "metadata": {},
   "outputs": [],
   "source": [
    "elastic = ElasticNet(alpha=1000)"
   ]
  },
  {
   "cell_type": "code",
   "execution_count": 133,
   "metadata": {},
   "outputs": [
    {
     "data": {
      "text/plain": [
       "ElasticNet(alpha=1000, copy_X=True, fit_intercept=True, l1_ratio=0.5,\n",
       "           max_iter=1000, normalize=False, positive=False, precompute=False,\n",
       "           random_state=None, selection='cyclic', tol=0.0001, warm_start=False)"
      ]
     },
     "execution_count": 133,
     "metadata": {},
     "output_type": "execute_result"
    }
   ],
   "source": [
    "elastic.fit(datos_train,precio_train)"
   ]
  },
  {
   "cell_type": "code",
   "execution_count": 134,
   "metadata": {},
   "outputs": [
    {
     "name": "stdout",
     "output_type": "stream",
     "text": [
      "Mean Absolute Error:  972929.8124297633\n"
     ]
    }
   ],
   "source": [
    "prediccion_elastic_validacion=elastic.predict(datos_test)\n",
    "error=mean_absolute_error(precio_test,prediccion_elastic_validacion)\n",
    "\n",
    "print('Mean Absolute Error: ',error)"
   ]
  },
  {
   "cell_type": "markdown",
   "metadata": {},
   "source": [
    "### 2.11) SVR"
   ]
  },
  {
   "cell_type": "code",
   "execution_count": 324,
   "metadata": {},
   "outputs": [],
   "source": [
    "svr = SVR()"
   ]
  },
  {
   "cell_type": "code",
   "execution_count": 325,
   "metadata": {},
   "outputs": [
    {
     "data": {
      "text/plain": [
       "SVR(C=1.0, cache_size=200, coef0=0.0, degree=3, epsilon=0.1, gamma='auto',\n",
       "  kernel='rbf', max_iter=-1, shrinking=True, tol=0.001, verbose=False)"
      ]
     },
     "execution_count": 325,
     "metadata": {},
     "output_type": "execute_result"
    }
   ],
   "source": [
    "svr.fit(datos_train,precio_train)"
   ]
  },
  {
   "cell_type": "code",
   "execution_count": 326,
   "metadata": {},
   "outputs": [
    {
     "name": "stdout",
     "output_type": "stream",
     "text": [
      "Mean Absolute Error:  1399472.5529731475\n"
     ]
    }
   ],
   "source": [
    "prediccion_svr_validacion=svr.predict(datos_test)\n",
    "error=mean_absolute_error(precio_test,prediccion_svr_validacion)\n",
    "\n",
    "print('Mean Absolute Error: ',error)"
   ]
  },
  {
   "cell_type": "code",
   "execution_count": 327,
   "metadata": {},
   "outputs": [],
   "source": [
    "prediccion_svr=svr.predict(test_final)"
   ]
  },
  {
   "cell_type": "code",
   "execution_count": 328,
   "metadata": {},
   "outputs": [
    {
     "data": {
      "text/html": [
       "<div>\n",
       "<style scoped>\n",
       "    .dataframe tbody tr th:only-of-type {\n",
       "        vertical-align: middle;\n",
       "    }\n",
       "\n",
       "    .dataframe tbody tr th {\n",
       "        vertical-align: top;\n",
       "    }\n",
       "\n",
       "    .dataframe thead th {\n",
       "        text-align: right;\n",
       "    }\n",
       "</style>\n",
       "<table border=\"1\" class=\"dataframe\">\n",
       "  <thead>\n",
       "    <tr style=\"text-align: right;\">\n",
       "      <th></th>\n",
       "      <th>target</th>\n",
       "    </tr>\n",
       "    <tr>\n",
       "      <th>id</th>\n",
       "      <th></th>\n",
       "    </tr>\n",
       "  </thead>\n",
       "  <tbody>\n",
       "    <tr>\n",
       "      <th>4941</th>\n",
       "      <td>1.550002e+06</td>\n",
       "    </tr>\n",
       "    <tr>\n",
       "      <th>51775</th>\n",
       "      <td>1.550002e+06</td>\n",
       "    </tr>\n",
       "    <tr>\n",
       "      <th>115253</th>\n",
       "      <td>1.550002e+06</td>\n",
       "    </tr>\n",
       "    <tr>\n",
       "      <th>299321</th>\n",
       "      <td>1.550002e+06</td>\n",
       "    </tr>\n",
       "    <tr>\n",
       "      <th>173570</th>\n",
       "      <td>1.550002e+06</td>\n",
       "    </tr>\n",
       "  </tbody>\n",
       "</table>\n",
       "</div>"
      ],
      "text/plain": [
       "              target\n",
       "id                  \n",
       "4941    1.550002e+06\n",
       "51775   1.550002e+06\n",
       "115253  1.550002e+06\n",
       "299321  1.550002e+06\n",
       "173570  1.550002e+06"
      ]
     },
     "execution_count": 328,
     "metadata": {},
     "output_type": "execute_result"
    }
   ],
   "source": [
    "entregable_svr=IDS[['id']].copy()\n",
    "entregable_svr['target']=prediccion_svr\n",
    "entregable_svr.set_index('id',inplace=True)\n",
    "entregable_svr.head()"
   ]
  },
  {
   "cell_type": "code",
   "execution_count": 329,
   "metadata": {},
   "outputs": [],
   "source": [
    "entregable_svr.to_csv('SVR_02.csv')"
   ]
  },
  {
   "cell_type": "markdown",
   "metadata": {},
   "source": [
    "### 2.12) Random Forest"
   ]
  },
  {
   "cell_type": "code",
   "execution_count": 67,
   "metadata": {},
   "outputs": [],
   "source": [
    "random = RandomForestRegressor(random_state=0, n_jobs=-1, n_estimators=450,bootstrap=True,max_depth=100,criterion='mse')"
   ]
  },
  {
   "cell_type": "code",
   "execution_count": null,
   "metadata": {},
   "outputs": [],
   "source": [
    "random.fit(datos_train,precio_train)"
   ]
  },
  {
   "cell_type": "code",
   "execution_count": 64,
   "metadata": {},
   "outputs": [],
   "source": [
    "prediccion_random=random.predict(test_final)"
   ]
  },
  {
   "cell_type": "code",
   "execution_count": 65,
   "metadata": {},
   "outputs": [
    {
     "data": {
      "text/html": [
       "<div>\n",
       "<style scoped>\n",
       "    .dataframe tbody tr th:only-of-type {\n",
       "        vertical-align: middle;\n",
       "    }\n",
       "\n",
       "    .dataframe tbody tr th {\n",
       "        vertical-align: top;\n",
       "    }\n",
       "\n",
       "    .dataframe thead th {\n",
       "        text-align: right;\n",
       "    }\n",
       "</style>\n",
       "<table border=\"1\" class=\"dataframe\">\n",
       "  <thead>\n",
       "    <tr style=\"text-align: right;\">\n",
       "      <th></th>\n",
       "      <th>target</th>\n",
       "    </tr>\n",
       "    <tr>\n",
       "      <th>id</th>\n",
       "      <th></th>\n",
       "    </tr>\n",
       "  </thead>\n",
       "  <tbody>\n",
       "    <tr>\n",
       "      <th>4941</th>\n",
       "      <td>3.518894e+06</td>\n",
       "    </tr>\n",
       "    <tr>\n",
       "      <th>51775</th>\n",
       "      <td>1.083669e+06</td>\n",
       "    </tr>\n",
       "    <tr>\n",
       "      <th>115253</th>\n",
       "      <td>2.401759e+06</td>\n",
       "    </tr>\n",
       "    <tr>\n",
       "      <th>299321</th>\n",
       "      <td>1.270942e+06</td>\n",
       "    </tr>\n",
       "    <tr>\n",
       "      <th>173570</th>\n",
       "      <td>5.963621e+05</td>\n",
       "    </tr>\n",
       "  </tbody>\n",
       "</table>\n",
       "</div>"
      ],
      "text/plain": [
       "              target\n",
       "id                  \n",
       "4941    3.518894e+06\n",
       "51775   1.083669e+06\n",
       "115253  2.401759e+06\n",
       "299321  1.270942e+06\n",
       "173570  5.963621e+05"
      ]
     },
     "execution_count": 65,
     "metadata": {},
     "output_type": "execute_result"
    }
   ],
   "source": [
    "entregable_random=IDS[['id']].copy()\n",
    "entregable_random['target']=prediccion_random\n",
    "entregable_random.set_index('id',inplace=True)\n",
    "entregable_random['target']=np.exp(entregable_random['target'])\n",
    "entregable_random.head()"
   ]
  },
  {
   "cell_type": "code",
   "execution_count": 66,
   "metadata": {},
   "outputs": [],
   "source": [
    "entregable_random.to_csv('RANDOM_14.csv')"
   ]
  }
 ],
 "metadata": {
  "kernelspec": {
   "display_name": "Python 3",
   "language": "python",
   "name": "python3"
  },
  "language_info": {
   "codemirror_mode": {
    "name": "ipython",
    "version": 3
   },
   "file_extension": ".py",
   "mimetype": "text/x-python",
   "name": "python",
   "nbconvert_exporter": "python",
   "pygments_lexer": "ipython3",
   "version": "3.6.4"
  }
 },
 "nbformat": 4,
 "nbformat_minor": 2
}
