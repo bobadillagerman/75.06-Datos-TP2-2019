{
 "cells": [
  {
   "cell_type": "markdown",
   "metadata": {},
   "source": [
    "# Machine Learning"
   ]
  },
  {
   "cell_type": "markdown",
   "metadata": {},
   "source": [
    "## 1) Creando Set de Entrenamiento"
   ]
  },
  {
   "cell_type": "code",
   "execution_count": 1,
   "metadata": {},
   "outputs": [],
   "source": [
    "import numpy as np\n",
    "import pandas as pd\n",
    "import xgboost as xgb\n",
    "import matplotlib.pyplot as plt\n",
    "from sklearn.model_selection import train_test_split\n",
    "from sklearn.dummy import DummyRegressor\n",
    "from sklearn.ensemble import RandomForestRegressor\n",
    "from sklearn.tree import DecisionTreeRegressor\n",
    "from sklearn.neighbors import KNeighborsRegressor\n",
    "from sklearn.ensemble import AdaBoostRegressor\n",
    "from sklearn.linear_model import Ridge\n",
    "from sklearn.linear_model import Lasso\n",
    "from sklearn.linear_model import LinearRegression\n",
    "from sklearn.linear_model import ElasticNet\n",
    "from sklearn.ensemble import BaggingRegressor\n",
    "from sklearn.ensemble import ExtraTreesRegressor\n",
    "from sklearn.metrics import mean_absolute_error\n",
    "from sklearn.svm import SVR\n",
    "\n",
    "%matplotlib inline\n",
    "plt.style.use('default')"
   ]
  },
  {
   "cell_type": "code",
   "execution_count": 2,
   "metadata": {},
   "outputs": [],
   "source": [
    "#Capitales de los Estados de México\n",
    "capitales=['Aguascalientes','Mexicali','La Paz','Campeche','Tuxtla Gutiérrez','Chihuahua','Saltillo','Colima','Durango','Guanajuato','Chilpancingo de los Bravo','Pachuca','Guadalajara','Toluca','Morelia','Cuernavaca','Tepic','Monterrey','Oaxaca de Juárez','Puebla','Querétaro','Chetumal','San Luis Potosí','Culiacán','Hermosillo','Villahermosa','Victoria','Tlaxcala','Xalapa','Mérida','Zacatecas','Cuauhtémoc']"
   ]
  },
  {
   "cell_type": "code",
   "execution_count": 3,
   "metadata": {},
   "outputs": [],
   "source": [
    "zona_metropolitana_valle=['Azcapotzalco','Coyoacán','Cuajimalpa de Morelos','Gustavo A. Madero','Iztacalco','Iztapalapa','La Magdalena Contreras','Milpa Alta','Alvaro Obregón','Tláhuac','Tlalpan','Xochimilco','Benito Juárez','Cuauhtémoc','Miguel Hidalgo','Venustiano Carranza','Tizayuca','Acolman','Amecameca','Atenco','Atizapán de Zaragoza','Atlautla','Axapusco','Ayapango','Coacalco de Berriozábal','Cocotitlán','Coyotepec','Cuautitlán','Chalco','Chiautla','Chicoloapan','Chiconcuac','Chimalhuacán','Ecatepec de Morelos','Ecatzingo','Huehuetoca','Huixquilucan','Isidro Fabela','Ixtapaluca','Jaltenco','Jilotzingo','Melchor Ocampo','Naucalpan de Juárez','Nezahualcóyotl','Nextlalpan','Nicolás Romero','Nopaltepec','Otumba','Ozumba','Papalotla','La Paz','San Martín de las Pirámides','Tecámac','Temamatla','Temascalapa','Tenango del Aire','Teoloyucan','Teotihuacán','Tepetlaoxtoc','Tepetlixpa','Tepotzotlán','Tequixquiac','Texcoco','Tezoyuca','Tlalmanalco','Tlalnepantla de Baz','Tultepec','Tultitlán','Villa del Carbón','Zumpango','Cuautitlán Izcalli','Valle de Chalco Solidaridad','Tonanitla']\n",
    "zona_metropolitana_guadalajara=['Guadalajara','Zapopan','Tlaquepaque','Tlajomulco de Zúñiga','Tonalá','El Salto','Zapotlanejo','Ixtlahuacán de los Membrillos','Juanacatlán','Juanacatlán']\n",
    "zona_metropolitana_monterrey=['San Pedro Garza García','San Nicolás de los Garza','Monterrey','Santiago','Guadalupe','Apodaca','Cadereyta Jiménez','Santa Catarina','Gral. Escobedo','García','Juárez','Salinas Victoria']\n",
    "zona_metropolitana_puebla_texaca=['Amozoc','Coronango','Cuautlancingo','Huejotzingo','Juan C. Bonilla','Ocoyucan','Puebla','San Andrés Cholula','San Gregorio Atzompa','San Martín Texmelucan','San Miguel Xoxtla','San Pedro Cholula','San Salvador el Verde','Tepatlaxco de Hidalgo','Tlaltenango','Ixtacuixtla de Mariano Matamoros','Tepetitla de Lardizábal','Natívitas','San Pablo del Monte','Tenancingo','Teolocholco','Tepeyanco','Tetlatlahuca','Papalotla de Xicohténcatl','Xicohtzinco','Zacatelco','Zacualpan','Santa Ana Nopalucan','Teacalco','Santa Catarina']\n",
    "zona_metropolitana_toluca=['Toluca','Metepec','Zinacantepec','Almoloya de Juárez','Lerma','Otzolotepec','San Mateo Atenco','Ocoyoacac','Calimaya','Xonacatlán','Tenango del Valle','San Antonio la Isla','Mexicaltzingo','Chapultepec']\n",
    "zona_metropolitana_laguna=['Torreón','Gómez Palacio','Lerdo','Matamoros']\n",
    "zona_metropolitana_queretaro=['Querétaro','Corregidora','El Marqués','Huimilpan','Apaseo el Alto']\n",
    "corona_regional=['Distrito Federal','Edo. de México','Hidalgo','Puebla','Tlaxcala','Morelos']"
   ]
  },
  {
   "cell_type": "code",
   "execution_count": 4,
   "metadata": {},
   "outputs": [],
   "source": [
    "cuidades_turisticas=['Cancún','Guadalajara','Puerto Vallarta','Acapulco de Juárez','Monterrey','Bahía de Banderas','Mazatlán','Puebla','Veracruz','Mérida','Querétaro','León','Zihuatanejo de Azueta','San Luis Potosí','Cozumel','Villahermosa','Tijuana','Oaxaca de Juárez','Aguascalientes','Santa María Huatulco','Juárez','Chihuahua','Morelia','Manzanillo','Hermosillo','Toluca','Zacatecas','Tuxtla Gutiérrez','Mexicali','Celaya','Guanajuato','Culiacán']"
   ]
  },
  {
   "cell_type": "code",
   "execution_count": 5,
   "metadata": {},
   "outputs": [],
   "source": [
    "data={'provincia':['Baja California Sur','Baja California Norte','Chihuahua','Durango','Sinaloa','Sonora','Coahuila','Nuevo León','Tamaulipas','Nayarit','Jalisco','Colima','Michoacán','Puebla','Veracruz','Tlaxcala','Hidalgo','Aguascalientes','Guanajuato','San luis Potosí','Zacatecas','Querétaro','Morelos','Edo. de México','Distrito Federal','Guerrero','Oaxaca','Chiapas','Tabasco','Campeche','Quintana Roo','Yucatán'], 'Zona':['nor_oeste','nor_oeste','nor_oeste','nor_oeste','nor_oeste','nor_oeste','nor_este','nor_este','nor_este','occidente','occidente','occidente','occidente','oriente','oriente','oriente','oriente','centro_norte','centro_norte','centro_norte','centro_norte','centro_norte','centro_sur','centro_sur','centro_sur','sur_oeste','sur_oeste','sur_oeste','sur_este','sur_este','sur_este','sur_este']}"
   ]
  },
  {
   "cell_type": "code",
   "execution_count": 6,
   "metadata": {},
   "outputs": [
    {
     "data": {
      "text/html": [
       "<div>\n",
       "<style scoped>\n",
       "    .dataframe tbody tr th:only-of-type {\n",
       "        vertical-align: middle;\n",
       "    }\n",
       "\n",
       "    .dataframe tbody tr th {\n",
       "        vertical-align: top;\n",
       "    }\n",
       "\n",
       "    .dataframe thead th {\n",
       "        text-align: right;\n",
       "    }\n",
       "</style>\n",
       "<table border=\"1\" class=\"dataframe\">\n",
       "  <thead>\n",
       "    <tr style=\"text-align: right;\">\n",
       "      <th></th>\n",
       "      <th>Zona</th>\n",
       "      <th>provincia</th>\n",
       "    </tr>\n",
       "  </thead>\n",
       "  <tbody>\n",
       "    <tr>\n",
       "      <th>0</th>\n",
       "      <td>nor_oeste</td>\n",
       "      <td>Baja California Sur</td>\n",
       "    </tr>\n",
       "    <tr>\n",
       "      <th>1</th>\n",
       "      <td>nor_oeste</td>\n",
       "      <td>Baja California Norte</td>\n",
       "    </tr>\n",
       "    <tr>\n",
       "      <th>2</th>\n",
       "      <td>nor_oeste</td>\n",
       "      <td>Chihuahua</td>\n",
       "    </tr>\n",
       "    <tr>\n",
       "      <th>3</th>\n",
       "      <td>nor_oeste</td>\n",
       "      <td>Durango</td>\n",
       "    </tr>\n",
       "    <tr>\n",
       "      <th>4</th>\n",
       "      <td>nor_oeste</td>\n",
       "      <td>Sinaloa</td>\n",
       "    </tr>\n",
       "    <tr>\n",
       "      <th>5</th>\n",
       "      <td>nor_oeste</td>\n",
       "      <td>Sonora</td>\n",
       "    </tr>\n",
       "    <tr>\n",
       "      <th>6</th>\n",
       "      <td>nor_este</td>\n",
       "      <td>Coahuila</td>\n",
       "    </tr>\n",
       "    <tr>\n",
       "      <th>7</th>\n",
       "      <td>nor_este</td>\n",
       "      <td>Nuevo León</td>\n",
       "    </tr>\n",
       "    <tr>\n",
       "      <th>8</th>\n",
       "      <td>nor_este</td>\n",
       "      <td>Tamaulipas</td>\n",
       "    </tr>\n",
       "    <tr>\n",
       "      <th>9</th>\n",
       "      <td>occidente</td>\n",
       "      <td>Nayarit</td>\n",
       "    </tr>\n",
       "    <tr>\n",
       "      <th>10</th>\n",
       "      <td>occidente</td>\n",
       "      <td>Jalisco</td>\n",
       "    </tr>\n",
       "    <tr>\n",
       "      <th>11</th>\n",
       "      <td>occidente</td>\n",
       "      <td>Colima</td>\n",
       "    </tr>\n",
       "    <tr>\n",
       "      <th>12</th>\n",
       "      <td>occidente</td>\n",
       "      <td>Michoacán</td>\n",
       "    </tr>\n",
       "    <tr>\n",
       "      <th>13</th>\n",
       "      <td>oriente</td>\n",
       "      <td>Puebla</td>\n",
       "    </tr>\n",
       "    <tr>\n",
       "      <th>14</th>\n",
       "      <td>oriente</td>\n",
       "      <td>Veracruz</td>\n",
       "    </tr>\n",
       "    <tr>\n",
       "      <th>15</th>\n",
       "      <td>oriente</td>\n",
       "      <td>Tlaxcala</td>\n",
       "    </tr>\n",
       "    <tr>\n",
       "      <th>16</th>\n",
       "      <td>oriente</td>\n",
       "      <td>Hidalgo</td>\n",
       "    </tr>\n",
       "    <tr>\n",
       "      <th>17</th>\n",
       "      <td>centro_norte</td>\n",
       "      <td>Aguascalientes</td>\n",
       "    </tr>\n",
       "    <tr>\n",
       "      <th>18</th>\n",
       "      <td>centro_norte</td>\n",
       "      <td>Guanajuato</td>\n",
       "    </tr>\n",
       "    <tr>\n",
       "      <th>19</th>\n",
       "      <td>centro_norte</td>\n",
       "      <td>San luis Potosí</td>\n",
       "    </tr>\n",
       "    <tr>\n",
       "      <th>20</th>\n",
       "      <td>centro_norte</td>\n",
       "      <td>Zacatecas</td>\n",
       "    </tr>\n",
       "    <tr>\n",
       "      <th>21</th>\n",
       "      <td>centro_norte</td>\n",
       "      <td>Querétaro</td>\n",
       "    </tr>\n",
       "    <tr>\n",
       "      <th>22</th>\n",
       "      <td>centro_sur</td>\n",
       "      <td>Morelos</td>\n",
       "    </tr>\n",
       "    <tr>\n",
       "      <th>23</th>\n",
       "      <td>centro_sur</td>\n",
       "      <td>Edo. de México</td>\n",
       "    </tr>\n",
       "    <tr>\n",
       "      <th>24</th>\n",
       "      <td>centro_sur</td>\n",
       "      <td>Distrito Federal</td>\n",
       "    </tr>\n",
       "    <tr>\n",
       "      <th>25</th>\n",
       "      <td>sur_oeste</td>\n",
       "      <td>Guerrero</td>\n",
       "    </tr>\n",
       "    <tr>\n",
       "      <th>26</th>\n",
       "      <td>sur_oeste</td>\n",
       "      <td>Oaxaca</td>\n",
       "    </tr>\n",
       "    <tr>\n",
       "      <th>27</th>\n",
       "      <td>sur_oeste</td>\n",
       "      <td>Chiapas</td>\n",
       "    </tr>\n",
       "    <tr>\n",
       "      <th>28</th>\n",
       "      <td>sur_este</td>\n",
       "      <td>Tabasco</td>\n",
       "    </tr>\n",
       "    <tr>\n",
       "      <th>29</th>\n",
       "      <td>sur_este</td>\n",
       "      <td>Campeche</td>\n",
       "    </tr>\n",
       "    <tr>\n",
       "      <th>30</th>\n",
       "      <td>sur_este</td>\n",
       "      <td>Quintana Roo</td>\n",
       "    </tr>\n",
       "    <tr>\n",
       "      <th>31</th>\n",
       "      <td>sur_este</td>\n",
       "      <td>Yucatán</td>\n",
       "    </tr>\n",
       "  </tbody>\n",
       "</table>\n",
       "</div>"
      ],
      "text/plain": [
       "            Zona              provincia\n",
       "0      nor_oeste    Baja California Sur\n",
       "1      nor_oeste  Baja California Norte\n",
       "2      nor_oeste              Chihuahua\n",
       "3      nor_oeste                Durango\n",
       "4      nor_oeste                Sinaloa\n",
       "5      nor_oeste                 Sonora\n",
       "6       nor_este               Coahuila\n",
       "7       nor_este             Nuevo León\n",
       "8       nor_este             Tamaulipas\n",
       "9      occidente                Nayarit\n",
       "10     occidente                Jalisco\n",
       "11     occidente                 Colima\n",
       "12     occidente              Michoacán\n",
       "13       oriente                 Puebla\n",
       "14       oriente               Veracruz\n",
       "15       oriente               Tlaxcala\n",
       "16       oriente                Hidalgo\n",
       "17  centro_norte         Aguascalientes\n",
       "18  centro_norte             Guanajuato\n",
       "19  centro_norte        San luis Potosí\n",
       "20  centro_norte              Zacatecas\n",
       "21  centro_norte              Querétaro\n",
       "22    centro_sur                Morelos\n",
       "23    centro_sur         Edo. de México\n",
       "24    centro_sur       Distrito Federal\n",
       "25     sur_oeste               Guerrero\n",
       "26     sur_oeste                 Oaxaca\n",
       "27     sur_oeste                Chiapas\n",
       "28      sur_este                Tabasco\n",
       "29      sur_este               Campeche\n",
       "30      sur_este           Quintana Roo\n",
       "31      sur_este                Yucatán"
      ]
     },
     "execution_count": 6,
     "metadata": {},
     "output_type": "execute_result"
    }
   ],
   "source": [
    "zonas_df=pd.DataFrame(data)\n",
    "zonas_df"
   ]
  },
  {
   "cell_type": "code",
   "execution_count": 7,
   "metadata": {},
   "outputs": [],
   "source": [
    "#Función que establece si una ciudad se encuentra en la capital del estado\n",
    "def EstaEnCapital(Ciudad):\n",
    "    for capital in capitales:\n",
    "        if(Ciudad==capital):\n",
    "            return 1\n",
    "    return 0"
   ]
  },
  {
   "cell_type": "code",
   "execution_count": 8,
   "metadata": {},
   "outputs": [],
   "source": [
    "#Función que establece si una ciudad se encuentra en la zona metropolitana\n",
    "def EnQueZonaMetropolitanaEsta(Ciudad,Provincia):\n",
    "    if(Provincia=='Tijuana'):\n",
    "        return 'Tijuana'\n",
    "    for ciudad_metropolitana in zona_metropolitana_valle:\n",
    "        if(Ciudad==ciudad_metropolitana):\n",
    "            return 'Valle'\n",
    "    for ciudad_metropolitana in zona_metropolitana_guadalajara:\n",
    "        if(Ciudad==ciudad_metropolitana):\n",
    "            return 'Guadalajara'\n",
    "    for ciudad_metropolitana in zona_metropolitana_monterrey:\n",
    "        if(Ciudad==ciudad_metropolitana):\n",
    "            return 'Monterrey'\n",
    "    for ciudad_metropolitana in zona_metropolitana_puebla_texaca:\n",
    "        if(Ciudad==ciudad_metropolitana):\n",
    "            return 'Puebla_Texaca'\n",
    "    for ciudad_metropolitana in zona_metropolitana_toluca:\n",
    "        if(Ciudad==ciudad_metropolitana):\n",
    "            return 'Toluca'\n",
    "    for ciudad_metropolitana in zona_metropolitana_laguna:\n",
    "        if(Ciudad==ciudad_metropolitana):\n",
    "            return 'Laguna'\n",
    "    for ciudad_metropolitana in zona_metropolitana_queretaro:\n",
    "        if(Ciudad==ciudad_metropolitana):\n",
    "            return 'Queretaro'\n",
    "    return 'No_Esta'"
   ]
  },
  {
   "cell_type": "code",
   "execution_count": 9,
   "metadata": {},
   "outputs": [],
   "source": [
    "def EstaCoronaRegional(Provincia):\n",
    "    for provincia_corona in corona_regional:\n",
    "        if(Provincia==provincia_corona):\n",
    "            return 1\n",
    "    return 0"
   ]
  },
  {
   "cell_type": "code",
   "execution_count": 10,
   "metadata": {},
   "outputs": [],
   "source": [
    "#Función que establece si una ciudad se encuentra en la zona turistica\n",
    "def EstaEnZonaTuristica(Ciudad,Provincia):\n",
    "    if(Provincia=='Distrito Federal'):\n",
    "        return 1\n",
    "    for ciudad_turistica in cuidades_turisticas:\n",
    "        if(Ciudad==ciudad_turistica):\n",
    "            return 1\n",
    "    return 0"
   ]
  },
  {
   "cell_type": "code",
   "execution_count": 112,
   "metadata": {},
   "outputs": [],
   "source": [
    "def EstaProvinciaCara(Provincia):\n",
    "    for provincia_cara in top_provincias_caras:\n",
    "        if(Provincia==provincia_cara):\n",
    "            return 1\n",
    "    return 0  "
   ]
  },
  {
   "cell_type": "code",
   "execution_count": 110,
   "metadata": {},
   "outputs": [],
   "source": [
    "def EstaCiudadCara(Ciudad):\n",
    "    for ciudad_cara in top_ciudades_caras:\n",
    "        if(Ciudad==ciudad_cara):\n",
    "            return 1\n",
    "    return 0    "
   ]
  },
  {
   "cell_type": "code",
   "execution_count": 11,
   "metadata": {},
   "outputs": [],
   "source": [
    "def oneHotEncoding(df, columna):\n",
    "    one_hot = pd.get_dummies(df[columna])\n",
    "    df.drop(columna, axis=1, inplace=True)\n",
    "    df = pd.concat([df, one_hot], axis=1)\n",
    "    return df"
   ]
  },
  {
   "cell_type": "code",
   "execution_count": 12,
   "metadata": {},
   "outputs": [],
   "source": [
    "#Creamos una función que según el mes y el dia, nos devuelve en que estación se encuentra\n",
    "def fechaEstacion(mes,dia):\n",
    "    if((mes==1) | (mes==2)):\n",
    "        return 'Invierno'\n",
    "    if(mes==3):\n",
    "        if(dia<21):\n",
    "            return 'Invierno'\n",
    "        if(dia>=21):\n",
    "            return 'Primavera'\n",
    "    if((mes==4) | (mes==5)):\n",
    "        return 'Primavera'\n",
    "    if(mes==6):\n",
    "        if(dia<21):\n",
    "            return 'Primavera'\n",
    "        if(dia>=21):\n",
    "            return 'Verano'\n",
    "    if((mes==7) | (mes==8)):\n",
    "        return 'Verano'\n",
    "    if(mes==9):\n",
    "        if(dia<21):\n",
    "            return 'Verano'\n",
    "        if(dia>=21):\n",
    "            return 'Otonio'\n",
    "    if((mes==10) | (mes==11)):\n",
    "        return 'Otonio'\n",
    "    if(mes==12):\n",
    "        if(dia<21):\n",
    "            return 'Otonio'\n",
    "        if(dia>=21):\n",
    "            return 'Invierno'"
   ]
  },
  {
   "cell_type": "code",
   "execution_count": 200,
   "metadata": {
    "scrolled": false
   },
   "outputs": [
    {
     "data": {
      "text/html": [
       "<div>\n",
       "<style scoped>\n",
       "    .dataframe tbody tr th:only-of-type {\n",
       "        vertical-align: middle;\n",
       "    }\n",
       "\n",
       "    .dataframe tbody tr th {\n",
       "        vertical-align: top;\n",
       "    }\n",
       "\n",
       "    .dataframe thead th {\n",
       "        text-align: right;\n",
       "    }\n",
       "</style>\n",
       "<table border=\"1\" class=\"dataframe\">\n",
       "  <thead>\n",
       "    <tr style=\"text-align: right;\">\n",
       "      <th></th>\n",
       "      <th>id</th>\n",
       "      <th>titulo</th>\n",
       "      <th>descripcion</th>\n",
       "      <th>tipodepropiedad</th>\n",
       "      <th>direccion</th>\n",
       "      <th>ciudad</th>\n",
       "      <th>provincia</th>\n",
       "      <th>antiguedad</th>\n",
       "      <th>habitaciones</th>\n",
       "      <th>garages</th>\n",
       "      <th>...</th>\n",
       "      <th>idzona</th>\n",
       "      <th>lat</th>\n",
       "      <th>lng</th>\n",
       "      <th>fecha</th>\n",
       "      <th>gimnasio</th>\n",
       "      <th>usosmultiples</th>\n",
       "      <th>piscina</th>\n",
       "      <th>escuelascercanas</th>\n",
       "      <th>centroscomercialescercanos</th>\n",
       "      <th>precio</th>\n",
       "    </tr>\n",
       "  </thead>\n",
       "  <tbody>\n",
       "    <tr>\n",
       "      <th>0</th>\n",
       "      <td>254099</td>\n",
       "      <td>depto. tipo a-402</td>\n",
       "      <td>depto. interior de 80.15m2, consta de sala com...</td>\n",
       "      <td>Apartamento</td>\n",
       "      <td>Avenida Division del Norte 2005</td>\n",
       "      <td>Benito Juárez</td>\n",
       "      <td>Distrito Federal</td>\n",
       "      <td>NaN</td>\n",
       "      <td>2.0</td>\n",
       "      <td>1.0</td>\n",
       "      <td>...</td>\n",
       "      <td>23533.0</td>\n",
       "      <td>NaN</td>\n",
       "      <td>NaN</td>\n",
       "      <td>2015-08-23 00:00:00</td>\n",
       "      <td>0.0</td>\n",
       "      <td>0.0</td>\n",
       "      <td>0.0</td>\n",
       "      <td>0.0</td>\n",
       "      <td>0.0</td>\n",
       "      <td>2273000.0</td>\n",
       "    </tr>\n",
       "    <tr>\n",
       "      <th>1</th>\n",
       "      <td>53461</td>\n",
       "      <td>condominio horizontal en venta</td>\n",
       "      <td>&lt;p&gt;entre sonora y guerrero, atr&amp;aacute;s del h...</td>\n",
       "      <td>Casa en condominio</td>\n",
       "      <td>AV. MEXICO</td>\n",
       "      <td>La Magdalena Contreras</td>\n",
       "      <td>Distrito Federal</td>\n",
       "      <td>10.0</td>\n",
       "      <td>3.0</td>\n",
       "      <td>2.0</td>\n",
       "      <td>...</td>\n",
       "      <td>24514.0</td>\n",
       "      <td>19.310205</td>\n",
       "      <td>-99.227655</td>\n",
       "      <td>2013-06-28 00:00:00</td>\n",
       "      <td>0.0</td>\n",
       "      <td>0.0</td>\n",
       "      <td>0.0</td>\n",
       "      <td>1.0</td>\n",
       "      <td>1.0</td>\n",
       "      <td>3600000.0</td>\n",
       "    </tr>\n",
       "    <tr>\n",
       "      <th>2</th>\n",
       "      <td>247984</td>\n",
       "      <td>casa en venta urbi 3 recamaras tonala</td>\n",
       "      <td>descripcion \\nla mejor ubicacion residencial e...</td>\n",
       "      <td>Casa</td>\n",
       "      <td>Urbi Tonala</td>\n",
       "      <td>Tonalá</td>\n",
       "      <td>Jalisco</td>\n",
       "      <td>5.0</td>\n",
       "      <td>3.0</td>\n",
       "      <td>2.0</td>\n",
       "      <td>...</td>\n",
       "      <td>48551.0</td>\n",
       "      <td>NaN</td>\n",
       "      <td>NaN</td>\n",
       "      <td>2015-10-17 00:00:00</td>\n",
       "      <td>0.0</td>\n",
       "      <td>0.0</td>\n",
       "      <td>0.0</td>\n",
       "      <td>0.0</td>\n",
       "      <td>0.0</td>\n",
       "      <td>1200000.0</td>\n",
       "    </tr>\n",
       "    <tr>\n",
       "      <th>3</th>\n",
       "      <td>209067</td>\n",
       "      <td>casa sola en toluca zinacantepec con credito i...</td>\n",
       "      <td>casa en privada con caseta de vigilancia casas...</td>\n",
       "      <td>Casa</td>\n",
       "      <td>IGNACIO MANUEL ALTAMIRANO 128</td>\n",
       "      <td>Zinacantepec</td>\n",
       "      <td>Edo. de México</td>\n",
       "      <td>1.0</td>\n",
       "      <td>2.0</td>\n",
       "      <td>1.0</td>\n",
       "      <td>...</td>\n",
       "      <td>53666.0</td>\n",
       "      <td>19.301890</td>\n",
       "      <td>-99.688015</td>\n",
       "      <td>2012-03-09 00:00:00</td>\n",
       "      <td>0.0</td>\n",
       "      <td>0.0</td>\n",
       "      <td>0.0</td>\n",
       "      <td>1.0</td>\n",
       "      <td>1.0</td>\n",
       "      <td>650000.0</td>\n",
       "    </tr>\n",
       "    <tr>\n",
       "      <th>4</th>\n",
       "      <td>185997</td>\n",
       "      <td>paseos del sol</td>\n",
       "      <td>bonito departamento en excelentes condiciones ...</td>\n",
       "      <td>Apartamento</td>\n",
       "      <td>PASEOS DEL SOL</td>\n",
       "      <td>Zapopan</td>\n",
       "      <td>Jalisco</td>\n",
       "      <td>10.0</td>\n",
       "      <td>2.0</td>\n",
       "      <td>1.0</td>\n",
       "      <td>...</td>\n",
       "      <td>47835.0</td>\n",
       "      <td>NaN</td>\n",
       "      <td>NaN</td>\n",
       "      <td>2016-06-07 00:00:00</td>\n",
       "      <td>0.0</td>\n",
       "      <td>0.0</td>\n",
       "      <td>0.0</td>\n",
       "      <td>0.0</td>\n",
       "      <td>0.0</td>\n",
       "      <td>1150000.0</td>\n",
       "    </tr>\n",
       "  </tbody>\n",
       "</table>\n",
       "<p>5 rows × 23 columns</p>\n",
       "</div>"
      ],
      "text/plain": [
       "       id                                             titulo  \\\n",
       "0  254099                                  depto. tipo a-402   \n",
       "1   53461                     condominio horizontal en venta   \n",
       "2  247984              casa en venta urbi 3 recamaras tonala   \n",
       "3  209067  casa sola en toluca zinacantepec con credito i...   \n",
       "4  185997                                     paseos del sol   \n",
       "\n",
       "                                         descripcion     tipodepropiedad  \\\n",
       "0  depto. interior de 80.15m2, consta de sala com...         Apartamento   \n",
       "1  <p>entre sonora y guerrero, atr&aacute;s del h...  Casa en condominio   \n",
       "2  descripcion \\nla mejor ubicacion residencial e...                Casa   \n",
       "3  casa en privada con caseta de vigilancia casas...                Casa   \n",
       "4  bonito departamento en excelentes condiciones ...         Apartamento   \n",
       "\n",
       "                         direccion                  ciudad         provincia  \\\n",
       "0  Avenida Division del Norte 2005           Benito Juárez  Distrito Federal   \n",
       "1                       AV. MEXICO  La Magdalena Contreras  Distrito Federal   \n",
       "2                      Urbi Tonala                  Tonalá           Jalisco   \n",
       "3    IGNACIO MANUEL ALTAMIRANO 128            Zinacantepec    Edo. de México   \n",
       "4                  PASEOS DEL SOL                  Zapopan           Jalisco   \n",
       "\n",
       "   antiguedad  habitaciones  garages    ...       idzona        lat  \\\n",
       "0         NaN           2.0      1.0    ...      23533.0        NaN   \n",
       "1        10.0           3.0      2.0    ...      24514.0  19.310205   \n",
       "2         5.0           3.0      2.0    ...      48551.0        NaN   \n",
       "3         1.0           2.0      1.0    ...      53666.0  19.301890   \n",
       "4        10.0           2.0      1.0    ...      47835.0        NaN   \n",
       "\n",
       "         lng                fecha  gimnasio  usosmultiples piscina  \\\n",
       "0        NaN  2015-08-23 00:00:00       0.0            0.0     0.0   \n",
       "1 -99.227655  2013-06-28 00:00:00       0.0            0.0     0.0   \n",
       "2        NaN  2015-10-17 00:00:00       0.0            0.0     0.0   \n",
       "3 -99.688015  2012-03-09 00:00:00       0.0            0.0     0.0   \n",
       "4        NaN  2016-06-07 00:00:00       0.0            0.0     0.0   \n",
       "\n",
       "   escuelascercanas  centroscomercialescercanos     precio  \n",
       "0               0.0                         0.0  2273000.0  \n",
       "1               1.0                         1.0  3600000.0  \n",
       "2               0.0                         0.0  1200000.0  \n",
       "3               1.0                         1.0   650000.0  \n",
       "4               0.0                         0.0  1150000.0  \n",
       "\n",
       "[5 rows x 23 columns]"
      ]
     },
     "execution_count": 200,
     "metadata": {},
     "output_type": "execute_result"
    }
   ],
   "source": [
    "train=pd.read_csv('train.csv')\n",
    "train.head()"
   ]
  },
  {
   "cell_type": "code",
   "execution_count": 201,
   "metadata": {},
   "outputs": [],
   "source": [
    "precio_promedio_provincia=train.groupby(['provincia']).agg({'precio':'mean'}).sort_values(by='precio',ascending=False)\n",
    "precio_promedio_provincia.rename(columns={'precio':'precio_promedio_provincia'},inplace=True)\n",
    "top_provincias_caras=precio_promedio_provincia.head(10).index"
   ]
  },
  {
   "cell_type": "code",
   "execution_count": 202,
   "metadata": {},
   "outputs": [],
   "source": [
    "train.dropna(subset=['tipodepropiedad','provincia'],inplace=True)"
   ]
  },
  {
   "cell_type": "code",
   "execution_count": 203,
   "metadata": {},
   "outputs": [],
   "source": [
    "ciudad_cara=train.groupby(['ciudad']).agg({'precio':'mean'}).sort_values('precio',ascending=False)\n",
    "ciudad_mas_cantidad=train.groupby(['ciudad']).agg({'precio':'count'}).sort_values('precio',ascending=False)\n",
    "top_ciudades_caras=ciudad_cara.head(30).index\n",
    "top_ciudades_cantidad=ciudad_mas_cantidad.head(100).index"
   ]
  },
  {
   "cell_type": "code",
   "execution_count": 206,
   "metadata": {},
   "outputs": [],
   "source": [
    "#Genero las columnas para las 30 ciudades\n",
    "for ciudad in top_ciudades_cantidad:\n",
    "    one_hot = pd.get_dummies(train['ciudad']==ciudad)\n",
    "    one_hot.drop(columns={False},inplace=True)\n",
    "    one_hot.rename(columns={True:ciudad},inplace=True)\n",
    "    train = pd.concat([train, one_hot], axis=1)"
   ]
  },
  {
   "cell_type": "code",
   "execution_count": 207,
   "metadata": {},
   "outputs": [
    {
     "data": {
      "text/html": [
       "<div>\n",
       "<style scoped>\n",
       "    .dataframe tbody tr th:only-of-type {\n",
       "        vertical-align: middle;\n",
       "    }\n",
       "\n",
       "    .dataframe tbody tr th {\n",
       "        vertical-align: top;\n",
       "    }\n",
       "\n",
       "    .dataframe thead th {\n",
       "        text-align: right;\n",
       "    }\n",
       "</style>\n",
       "<table border=\"1\" class=\"dataframe\">\n",
       "  <thead>\n",
       "    <tr style=\"text-align: right;\">\n",
       "      <th></th>\n",
       "      <th>id</th>\n",
       "      <th>titulo</th>\n",
       "      <th>descripcion</th>\n",
       "      <th>tipodepropiedad</th>\n",
       "      <th>direccion</th>\n",
       "      <th>ciudad</th>\n",
       "      <th>provincia</th>\n",
       "      <th>antiguedad</th>\n",
       "      <th>habitaciones</th>\n",
       "      <th>garages</th>\n",
       "      <th>...</th>\n",
       "      <th>Soledad de Graciano Sánchez</th>\n",
       "      <th>Huehuetoca</th>\n",
       "      <th>Villahermosa</th>\n",
       "      <th>Centro</th>\n",
       "      <th>Tlaxcala</th>\n",
       "      <th>Colima</th>\n",
       "      <th>Cuautla</th>\n",
       "      <th>Valle de Bravo</th>\n",
       "      <th>Manzanillo</th>\n",
       "      <th>Zona</th>\n",
       "    </tr>\n",
       "  </thead>\n",
       "  <tbody>\n",
       "    <tr>\n",
       "      <th>0</th>\n",
       "      <td>254099</td>\n",
       "      <td>depto. tipo a-402</td>\n",
       "      <td>depto. interior de 80.15m2, consta de sala com...</td>\n",
       "      <td>Apartamento</td>\n",
       "      <td>Avenida Division del Norte 2005</td>\n",
       "      <td>Benito Juárez</td>\n",
       "      <td>Distrito Federal</td>\n",
       "      <td>NaN</td>\n",
       "      <td>2.0</td>\n",
       "      <td>1.0</td>\n",
       "      <td>...</td>\n",
       "      <td>0</td>\n",
       "      <td>0</td>\n",
       "      <td>0</td>\n",
       "      <td>0</td>\n",
       "      <td>0</td>\n",
       "      <td>0</td>\n",
       "      <td>0</td>\n",
       "      <td>0</td>\n",
       "      <td>0</td>\n",
       "      <td>centro_sur</td>\n",
       "    </tr>\n",
       "    <tr>\n",
       "      <th>1</th>\n",
       "      <td>53461</td>\n",
       "      <td>condominio horizontal en venta</td>\n",
       "      <td>&lt;p&gt;entre sonora y guerrero, atr&amp;aacute;s del h...</td>\n",
       "      <td>Casa en condominio</td>\n",
       "      <td>AV. MEXICO</td>\n",
       "      <td>La Magdalena Contreras</td>\n",
       "      <td>Distrito Federal</td>\n",
       "      <td>10.0</td>\n",
       "      <td>3.0</td>\n",
       "      <td>2.0</td>\n",
       "      <td>...</td>\n",
       "      <td>0</td>\n",
       "      <td>0</td>\n",
       "      <td>0</td>\n",
       "      <td>0</td>\n",
       "      <td>0</td>\n",
       "      <td>0</td>\n",
       "      <td>0</td>\n",
       "      <td>0</td>\n",
       "      <td>0</td>\n",
       "      <td>centro_sur</td>\n",
       "    </tr>\n",
       "    <tr>\n",
       "      <th>2</th>\n",
       "      <td>126147</td>\n",
       "      <td>departamento en venta taxqueña</td>\n",
       "      <td>amplio departamento, estancia de sala y comedo...</td>\n",
       "      <td>Apartamento</td>\n",
       "      <td>Condominio Tlalpan 2B</td>\n",
       "      <td>Coyoacán</td>\n",
       "      <td>Distrito Federal</td>\n",
       "      <td>5.0</td>\n",
       "      <td>2.0</td>\n",
       "      <td>1.0</td>\n",
       "      <td>...</td>\n",
       "      <td>0</td>\n",
       "      <td>0</td>\n",
       "      <td>0</td>\n",
       "      <td>0</td>\n",
       "      <td>0</td>\n",
       "      <td>0</td>\n",
       "      <td>0</td>\n",
       "      <td>0</td>\n",
       "      <td>0</td>\n",
       "      <td>centro_sur</td>\n",
       "    </tr>\n",
       "    <tr>\n",
       "      <th>3</th>\n",
       "      <td>130216</td>\n",
       "      <td>casa matias romero - sión bancaria</td>\n",
       "      <td>flamante casa habitación en condominio horizon...</td>\n",
       "      <td>Casa</td>\n",
       "      <td>MATIAS ROMERO, COLONIA DEL VALLE</td>\n",
       "      <td>Benito Juárez</td>\n",
       "      <td>Distrito Federal</td>\n",
       "      <td>20.0</td>\n",
       "      <td>NaN</td>\n",
       "      <td>0.0</td>\n",
       "      <td>...</td>\n",
       "      <td>0</td>\n",
       "      <td>0</td>\n",
       "      <td>0</td>\n",
       "      <td>0</td>\n",
       "      <td>0</td>\n",
       "      <td>0</td>\n",
       "      <td>0</td>\n",
       "      <td>0</td>\n",
       "      <td>0</td>\n",
       "      <td>centro_sur</td>\n",
       "    </tr>\n",
       "    <tr>\n",
       "      <th>4</th>\n",
       "      <td>73348</td>\n",
       "      <td>oportunidad, departamento col del valle, 3 rec...</td>\n",
       "      <td>magnifico departamento con excelente distribuc...</td>\n",
       "      <td>Apartamento</td>\n",
       "      <td>Pazaje Santa Cruz</td>\n",
       "      <td>Benito Juárez</td>\n",
       "      <td>Distrito Federal</td>\n",
       "      <td>5.0</td>\n",
       "      <td>3.0</td>\n",
       "      <td>2.0</td>\n",
       "      <td>...</td>\n",
       "      <td>0</td>\n",
       "      <td>0</td>\n",
       "      <td>0</td>\n",
       "      <td>0</td>\n",
       "      <td>0</td>\n",
       "      <td>0</td>\n",
       "      <td>0</td>\n",
       "      <td>0</td>\n",
       "      <td>0</td>\n",
       "      <td>centro_sur</td>\n",
       "    </tr>\n",
       "  </tbody>\n",
       "</table>\n",
       "<p>5 rows × 124 columns</p>\n",
       "</div>"
      ],
      "text/plain": [
       "       id                                             titulo  \\\n",
       "0  254099                                  depto. tipo a-402   \n",
       "1   53461                     condominio horizontal en venta   \n",
       "2  126147                     departamento en venta taxqueña   \n",
       "3  130216                 casa matias romero - sión bancaria   \n",
       "4   73348  oportunidad, departamento col del valle, 3 rec...   \n",
       "\n",
       "                                         descripcion     tipodepropiedad  \\\n",
       "0  depto. interior de 80.15m2, consta de sala com...         Apartamento   \n",
       "1  <p>entre sonora y guerrero, atr&aacute;s del h...  Casa en condominio   \n",
       "2  amplio departamento, estancia de sala y comedo...         Apartamento   \n",
       "3  flamante casa habitación en condominio horizon...                Casa   \n",
       "4  magnifico departamento con excelente distribuc...         Apartamento   \n",
       "\n",
       "                          direccion                  ciudad         provincia  \\\n",
       "0   Avenida Division del Norte 2005           Benito Juárez  Distrito Federal   \n",
       "1                        AV. MEXICO  La Magdalena Contreras  Distrito Federal   \n",
       "2             Condominio Tlalpan 2B                Coyoacán  Distrito Federal   \n",
       "3  MATIAS ROMERO, COLONIA DEL VALLE           Benito Juárez  Distrito Federal   \n",
       "4                 Pazaje Santa Cruz           Benito Juárez  Distrito Federal   \n",
       "\n",
       "   antiguedad  habitaciones  garages     ...      Soledad de Graciano Sánchez  \\\n",
       "0         NaN           2.0      1.0     ...                                0   \n",
       "1        10.0           3.0      2.0     ...                                0   \n",
       "2         5.0           2.0      1.0     ...                                0   \n",
       "3        20.0           NaN      0.0     ...                                0   \n",
       "4         5.0           3.0      2.0     ...                                0   \n",
       "\n",
       "   Huehuetoca  Villahermosa  Centro  Tlaxcala  Colima Cuautla  Valle de Bravo  \\\n",
       "0           0             0       0         0       0       0               0   \n",
       "1           0             0       0         0       0       0               0   \n",
       "2           0             0       0         0       0       0               0   \n",
       "3           0             0       0         0       0       0               0   \n",
       "4           0             0       0         0       0       0               0   \n",
       "\n",
       "   Manzanillo        Zona  \n",
       "0           0  centro_sur  \n",
       "1           0  centro_sur  \n",
       "2           0  centro_sur  \n",
       "3           0  centro_sur  \n",
       "4           0  centro_sur  \n",
       "\n",
       "[5 rows x 124 columns]"
      ]
     },
     "execution_count": 207,
     "metadata": {},
     "output_type": "execute_result"
    }
   ],
   "source": [
    "train=pd.merge(train,zonas_df,on='provincia',how='inner')\n",
    "train.head()"
   ]
  },
  {
   "cell_type": "code",
   "execution_count": 208,
   "metadata": {},
   "outputs": [],
   "source": [
    "distrito=train[(train['provincia']=='Distrito Federal')]\n",
    "estado=train[(train['provincia']=='Edo. de México')]\n",
    "jalisco=train[(train['provincia']=='Jalisco')]\n",
    "queretaro=train[(train['provincia']=='Querétaro')]\n",
    "nuevo_leon=train[(train['provincia']=='Nuevo León')]\n",
    "puebla=train[(train['provincia']=='Puebla')]\n",
    "san_luis=train[(train['provincia']=='San luis Potosí')]\n",
    "yucatan=train[(train['provincia']=='Yucatán')]\n",
    "morelos=train[(train['provincia']=='Morelos')]\n",
    "veracruz=train[(train['provincia']=='Veracruz')]\n",
    "quintara_roo=train[(train['provincia']=='Quintana Roo')]\n",
    "chihuahua=train[(train['provincia']=='Chihuahua')]\n",
    "coahuila=train[(train['provincia']=='Coahuila')]\n",
    "baja_california_norte=train[(train['provincia']=='Baja California Norte')]\n",
    "baja_california_sur=train[(train['provincia']=='Baja California Sur')]\n",
    "sonora=train[(train['provincia']=='Sonora')]\n",
    "guanajuato=train[(train['provincia']=='Guanajuato')]\n",
    "guerrero=train[(train['provincia']=='Guerrero')]\n",
    "hidalgo=train[(train['provincia']=='Hidalgo')]\n",
    "michoacan=train[(train['provincia']=='Michoacán')]\n",
    "tamaulipas=train[(train['provincia']=='Tamaulipas')]\n",
    "durango=train[(train['provincia']=='Durango')]\n",
    "sinaloa=train[(train['provincia']=='Sinaloa')]\n",
    "aguascalientes=train[(train['provincia']=='Aguascalientes')]\n",
    "nayarit=train[(train['provincia']=='Nayarit')]\n",
    "chiapas=train[(train['provincia']=='Chiapas')]\n",
    "colima=train[(train['provincia']=='Colima')]\n",
    "tabasco=train[(train['provincia']=='Tabasco')]\n",
    "tlaxcala=train[(train['provincia']=='Tlaxcala')]\n",
    "oaxaca=train[(train['provincia']=='Oaxaca')]\n",
    "campeche=train[(train['provincia']=='Campeche')]\n",
    "zacatecas=train[(train['provincia']=='Zacatecas')]"
   ]
  },
  {
   "cell_type": "code",
   "execution_count": 209,
   "metadata": {},
   "outputs": [],
   "source": [
    "#Por cada provincia devuelvo la latitud promedio\n",
    "def CambiarLatitud(provincia):\n",
    "     if(provincia=='Distrito Federal'):\n",
    "        return distrito['lat'].mean()\n",
    "     if(provincia=='Edo. de México'):\n",
    "        return estado['lat'].mean()\n",
    "     if(provincia=='Jalisco'):\n",
    "        return jalisco['lat'].mean()\n",
    "     if(provincia=='Querétaro'):\n",
    "        return queretaro['lat'].mean()\n",
    "     if(provincia=='Nuevo León'):\n",
    "        return nuevo_leon['lat'].mean()\n",
    "     if(provincia=='Puebla'):\n",
    "        return puebla['lat'].mean()\n",
    "     if(provincia=='San luis Potosí'):\n",
    "        return san_luis['lat'].mean()\n",
    "     if(provincia=='Yucatán'):\n",
    "        return yucatan['lat'].mean()\n",
    "     if(provincia=='Morelos'):\n",
    "        return morelos['lat'].mean()\n",
    "     if(provincia=='Veracruz'):\n",
    "        return veracruz['lat'].mean()\n",
    "     if(provincia=='Quintana Roo'):\n",
    "        return quintara_roo['lat'].mean()\n",
    "     if(provincia=='Chihuahua'):\n",
    "        return chihuahua['lat'].mean()\n",
    "     if(provincia=='Coahuila'):\n",
    "        return coahuila['lat'].mean()\n",
    "     if(provincia=='Baja California Norte'):\n",
    "        return baja_california_norte['lat'].mean()\n",
    "     if(provincia=='Baja California Sur'):\n",
    "        return baja_california_sur['lat'].mean()\n",
    "     if(provincia=='Sonora'):\n",
    "        return sonora['lat'].mean()\n",
    "     if(provincia=='Guanajuato'):\n",
    "        return guanajuato['lat'].mean()\n",
    "     if(provincia=='Guerrero'):\n",
    "        return guerrero['lat'].mean()\n",
    "     if(provincia=='Hidalgo'):\n",
    "        return hidalgo['lat'].mean()\n",
    "     if(provincia=='Michoacán'):\n",
    "        return michoacan['lat'].mean()\n",
    "     if(provincia=='Tamaulipas'):\n",
    "        return tamaulipas['lat'].mean()\n",
    "     if(provincia=='Durango'):\n",
    "        return durango['lat'].mean()\n",
    "     if(provincia=='Sinaloa'):\n",
    "        return sinaloa['lat'].mean()\n",
    "     if(provincia=='Aguascalientes'):\n",
    "        return aguascalientes['lat'].mean()\n",
    "     if(provincia=='Nayarit'):\n",
    "        return nayarit['lat'].mean()\n",
    "     if(provincia=='Chiapas'):\n",
    "        return chiapas['lat'].mean()\n",
    "     if(provincia=='Colima'):\n",
    "        return colima['lat'].mean()\n",
    "     if(provincia=='Tabasco'):\n",
    "        return tabasco['lat'].mean()\n",
    "     if(provincia=='Tlaxcala'):\n",
    "        return tlaxcala['lat'].mean()\n",
    "     if(provincia=='Oaxaca'):\n",
    "        return oaxaca['lat'].mean()\n",
    "     if(provincia=='Campeche'):\n",
    "        return campeche['lat'].mean()\n",
    "     if(provincia=='Zacatecas'):\n",
    "        return zacatecas['lat'].mean()\n",
    "     if(provincia==''):\n",
    "        return 0"
   ]
  },
  {
   "cell_type": "code",
   "execution_count": 210,
   "metadata": {},
   "outputs": [],
   "source": [
    "#Por cada provincia devuelvo la longitud promedio\n",
    "def CambiarLongitud(provincia):\n",
    "     if(provincia=='Distrito Federal'):\n",
    "        return distrito['lng'].mean()\n",
    "     if(provincia=='Edo. de México'):\n",
    "        return estado['lng'].mean()\n",
    "     if(provincia=='Jalisco'):\n",
    "        return jalisco['lng'].mean()\n",
    "     if(provincia=='Querétaro'):\n",
    "        return queretaro['lng'].mean()\n",
    "     if(provincia=='Nuevo León'):\n",
    "        return nuevo_leon['lng'].mean()\n",
    "     if(provincia=='Puebla'):\n",
    "        return puebla['lng'].mean()\n",
    "     if(provincia=='San luis Potosí'):\n",
    "        return san_luis['lng'].mean()\n",
    "     if(provincia=='Yucatán'):\n",
    "        return yucatan['lng'].mean()\n",
    "     if(provincia=='Morelos'):\n",
    "        return morelos['lng'].mean()\n",
    "     if(provincia=='Veracruz'):\n",
    "        return veracruz['lng'].mean()\n",
    "     if(provincia=='Quintana Roo'):\n",
    "        return quintara_roo['lng'].mean()\n",
    "     if(provincia=='Chihuahua'):\n",
    "        return chihuahua['lng'].mean()\n",
    "     if(provincia=='Coahuila'):\n",
    "        return coahuila['lng'].mean()\n",
    "     if(provincia=='Baja California Norte'):\n",
    "        return baja_california_norte['lng'].mean()\n",
    "     if(provincia=='Baja California Sur'):\n",
    "        return baja_california_sur['lng'].mean()\n",
    "     if(provincia=='Sonora'):\n",
    "        return sonora['lng'].mean()\n",
    "     if(provincia=='Guanajuato'):\n",
    "        return guanajuato['lng'].mean()\n",
    "     if(provincia=='Guerrero'):\n",
    "        return guerrero['lng'].mean()\n",
    "     if(provincia=='Hidalgo'):\n",
    "        return hidalgo['lng'].mean()\n",
    "     if(provincia=='Michoacán'):\n",
    "        return michoacan['lng'].mean()\n",
    "     if(provincia=='Tamaulipas'):\n",
    "        return tamaulipas['lng'].mean()\n",
    "     if(provincia=='Durango'):\n",
    "        return durango['lng'].mean()\n",
    "     if(provincia=='Sinaloa'):\n",
    "        return sinaloa['lng'].mean()\n",
    "     if(provincia=='Aguascalientes'):\n",
    "        return aguascalientes['lng'].mean()\n",
    "     if(provincia=='Nayarit'):\n",
    "        return nayarit['lng'].mean()\n",
    "     if(provincia=='Chiapas'):\n",
    "        return chiapas['lng'].mean()\n",
    "     if(provincia=='Colima'):\n",
    "        return colima['lng'].mean()\n",
    "     if(provincia=='Tabasco'):\n",
    "        return tabasco['lng'].mean()\n",
    "     if(provincia=='Tlaxcala'):\n",
    "        return tlaxcala['lng'].mean()\n",
    "     if(provincia=='Oaxaca'):\n",
    "        return oaxaca['lng'].mean()\n",
    "     if(provincia=='Campeche'):\n",
    "        return campeche['lng'].mean()\n",
    "     if(provincia=='Zacatecas'):\n",
    "        return zacatecas['lng'].mean()\n",
    "     if(provincia==''):\n",
    "        return 0"
   ]
  },
  {
   "cell_type": "code",
   "execution_count": 211,
   "metadata": {},
   "outputs": [],
   "source": [
    "train['Esta_condominio']=train.titulo.str.contains('condominio')\n",
    "train['Esta_loma']=train.titulo.str.contains('loma|lomas')\n",
    "train['Esta_bosque']=train.titulo.str.contains('bosque')\n",
    "train['Esta_country']=train.titulo.str.contains('country')\n",
    "train['Esta_lago']=train.titulo.str.contains('lago')\n",
    "train['Esta_residencial']=train.titulo.str.contains('residencial')\n",
    "train['Esta_penthouse']=train.titulo.str.contains('pent house')\n",
    "train['Esta_panoramica']=train.titulo.str.contains('panorámica|panoramica')\n",
    "train['Esta_mirador']=train.titulo.str.contains('mirador')\n",
    "train['Esta_privado']=train.titulo.str.contains('privado|privada')\n",
    "train['Esta_vigilancia']=train.titulo.str.contains('vigilancia')\n",
    "train['Esta_fraccionamiento']=train.titulo.str.contains('fraccionamiento')\n",
    "train['Esta_refugio']=train.titulo.str.contains('refugio')\n",
    "train['Esta_bancario']=train.titulo.str.contains('bancario')\n",
    "train['Esta_habitarse']=train.titulo.str.contains('habitarse')"
   ]
  },
  {
   "cell_type": "code",
   "execution_count": 212,
   "metadata": {},
   "outputs": [],
   "source": [
    "train[['Esta_condominio']]=train[['Esta_condominio']].fillna(value=0)\n",
    "train[['Esta_loma']]=train[['Esta_loma']].fillna(value=0)\n",
    "train[['Esta_bosque']]=train[['Esta_bosque']].fillna(value=0)\n",
    "train[['Esta_country']]=train[['Esta_country']].fillna(value=0)\n",
    "train[['Esta_lago']]=train[['Esta_lago']].fillna(value=0)\n",
    "train[['Esta_residencial']]=train[['Esta_residencial']].fillna(value=0)\n",
    "train[['Esta_penthouse']]=train[['Esta_penthouse']].fillna(value=0)\n",
    "train[['Esta_panoramica']]=train[['Esta_panoramica']].fillna(value=0)\n",
    "train[['Esta_mirador']]=train[['Esta_mirador']].fillna(value=0)\n",
    "train[['Esta_privado']]=train[['Esta_privado']].fillna(value=0)\n",
    "train[['Esta_vigilancia']]=train[['Esta_vigilancia']].fillna(value=0)\n",
    "train[['Esta_fraccionamiento']]=train[['Esta_fraccionamiento']].fillna(value=0)\n",
    "train[['Esta_refugio']]=train[['Esta_refugio']].fillna(value=0)\n",
    "train[['Esta_bancario']]=train[['Esta_bancario']].fillna(value=0)\n",
    "train[['Esta_habitarse']]=train[['Esta_habitarse']].fillna(value=0)"
   ]
  },
  {
   "cell_type": "code",
   "execution_count": 213,
   "metadata": {},
   "outputs": [],
   "source": [
    "train['Esta_condominio'] = train['Esta_condominio'].astype(int)\n",
    "train['Esta_loma'] = train['Esta_loma'].astype(int)\n",
    "train['Esta_bosque'] = train['Esta_bosque'].astype(int)\n",
    "train['Esta_country'] = train['Esta_country'].astype(int)\n",
    "train['Esta_lago'] = train['Esta_lago'].astype(int)\n",
    "train['Esta_residencial'] = train['Esta_residencial'].astype(int)\n",
    "train['Esta_penthouse'] = train['Esta_penthouse'].astype(int)\n",
    "train['Esta_panoramica'] = train['Esta_panoramica'].astype(int)\n",
    "train['Esta_mirador'] = train['Esta_mirador'].astype(int)\n",
    "train['Esta_privado'] = train['Esta_privado'].astype(int)\n",
    "train['Esta_vigilancia'] = train['Esta_vigilancia'].astype(int)\n",
    "train['Esta_fraccionamiento'] = train['Esta_fraccionamiento'].astype(int)\n",
    "train['Esta_refugio'] = train['Esta_refugio'].astype(int)\n",
    "train['Esta_bancario'] = train['Esta_bancario'].astype(int)\n",
    "train['Esta_habitarse'] = train['Esta_habitarse'].astype(int)"
   ]
  },
  {
   "cell_type": "code",
   "execution_count": 214,
   "metadata": {},
   "outputs": [],
   "source": [
    "train['Comoda']=train.descripcion.str.contains('comoda|Comoda')\n",
    "train['Excelente']=train.descripcion.str.contains('excelente|Excelente|Excelentes|excelentes')\n",
    "train['Mejor']=train.descripcion.str.contains('mejor|Mejor')\n",
    "train['Bonito']=train.descripcion.str.contains('Bonito|bonito')\n",
    "train['Esta_Calle_descripcion']=train.descripcion.str.contains('calle|Calle')\n",
    "train['Privada']=train.descripcion.str.contains('Privada|privada|Privado|privado')\n",
    "train['Residencial']=train.descripcion.str.contains('Residencial|residencial')\n",
    "train['Condiciones']=train.descripcion.str.contains('Condiciones|condiciones')\n",
    "train['Ubicacion']=train.descripcion.str.contains('ubicacion|Ubicacion')\n",
    "train['Esta_Avenida']=train.direccion.str.contains('AV|av|Av|Avenida|avenida|AVE|ave|Ave')\n",
    "train['Esta_Calle_direccion']=train.direccion.str.contains('calle|Calle')"
   ]
  },
  {
   "cell_type": "code",
   "execution_count": 215,
   "metadata": {},
   "outputs": [],
   "source": [
    "train[['Comoda']]=train[['Comoda']].fillna(value=0)\n",
    "train[['Excelente']]=train[['Excelente']].fillna(value=0)\n",
    "train[['Mejor']]=train[['Mejor']].fillna(value=0)\n",
    "train[['Bonito']]=train[['Bonito']].fillna(value=0)\n",
    "train[['Esta_Calle_descripcion']]=train[['Esta_Calle_descripcion']].fillna(value=0)\n",
    "train[['Privada']]=train[['Privada']].fillna(value=0)\n",
    "train[['Residencial']]=train[['Residencial']].fillna(value=0)\n",
    "train[['Condiciones']]=train[['Condiciones']].fillna(value=0)\n",
    "train[['Ubicacion']]=train[['Ubicacion']].fillna(value=0)\n",
    "train[['Esta_Avenida']]=train[['Esta_Avenida']].fillna(value=0)\n",
    "train[['Esta_Calle_direccion']]=train[['Esta_Calle_direccion']].fillna(value=0)"
   ]
  },
  {
   "cell_type": "code",
   "execution_count": 216,
   "metadata": {},
   "outputs": [],
   "source": [
    "train['Comoda'] = train['Comoda'].astype(int)\n",
    "train['Excelente'] = train['Excelente'].astype(int)\n",
    "train['Mejor'] = train['Mejor'].astype(int)\n",
    "train['Bonito'] = train['Bonito'].astype(int)\n",
    "train['Esta_Calle_descripcion'] = train['Esta_Calle_descripcion'].astype(int)\n",
    "train['Privada'] = train['Privada'].astype(int)\n",
    "train['Residencial'] = train['Residencial'].astype(int)\n",
    "train['Condiciones'] = train['Condiciones'].astype(int)\n",
    "train['Ubicacion'] = train['Ubicacion'].astype(int)\n",
    "train['Esta_Avenida'] = train['Esta_Avenida'].astype(int)\n",
    "train['Esta_Calle_direccion'] = train['Esta_Calle_direccion'].astype(int)"
   ]
  },
  {
   "cell_type": "code",
   "execution_count": 217,
   "metadata": {},
   "outputs": [],
   "source": [
    "#Guardamos el promedio de las columnas para luego completar los NaNs\n",
    "mean_antiguedad=np.floor(train['antiguedad'].mean())\n",
    "mean_habitaciones=np.ceil(train['habitaciones'].mean())\n",
    "mean_garages=np.ceil(train['garages'].mean())\n",
    "mean_banos=np.floor(train['banos'].mean())\n",
    "mean_metroscubiertos=np.ceil(train['metroscubiertos'].mean())\n",
    "mean_metrostotales=np.ceil(train['metrostotales'].mean())\n",
    "mean_idzona=np.ceil(train['idzona'].mean())"
   ]
  },
  {
   "cell_type": "code",
   "execution_count": 218,
   "metadata": {},
   "outputs": [],
   "source": [
    "#Cambiamos el tipo de dato de algunas columnas para bajar el uso de memoria\n",
    "train['antiguedad']=train['antiguedad'].astype('int32',errors='ignore')\n",
    "train['habitaciones']=train['habitaciones'].astype('int32',errors='ignore')\n",
    "train['banos']=train['banos'].astype('int32',errors='ignore')\n",
    "train['gimnasio']=train['gimnasio'].astype('int32',errors='ignore')\n",
    "train['usosmultiples']=train['usosmultiples'].astype('int32',errors='ignore')\n",
    "train['piscina']=train['piscina'].astype('int32',errors='ignore')\n",
    "train['escuelascercanas']=train['escuelascercanas'].astype('int32',errors='ignore')\n",
    "train['centroscomercialescercanos']=train['centroscomercialescercanos'].astype('int32',errors='ignore')"
   ]
  },
  {
   "cell_type": "code",
   "execution_count": 219,
   "metadata": {},
   "outputs": [],
   "source": [
    "#Llenamos los NaNs con el promedio\n",
    "train[['antiguedad']]=train[['antiguedad']].fillna(value=mean_antiguedad)\n",
    "train[['habitaciones']]=train[['habitaciones']].fillna(value=mean_habitaciones)\n",
    "train[['garages']]=train[['garages']].fillna(value=mean_garages)\n",
    "train[['banos']]=train[['banos']].fillna(value=mean_banos)\n",
    "train[['metroscubiertos']]=train[['metroscubiertos']].fillna(value=mean_metroscubiertos)\n",
    "train[['metrostotales']]=train[['metrostotales']].fillna(value=mean_metrostotales)\n",
    "train[['idzona']]=train[['idzona']].fillna(value=mean_idzona)"
   ]
  },
  {
   "cell_type": "code",
   "execution_count": 220,
   "metadata": {
    "scrolled": false
   },
   "outputs": [
    {
     "data": {
      "text/html": [
       "<div>\n",
       "<style scoped>\n",
       "    .dataframe tbody tr th:only-of-type {\n",
       "        vertical-align: middle;\n",
       "    }\n",
       "\n",
       "    .dataframe tbody tr th {\n",
       "        vertical-align: top;\n",
       "    }\n",
       "\n",
       "    .dataframe thead th {\n",
       "        text-align: right;\n",
       "    }\n",
       "</style>\n",
       "<table border=\"1\" class=\"dataframe\">\n",
       "  <thead>\n",
       "    <tr style=\"text-align: right;\">\n",
       "      <th></th>\n",
       "      <th>id</th>\n",
       "      <th>titulo</th>\n",
       "      <th>descripcion</th>\n",
       "      <th>tipodepropiedad</th>\n",
       "      <th>direccion</th>\n",
       "      <th>ciudad</th>\n",
       "      <th>provincia</th>\n",
       "      <th>antiguedad</th>\n",
       "      <th>habitaciones</th>\n",
       "      <th>garages</th>\n",
       "      <th>...</th>\n",
       "      <th>Privada</th>\n",
       "      <th>Residencial</th>\n",
       "      <th>Condiciones</th>\n",
       "      <th>Ubicacion</th>\n",
       "      <th>Esta_Avenida</th>\n",
       "      <th>Esta_Calle_direccion</th>\n",
       "      <th>Fecha</th>\n",
       "      <th>Anio</th>\n",
       "      <th>Mes</th>\n",
       "      <th>Dia</th>\n",
       "    </tr>\n",
       "  </thead>\n",
       "  <tbody>\n",
       "    <tr>\n",
       "      <th>0</th>\n",
       "      <td>254099</td>\n",
       "      <td>depto. tipo a-402</td>\n",
       "      <td>depto. interior de 80.15m2, consta de sala com...</td>\n",
       "      <td>Apartamento</td>\n",
       "      <td>Avenida Division del Norte 2005</td>\n",
       "      <td>Benito Juárez</td>\n",
       "      <td>Distrito Federal</td>\n",
       "      <td>8.0</td>\n",
       "      <td>2.0</td>\n",
       "      <td>1.0</td>\n",
       "      <td>...</td>\n",
       "      <td>0</td>\n",
       "      <td>0</td>\n",
       "      <td>0</td>\n",
       "      <td>0</td>\n",
       "      <td>1</td>\n",
       "      <td>0</td>\n",
       "      <td>2015-08-23</td>\n",
       "      <td>2015</td>\n",
       "      <td>8</td>\n",
       "      <td>23</td>\n",
       "    </tr>\n",
       "    <tr>\n",
       "      <th>1</th>\n",
       "      <td>53461</td>\n",
       "      <td>condominio horizontal en venta</td>\n",
       "      <td>&lt;p&gt;entre sonora y guerrero, atr&amp;aacute;s del h...</td>\n",
       "      <td>Casa en condominio</td>\n",
       "      <td>AV. MEXICO</td>\n",
       "      <td>La Magdalena Contreras</td>\n",
       "      <td>Distrito Federal</td>\n",
       "      <td>10.0</td>\n",
       "      <td>3.0</td>\n",
       "      <td>2.0</td>\n",
       "      <td>...</td>\n",
       "      <td>0</td>\n",
       "      <td>0</td>\n",
       "      <td>0</td>\n",
       "      <td>0</td>\n",
       "      <td>1</td>\n",
       "      <td>0</td>\n",
       "      <td>2013-06-28</td>\n",
       "      <td>2013</td>\n",
       "      <td>6</td>\n",
       "      <td>28</td>\n",
       "    </tr>\n",
       "    <tr>\n",
       "      <th>2</th>\n",
       "      <td>126147</td>\n",
       "      <td>departamento en venta taxqueña</td>\n",
       "      <td>amplio departamento, estancia de sala y comedo...</td>\n",
       "      <td>Apartamento</td>\n",
       "      <td>Condominio Tlalpan 2B</td>\n",
       "      <td>Coyoacán</td>\n",
       "      <td>Distrito Federal</td>\n",
       "      <td>5.0</td>\n",
       "      <td>2.0</td>\n",
       "      <td>1.0</td>\n",
       "      <td>...</td>\n",
       "      <td>0</td>\n",
       "      <td>0</td>\n",
       "      <td>0</td>\n",
       "      <td>0</td>\n",
       "      <td>0</td>\n",
       "      <td>0</td>\n",
       "      <td>2014-03-18</td>\n",
       "      <td>2014</td>\n",
       "      <td>3</td>\n",
       "      <td>18</td>\n",
       "    </tr>\n",
       "    <tr>\n",
       "      <th>3</th>\n",
       "      <td>130216</td>\n",
       "      <td>casa matias romero - sión bancaria</td>\n",
       "      <td>flamante casa habitación en condominio horizon...</td>\n",
       "      <td>Casa</td>\n",
       "      <td>MATIAS ROMERO, COLONIA DEL VALLE</td>\n",
       "      <td>Benito Juárez</td>\n",
       "      <td>Distrito Federal</td>\n",
       "      <td>20.0</td>\n",
       "      <td>3.0</td>\n",
       "      <td>0.0</td>\n",
       "      <td>...</td>\n",
       "      <td>0</td>\n",
       "      <td>0</td>\n",
       "      <td>0</td>\n",
       "      <td>0</td>\n",
       "      <td>0</td>\n",
       "      <td>0</td>\n",
       "      <td>2015-03-31</td>\n",
       "      <td>2015</td>\n",
       "      <td>3</td>\n",
       "      <td>31</td>\n",
       "    </tr>\n",
       "    <tr>\n",
       "      <th>4</th>\n",
       "      <td>73348</td>\n",
       "      <td>oportunidad, departamento col del valle, 3 rec...</td>\n",
       "      <td>magnifico departamento con excelente distribuc...</td>\n",
       "      <td>Apartamento</td>\n",
       "      <td>Pazaje Santa Cruz</td>\n",
       "      <td>Benito Juárez</td>\n",
       "      <td>Distrito Federal</td>\n",
       "      <td>5.0</td>\n",
       "      <td>3.0</td>\n",
       "      <td>2.0</td>\n",
       "      <td>...</td>\n",
       "      <td>0</td>\n",
       "      <td>0</td>\n",
       "      <td>0</td>\n",
       "      <td>0</td>\n",
       "      <td>0</td>\n",
       "      <td>0</td>\n",
       "      <td>2016-10-30</td>\n",
       "      <td>2016</td>\n",
       "      <td>10</td>\n",
       "      <td>30</td>\n",
       "    </tr>\n",
       "  </tbody>\n",
       "</table>\n",
       "<p>5 rows × 153 columns</p>\n",
       "</div>"
      ],
      "text/plain": [
       "       id                                             titulo  \\\n",
       "0  254099                                  depto. tipo a-402   \n",
       "1   53461                     condominio horizontal en venta   \n",
       "2  126147                     departamento en venta taxqueña   \n",
       "3  130216                 casa matias romero - sión bancaria   \n",
       "4   73348  oportunidad, departamento col del valle, 3 rec...   \n",
       "\n",
       "                                         descripcion     tipodepropiedad  \\\n",
       "0  depto. interior de 80.15m2, consta de sala com...         Apartamento   \n",
       "1  <p>entre sonora y guerrero, atr&aacute;s del h...  Casa en condominio   \n",
       "2  amplio departamento, estancia de sala y comedo...         Apartamento   \n",
       "3  flamante casa habitación en condominio horizon...                Casa   \n",
       "4  magnifico departamento con excelente distribuc...         Apartamento   \n",
       "\n",
       "                          direccion                  ciudad         provincia  \\\n",
       "0   Avenida Division del Norte 2005           Benito Juárez  Distrito Federal   \n",
       "1                        AV. MEXICO  La Magdalena Contreras  Distrito Federal   \n",
       "2             Condominio Tlalpan 2B                Coyoacán  Distrito Federal   \n",
       "3  MATIAS ROMERO, COLONIA DEL VALLE           Benito Juárez  Distrito Federal   \n",
       "4                 Pazaje Santa Cruz           Benito Juárez  Distrito Federal   \n",
       "\n",
       "   antiguedad  habitaciones  garages ...   Privada  Residencial  Condiciones  \\\n",
       "0         8.0           2.0      1.0 ...         0            0            0   \n",
       "1        10.0           3.0      2.0 ...         0            0            0   \n",
       "2         5.0           2.0      1.0 ...         0            0            0   \n",
       "3        20.0           3.0      0.0 ...         0            0            0   \n",
       "4         5.0           3.0      2.0 ...         0            0            0   \n",
       "\n",
       "   Ubicacion  Esta_Avenida  Esta_Calle_direccion      Fecha  Anio  Mes  Dia  \n",
       "0          0             1                     0 2015-08-23  2015    8   23  \n",
       "1          0             1                     0 2013-06-28  2013    6   28  \n",
       "2          0             0                     0 2014-03-18  2014    3   18  \n",
       "3          0             0                     0 2015-03-31  2015    3   31  \n",
       "4          0             0                     0 2016-10-30  2016   10   30  \n",
       "\n",
       "[5 rows x 153 columns]"
      ]
     },
     "execution_count": 220,
     "metadata": {},
     "output_type": "execute_result"
    }
   ],
   "source": [
    "#Hacemos la conversión de fechas\n",
    "train['Fecha']=pd.to_datetime(train['fecha'])\n",
    "train.drop(columns={'fecha'},inplace=True)\n",
    "train['Anio']=train['Fecha'].dt.year\n",
    "train['Mes']=train['Fecha'].dt.month\n",
    "train['Dia']=train['Fecha'].dt.day\n",
    "train.head()"
   ]
  },
  {
   "cell_type": "code",
   "execution_count": 221,
   "metadata": {},
   "outputs": [],
   "source": [
    "#Aplicamos las funciones en cuestión\n",
    "train['Esta_Capital']=train['ciudad'].apply(EstaEnCapital)\n",
    "train['Esta_Provincia_Cara']=train['provincia'].apply(EstaProvinciaCara)\n",
    "train['Esta_Ciudad_Cara']=train['ciudad'].apply(EstaCiudadCara)\n",
    "train['Estacion']=train.apply(lambda x: fechaEstacion(x['Mes'],x['Dia']),axis=1)\n",
    "train['Esta_Zona_Turistica']=train.apply(lambda x: EstaEnZonaTuristica(x['ciudad'],x['provincia']),axis=1)\n",
    "train['Zona_Metropolitana']=train.apply(lambda x: EnQueZonaMetropolitanaEsta(x['ciudad'],x['provincia']),axis=1)\n",
    "train['Corona_Regional']=train['provincia'].apply(EstaCoronaRegional)"
   ]
  },
  {
   "cell_type": "code",
   "execution_count": 222,
   "metadata": {},
   "outputs": [],
   "source": [
    "train['lat']=train['provincia'].apply(CambiarLatitud)\n",
    "train['lng']=train['provincia'].apply(CambiarLongitud)"
   ]
  },
  {
   "cell_type": "code",
   "execution_count": 223,
   "metadata": {},
   "outputs": [],
   "source": [
    "train = oneHotEncoding(train,'provincia')\n",
    "train = oneHotEncoding(train,'tipodepropiedad')\n",
    "train = oneHotEncoding(train,'Estacion')\n",
    "train = oneHotEncoding(train,'Zona')\n",
    "train = oneHotEncoding(train,'Zona_Metropolitana')"
   ]
  },
  {
   "cell_type": "code",
   "execution_count": 224,
   "metadata": {},
   "outputs": [
    {
     "data": {
      "text/html": [
       "<div>\n",
       "<style scoped>\n",
       "    .dataframe tbody tr th:only-of-type {\n",
       "        vertical-align: middle;\n",
       "    }\n",
       "\n",
       "    .dataframe tbody tr th {\n",
       "        vertical-align: top;\n",
       "    }\n",
       "\n",
       "    .dataframe thead th {\n",
       "        text-align: right;\n",
       "    }\n",
       "</style>\n",
       "<table border=\"1\" class=\"dataframe\">\n",
       "  <thead>\n",
       "    <tr style=\"text-align: right;\">\n",
       "      <th></th>\n",
       "      <th>antiguedad</th>\n",
       "      <th>habitaciones</th>\n",
       "      <th>garages</th>\n",
       "      <th>banos</th>\n",
       "      <th>metroscubiertos</th>\n",
       "      <th>metrostotales</th>\n",
       "      <th>idzona</th>\n",
       "      <th>lat</th>\n",
       "      <th>lng</th>\n",
       "      <th>gimnasio</th>\n",
       "      <th>...</th>\n",
       "      <th>sur_este</th>\n",
       "      <th>sur_oeste</th>\n",
       "      <th>Guadalajara</th>\n",
       "      <th>Laguna</th>\n",
       "      <th>Monterrey</th>\n",
       "      <th>No_Esta</th>\n",
       "      <th>Puebla_Texaca</th>\n",
       "      <th>Queretaro</th>\n",
       "      <th>Toluca</th>\n",
       "      <th>Valle</th>\n",
       "    </tr>\n",
       "  </thead>\n",
       "  <tbody>\n",
       "    <tr>\n",
       "      <th>0</th>\n",
       "      <td>8.0</td>\n",
       "      <td>2.0</td>\n",
       "      <td>1.0</td>\n",
       "      <td>2.0</td>\n",
       "      <td>80.0</td>\n",
       "      <td>80.0</td>\n",
       "      <td>23533.0</td>\n",
       "      <td>19.359628</td>\n",
       "      <td>-98.826768</td>\n",
       "      <td>0</td>\n",
       "      <td>...</td>\n",
       "      <td>0</td>\n",
       "      <td>0</td>\n",
       "      <td>0</td>\n",
       "      <td>0</td>\n",
       "      <td>0</td>\n",
       "      <td>0</td>\n",
       "      <td>0</td>\n",
       "      <td>0</td>\n",
       "      <td>0</td>\n",
       "      <td>1</td>\n",
       "    </tr>\n",
       "    <tr>\n",
       "      <th>1</th>\n",
       "      <td>10.0</td>\n",
       "      <td>3.0</td>\n",
       "      <td>2.0</td>\n",
       "      <td>2.0</td>\n",
       "      <td>268.0</td>\n",
       "      <td>180.0</td>\n",
       "      <td>24514.0</td>\n",
       "      <td>19.359628</td>\n",
       "      <td>-98.826768</td>\n",
       "      <td>0</td>\n",
       "      <td>...</td>\n",
       "      <td>0</td>\n",
       "      <td>0</td>\n",
       "      <td>0</td>\n",
       "      <td>0</td>\n",
       "      <td>0</td>\n",
       "      <td>0</td>\n",
       "      <td>0</td>\n",
       "      <td>0</td>\n",
       "      <td>0</td>\n",
       "      <td>1</td>\n",
       "    </tr>\n",
       "    <tr>\n",
       "      <th>2</th>\n",
       "      <td>5.0</td>\n",
       "      <td>2.0</td>\n",
       "      <td>1.0</td>\n",
       "      <td>1.0</td>\n",
       "      <td>75.0</td>\n",
       "      <td>90.0</td>\n",
       "      <td>23650.0</td>\n",
       "      <td>19.359628</td>\n",
       "      <td>-98.826768</td>\n",
       "      <td>0</td>\n",
       "      <td>...</td>\n",
       "      <td>0</td>\n",
       "      <td>0</td>\n",
       "      <td>0</td>\n",
       "      <td>0</td>\n",
       "      <td>0</td>\n",
       "      <td>0</td>\n",
       "      <td>0</td>\n",
       "      <td>0</td>\n",
       "      <td>0</td>\n",
       "      <td>1</td>\n",
       "    </tr>\n",
       "    <tr>\n",
       "      <th>3</th>\n",
       "      <td>20.0</td>\n",
       "      <td>3.0</td>\n",
       "      <td>0.0</td>\n",
       "      <td>2.0</td>\n",
       "      <td>227.0</td>\n",
       "      <td>185.0</td>\n",
       "      <td>50003995.0</td>\n",
       "      <td>19.359628</td>\n",
       "      <td>-98.826768</td>\n",
       "      <td>0</td>\n",
       "      <td>...</td>\n",
       "      <td>0</td>\n",
       "      <td>0</td>\n",
       "      <td>0</td>\n",
       "      <td>0</td>\n",
       "      <td>0</td>\n",
       "      <td>0</td>\n",
       "      <td>0</td>\n",
       "      <td>0</td>\n",
       "      <td>0</td>\n",
       "      <td>1</td>\n",
       "    </tr>\n",
       "    <tr>\n",
       "      <th>4</th>\n",
       "      <td>5.0</td>\n",
       "      <td>3.0</td>\n",
       "      <td>2.0</td>\n",
       "      <td>2.0</td>\n",
       "      <td>127.0</td>\n",
       "      <td>127.0</td>\n",
       "      <td>50003995.0</td>\n",
       "      <td>19.359628</td>\n",
       "      <td>-98.826768</td>\n",
       "      <td>0</td>\n",
       "      <td>...</td>\n",
       "      <td>0</td>\n",
       "      <td>0</td>\n",
       "      <td>0</td>\n",
       "      <td>0</td>\n",
       "      <td>0</td>\n",
       "      <td>0</td>\n",
       "      <td>0</td>\n",
       "      <td>0</td>\n",
       "      <td>0</td>\n",
       "      <td>1</td>\n",
       "    </tr>\n",
       "  </tbody>\n",
       "</table>\n",
       "<p>5 rows × 224 columns</p>\n",
       "</div>"
      ],
      "text/plain": [
       "   antiguedad  habitaciones  garages  banos  metroscubiertos  metrostotales  \\\n",
       "0         8.0           2.0      1.0    2.0             80.0           80.0   \n",
       "1        10.0           3.0      2.0    2.0            268.0          180.0   \n",
       "2         5.0           2.0      1.0    1.0             75.0           90.0   \n",
       "3        20.0           3.0      0.0    2.0            227.0          185.0   \n",
       "4         5.0           3.0      2.0    2.0            127.0          127.0   \n",
       "\n",
       "       idzona        lat        lng  gimnasio  ...    sur_este  sur_oeste  \\\n",
       "0     23533.0  19.359628 -98.826768         0  ...           0          0   \n",
       "1     24514.0  19.359628 -98.826768         0  ...           0          0   \n",
       "2     23650.0  19.359628 -98.826768         0  ...           0          0   \n",
       "3  50003995.0  19.359628 -98.826768         0  ...           0          0   \n",
       "4  50003995.0  19.359628 -98.826768         0  ...           0          0   \n",
       "\n",
       "   Guadalajara  Laguna  Monterrey  No_Esta  Puebla_Texaca  Queretaro  Toluca  \\\n",
       "0            0       0          0        0              0          0       0   \n",
       "1            0       0          0        0              0          0       0   \n",
       "2            0       0          0        0              0          0       0   \n",
       "3            0       0          0        0              0          0       0   \n",
       "4            0       0          0        0              0          0       0   \n",
       "\n",
       "   Valle  \n",
       "0      1  \n",
       "1      1  \n",
       "2      1  \n",
       "3      1  \n",
       "4      1  \n",
       "\n",
       "[5 rows x 224 columns]"
      ]
     },
     "execution_count": 224,
     "metadata": {},
     "output_type": "execute_result"
    }
   ],
   "source": [
    "train.drop(columns={'direccion','titulo','descripcion','Fecha','id','ciudad','Dia'},inplace=True)\n",
    "train.head()"
   ]
  },
  {
   "cell_type": "code",
   "execution_count": 225,
   "metadata": {},
   "outputs": [
    {
     "data": {
      "text/html": [
       "<div>\n",
       "<style scoped>\n",
       "    .dataframe tbody tr th:only-of-type {\n",
       "        vertical-align: middle;\n",
       "    }\n",
       "\n",
       "    .dataframe tbody tr th {\n",
       "        vertical-align: top;\n",
       "    }\n",
       "\n",
       "    .dataframe thead th {\n",
       "        text-align: right;\n",
       "    }\n",
       "</style>\n",
       "<table border=\"1\" class=\"dataframe\">\n",
       "  <thead>\n",
       "    <tr style=\"text-align: right;\">\n",
       "      <th></th>\n",
       "      <th>antiguedad</th>\n",
       "      <th>habitaciones</th>\n",
       "      <th>garages</th>\n",
       "      <th>banos</th>\n",
       "      <th>metroscubiertos</th>\n",
       "      <th>metrostotales</th>\n",
       "      <th>idzona</th>\n",
       "      <th>lat</th>\n",
       "      <th>lng</th>\n",
       "      <th>gimnasio</th>\n",
       "      <th>...</th>\n",
       "      <th>sur_oeste</th>\n",
       "      <th>Guadalajara</th>\n",
       "      <th>Laguna</th>\n",
       "      <th>Monterrey</th>\n",
       "      <th>No_Esta</th>\n",
       "      <th>Puebla_Texaca</th>\n",
       "      <th>Queretaro</th>\n",
       "      <th>Toluca</th>\n",
       "      <th>Valle</th>\n",
       "      <th>metrosdescubiertos</th>\n",
       "    </tr>\n",
       "  </thead>\n",
       "  <tbody>\n",
       "    <tr>\n",
       "      <th>0</th>\n",
       "      <td>8.0</td>\n",
       "      <td>2.0</td>\n",
       "      <td>1.0</td>\n",
       "      <td>2.0</td>\n",
       "      <td>80.0</td>\n",
       "      <td>80.0</td>\n",
       "      <td>23533.0</td>\n",
       "      <td>19.359628</td>\n",
       "      <td>-98.826768</td>\n",
       "      <td>0</td>\n",
       "      <td>...</td>\n",
       "      <td>0</td>\n",
       "      <td>0</td>\n",
       "      <td>0</td>\n",
       "      <td>0</td>\n",
       "      <td>0</td>\n",
       "      <td>0</td>\n",
       "      <td>0</td>\n",
       "      <td>0</td>\n",
       "      <td>1</td>\n",
       "      <td>0.0</td>\n",
       "    </tr>\n",
       "    <tr>\n",
       "      <th>2</th>\n",
       "      <td>5.0</td>\n",
       "      <td>2.0</td>\n",
       "      <td>1.0</td>\n",
       "      <td>1.0</td>\n",
       "      <td>75.0</td>\n",
       "      <td>90.0</td>\n",
       "      <td>23650.0</td>\n",
       "      <td>19.359628</td>\n",
       "      <td>-98.826768</td>\n",
       "      <td>0</td>\n",
       "      <td>...</td>\n",
       "      <td>0</td>\n",
       "      <td>0</td>\n",
       "      <td>0</td>\n",
       "      <td>0</td>\n",
       "      <td>0</td>\n",
       "      <td>0</td>\n",
       "      <td>0</td>\n",
       "      <td>0</td>\n",
       "      <td>1</td>\n",
       "      <td>15.0</td>\n",
       "    </tr>\n",
       "    <tr>\n",
       "      <th>4</th>\n",
       "      <td>5.0</td>\n",
       "      <td>3.0</td>\n",
       "      <td>2.0</td>\n",
       "      <td>2.0</td>\n",
       "      <td>127.0</td>\n",
       "      <td>127.0</td>\n",
       "      <td>50003995.0</td>\n",
       "      <td>19.359628</td>\n",
       "      <td>-98.826768</td>\n",
       "      <td>0</td>\n",
       "      <td>...</td>\n",
       "      <td>0</td>\n",
       "      <td>0</td>\n",
       "      <td>0</td>\n",
       "      <td>0</td>\n",
       "      <td>0</td>\n",
       "      <td>0</td>\n",
       "      <td>0</td>\n",
       "      <td>0</td>\n",
       "      <td>1</td>\n",
       "      <td>0.0</td>\n",
       "    </tr>\n",
       "    <tr>\n",
       "      <th>5</th>\n",
       "      <td>18.0</td>\n",
       "      <td>3.0</td>\n",
       "      <td>3.0</td>\n",
       "      <td>3.0</td>\n",
       "      <td>174.0</td>\n",
       "      <td>306.0</td>\n",
       "      <td>2423512.0</td>\n",
       "      <td>19.359628</td>\n",
       "      <td>-98.826768</td>\n",
       "      <td>0</td>\n",
       "      <td>...</td>\n",
       "      <td>0</td>\n",
       "      <td>0</td>\n",
       "      <td>0</td>\n",
       "      <td>0</td>\n",
       "      <td>0</td>\n",
       "      <td>0</td>\n",
       "      <td>0</td>\n",
       "      <td>0</td>\n",
       "      <td>1</td>\n",
       "      <td>132.0</td>\n",
       "    </tr>\n",
       "    <tr>\n",
       "      <th>7</th>\n",
       "      <td>16.0</td>\n",
       "      <td>3.0</td>\n",
       "      <td>1.0</td>\n",
       "      <td>2.0</td>\n",
       "      <td>90.0</td>\n",
       "      <td>110.0</td>\n",
       "      <td>24125.0</td>\n",
       "      <td>19.359628</td>\n",
       "      <td>-98.826768</td>\n",
       "      <td>0</td>\n",
       "      <td>...</td>\n",
       "      <td>0</td>\n",
       "      <td>0</td>\n",
       "      <td>0</td>\n",
       "      <td>0</td>\n",
       "      <td>0</td>\n",
       "      <td>0</td>\n",
       "      <td>0</td>\n",
       "      <td>0</td>\n",
       "      <td>1</td>\n",
       "      <td>20.0</td>\n",
       "    </tr>\n",
       "  </tbody>\n",
       "</table>\n",
       "<p>5 rows × 225 columns</p>\n",
       "</div>"
      ],
      "text/plain": [
       "   antiguedad  habitaciones  garages  banos  metroscubiertos  metrostotales  \\\n",
       "0         8.0           2.0      1.0    2.0             80.0           80.0   \n",
       "2         5.0           2.0      1.0    1.0             75.0           90.0   \n",
       "4         5.0           3.0      2.0    2.0            127.0          127.0   \n",
       "5        18.0           3.0      3.0    3.0            174.0          306.0   \n",
       "7        16.0           3.0      1.0    2.0             90.0          110.0   \n",
       "\n",
       "       idzona        lat        lng  gimnasio         ...          sur_oeste  \\\n",
       "0     23533.0  19.359628 -98.826768         0         ...                  0   \n",
       "2     23650.0  19.359628 -98.826768         0         ...                  0   \n",
       "4  50003995.0  19.359628 -98.826768         0         ...                  0   \n",
       "5   2423512.0  19.359628 -98.826768         0         ...                  0   \n",
       "7     24125.0  19.359628 -98.826768         0         ...                  0   \n",
       "\n",
       "   Guadalajara  Laguna  Monterrey  No_Esta  Puebla_Texaca  Queretaro  Toluca  \\\n",
       "0            0       0          0        0              0          0       0   \n",
       "2            0       0          0        0              0          0       0   \n",
       "4            0       0          0        0              0          0       0   \n",
       "5            0       0          0        0              0          0       0   \n",
       "7            0       0          0        0              0          0       0   \n",
       "\n",
       "   Valle  metrosdescubiertos  \n",
       "0      1                 0.0  \n",
       "2      1                15.0  \n",
       "4      1                 0.0  \n",
       "5      1               132.0  \n",
       "7      1                20.0  \n",
       "\n",
       "[5 rows x 225 columns]"
      ]
     },
     "execution_count": 225,
     "metadata": {},
     "output_type": "execute_result"
    }
   ],
   "source": [
    "train['metrosdescubiertos']=train['metrostotales']-train['metroscubiertos']\n",
    "#Me quedo solamente con los cuales el valor de metros descubiertos es positivo\n",
    "train=train[(train['metrosdescubiertos']>=0)]\n",
    "train.head()"
   ]
  },
  {
   "cell_type": "markdown",
   "metadata": {},
   "source": [
    "## 2) Aplicación de Algoritmos"
   ]
  },
  {
   "cell_type": "markdown",
   "metadata": {},
   "source": [
    "Utilizamos Mean Absolute Error (MAE) para ver la precisión de nuestra preducción, cuya formula es:"
   ]
  },
  {
   "cell_type": "markdown",
   "metadata": {},
   "source": [
    "<img src=\"https://miro.medium.com/max/780/1*8DXbECB9pnKxTpIvuVD-vg.png\">"
   ]
  },
  {
   "cell_type": "code",
   "execution_count": 226,
   "metadata": {
    "scrolled": true
   },
   "outputs": [
    {
     "data": {
      "text/html": [
       "<div>\n",
       "<style scoped>\n",
       "    .dataframe tbody tr th:only-of-type {\n",
       "        vertical-align: middle;\n",
       "    }\n",
       "\n",
       "    .dataframe tbody tr th {\n",
       "        vertical-align: top;\n",
       "    }\n",
       "\n",
       "    .dataframe thead th {\n",
       "        text-align: right;\n",
       "    }\n",
       "</style>\n",
       "<table border=\"1\" class=\"dataframe\">\n",
       "  <thead>\n",
       "    <tr style=\"text-align: right;\">\n",
       "      <th></th>\n",
       "      <th>antiguedad</th>\n",
       "      <th>habitaciones</th>\n",
       "      <th>garages</th>\n",
       "      <th>banos</th>\n",
       "      <th>metroscubiertos</th>\n",
       "      <th>metrostotales</th>\n",
       "      <th>idzona</th>\n",
       "      <th>lat</th>\n",
       "      <th>lng</th>\n",
       "      <th>gimnasio</th>\n",
       "      <th>...</th>\n",
       "      <th>sur_oeste</th>\n",
       "      <th>Guadalajara</th>\n",
       "      <th>Laguna</th>\n",
       "      <th>Monterrey</th>\n",
       "      <th>No_Esta</th>\n",
       "      <th>Puebla_Texaca</th>\n",
       "      <th>Queretaro</th>\n",
       "      <th>Toluca</th>\n",
       "      <th>Valle</th>\n",
       "      <th>metrosdescubiertos</th>\n",
       "    </tr>\n",
       "  </thead>\n",
       "  <tbody>\n",
       "    <tr>\n",
       "      <th>0</th>\n",
       "      <td>8.0</td>\n",
       "      <td>2.0</td>\n",
       "      <td>1.0</td>\n",
       "      <td>2.0</td>\n",
       "      <td>80.0</td>\n",
       "      <td>80.0</td>\n",
       "      <td>23533.0</td>\n",
       "      <td>19.359628</td>\n",
       "      <td>-98.826768</td>\n",
       "      <td>0</td>\n",
       "      <td>...</td>\n",
       "      <td>0</td>\n",
       "      <td>0</td>\n",
       "      <td>0</td>\n",
       "      <td>0</td>\n",
       "      <td>0</td>\n",
       "      <td>0</td>\n",
       "      <td>0</td>\n",
       "      <td>0</td>\n",
       "      <td>1</td>\n",
       "      <td>0.0</td>\n",
       "    </tr>\n",
       "    <tr>\n",
       "      <th>2</th>\n",
       "      <td>5.0</td>\n",
       "      <td>2.0</td>\n",
       "      <td>1.0</td>\n",
       "      <td>1.0</td>\n",
       "      <td>75.0</td>\n",
       "      <td>90.0</td>\n",
       "      <td>23650.0</td>\n",
       "      <td>19.359628</td>\n",
       "      <td>-98.826768</td>\n",
       "      <td>0</td>\n",
       "      <td>...</td>\n",
       "      <td>0</td>\n",
       "      <td>0</td>\n",
       "      <td>0</td>\n",
       "      <td>0</td>\n",
       "      <td>0</td>\n",
       "      <td>0</td>\n",
       "      <td>0</td>\n",
       "      <td>0</td>\n",
       "      <td>1</td>\n",
       "      <td>15.0</td>\n",
       "    </tr>\n",
       "    <tr>\n",
       "      <th>4</th>\n",
       "      <td>5.0</td>\n",
       "      <td>3.0</td>\n",
       "      <td>2.0</td>\n",
       "      <td>2.0</td>\n",
       "      <td>127.0</td>\n",
       "      <td>127.0</td>\n",
       "      <td>50003995.0</td>\n",
       "      <td>19.359628</td>\n",
       "      <td>-98.826768</td>\n",
       "      <td>0</td>\n",
       "      <td>...</td>\n",
       "      <td>0</td>\n",
       "      <td>0</td>\n",
       "      <td>0</td>\n",
       "      <td>0</td>\n",
       "      <td>0</td>\n",
       "      <td>0</td>\n",
       "      <td>0</td>\n",
       "      <td>0</td>\n",
       "      <td>1</td>\n",
       "      <td>0.0</td>\n",
       "    </tr>\n",
       "    <tr>\n",
       "      <th>5</th>\n",
       "      <td>18.0</td>\n",
       "      <td>3.0</td>\n",
       "      <td>3.0</td>\n",
       "      <td>3.0</td>\n",
       "      <td>174.0</td>\n",
       "      <td>306.0</td>\n",
       "      <td>2423512.0</td>\n",
       "      <td>19.359628</td>\n",
       "      <td>-98.826768</td>\n",
       "      <td>0</td>\n",
       "      <td>...</td>\n",
       "      <td>0</td>\n",
       "      <td>0</td>\n",
       "      <td>0</td>\n",
       "      <td>0</td>\n",
       "      <td>0</td>\n",
       "      <td>0</td>\n",
       "      <td>0</td>\n",
       "      <td>0</td>\n",
       "      <td>1</td>\n",
       "      <td>132.0</td>\n",
       "    </tr>\n",
       "    <tr>\n",
       "      <th>7</th>\n",
       "      <td>16.0</td>\n",
       "      <td>3.0</td>\n",
       "      <td>1.0</td>\n",
       "      <td>2.0</td>\n",
       "      <td>90.0</td>\n",
       "      <td>110.0</td>\n",
       "      <td>24125.0</td>\n",
       "      <td>19.359628</td>\n",
       "      <td>-98.826768</td>\n",
       "      <td>0</td>\n",
       "      <td>...</td>\n",
       "      <td>0</td>\n",
       "      <td>0</td>\n",
       "      <td>0</td>\n",
       "      <td>0</td>\n",
       "      <td>0</td>\n",
       "      <td>0</td>\n",
       "      <td>0</td>\n",
       "      <td>0</td>\n",
       "      <td>1</td>\n",
       "      <td>20.0</td>\n",
       "    </tr>\n",
       "  </tbody>\n",
       "</table>\n",
       "<p>5 rows × 222 columns</p>\n",
       "</div>"
      ],
      "text/plain": [
       "   antiguedad  habitaciones  garages  banos  metroscubiertos  metrostotales  \\\n",
       "0         8.0           2.0      1.0    2.0             80.0           80.0   \n",
       "2         5.0           2.0      1.0    1.0             75.0           90.0   \n",
       "4         5.0           3.0      2.0    2.0            127.0          127.0   \n",
       "5        18.0           3.0      3.0    3.0            174.0          306.0   \n",
       "7        16.0           3.0      1.0    2.0             90.0          110.0   \n",
       "\n",
       "       idzona        lat        lng  gimnasio         ...          sur_oeste  \\\n",
       "0     23533.0  19.359628 -98.826768         0         ...                  0   \n",
       "2     23650.0  19.359628 -98.826768         0         ...                  0   \n",
       "4  50003995.0  19.359628 -98.826768         0         ...                  0   \n",
       "5   2423512.0  19.359628 -98.826768         0         ...                  0   \n",
       "7     24125.0  19.359628 -98.826768         0         ...                  0   \n",
       "\n",
       "   Guadalajara  Laguna  Monterrey  No_Esta  Puebla_Texaca  Queretaro  Toluca  \\\n",
       "0            0       0          0        0              0          0       0   \n",
       "2            0       0          0        0              0          0       0   \n",
       "4            0       0          0        0              0          0       0   \n",
       "5            0       0          0        0              0          0       0   \n",
       "7            0       0          0        0              0          0       0   \n",
       "\n",
       "   Valle  metrosdescubiertos  \n",
       "0      1                 0.0  \n",
       "2      1                15.0  \n",
       "4      1                 0.0  \n",
       "5      1               132.0  \n",
       "7      1                20.0  \n",
       "\n",
       "[5 rows x 222 columns]"
      ]
     },
     "execution_count": 226,
     "metadata": {},
     "output_type": "execute_result"
    }
   ],
   "source": [
    "datos=train.drop(columns={'precio','Garage','Hospedaje'})\n",
    "precio=train['precio']\n",
    "datos.head()"
   ]
  },
  {
   "cell_type": "code",
   "execution_count": 227,
   "metadata": {},
   "outputs": [],
   "source": [
    "#Preparo el set de Test para ser utilizado por los algoritmos\n",
    "test_final=pd.read_csv('test.csv')\n",
    "IDS=test_final[['id']].copy()\n",
    "test_final['Fecha']=pd.to_datetime(test_final['fecha'])\n",
    "test_final.drop(columns={'fecha'},inplace=True)\n",
    "test_final['Anio']=test_final['Fecha'].dt.year\n",
    "test_final['Mes']=test_final['Fecha'].dt.month\n",
    "test_final['Dia']=test_final['Fecha'].dt.day\n",
    "test_final['Esta_Capital']=test_final['ciudad'].apply(EstaEnCapital)"
   ]
  },
  {
   "cell_type": "code",
   "execution_count": 228,
   "metadata": {},
   "outputs": [],
   "source": [
    "test_final=pd.merge(test_final,zonas_df,on='provincia',how='left')"
   ]
  },
  {
   "cell_type": "code",
   "execution_count": 229,
   "metadata": {},
   "outputs": [],
   "source": [
    "#Relleno los NaNs\n",
    "test_final[['antiguedad']] = test_final[['antiguedad']].fillna(value=mean_antiguedad)\n",
    "test_final[['habitaciones']] = test_final[['habitaciones']].fillna(value=mean_habitaciones)\n",
    "test_final[['garages']] = test_final[['garages']].fillna(value=mean_garages)\n",
    "test_final[['banos']] = test_final[['banos']].fillna(value=mean_banos)\n",
    "test_final[['metroscubiertos']] = test_final[['metroscubiertos']].fillna(value=mean_metroscubiertos)\n",
    "test_final[['metrostotales']] = test_final[['metrostotales']].fillna(value=mean_metrostotales)\n",
    "test_final[['idzona']] = test_final[['idzona']].fillna(value=mean_idzona)\n",
    "test_final[['provincia']]=test_final[['provincia']].fillna('')"
   ]
  },
  {
   "cell_type": "code",
   "execution_count": 230,
   "metadata": {},
   "outputs": [],
   "source": [
    "test_final['Esta_condominio']=test_final.titulo.str.contains('condominio')\n",
    "test_final['Esta_loma']=test_final.titulo.str.contains('loma|lomas')\n",
    "test_final['Esta_bosque']=test_final.titulo.str.contains('bosque')\n",
    "test_final['Esta_country']=test_final.titulo.str.contains('country')\n",
    "test_final['Esta_lago']=test_final.titulo.str.contains('lago')\n",
    "test_final['Esta_residencial']=test_final.titulo.str.contains('residencial')\n",
    "test_final['Esta_penthouse']=test_final.titulo.str.contains('pent house')\n",
    "test_final['Esta_panoramica']=test_final.titulo.str.contains('panorámica|panoramica')\n",
    "test_final['Esta_mirador']=test_final.titulo.str.contains('mirador')\n",
    "test_final['Esta_privado']=test_final.titulo.str.contains('privado|privada')\n",
    "test_final['Esta_vigilancia']=test_final.titulo.str.contains('vigilancia')\n",
    "test_final['Esta_fraccionamiento']=test_final.titulo.str.contains('fraccionamiento')\n",
    "test_final['Esta_refugio']=test_final.titulo.str.contains('refugio')\n",
    "test_final['Esta_bancario']=test_final.titulo.str.contains('bancario')\n",
    "test_final['Esta_habitarse']=test_final.titulo.str.contains('habitarse')"
   ]
  },
  {
   "cell_type": "code",
   "execution_count": 231,
   "metadata": {},
   "outputs": [],
   "source": [
    "test_final[['Esta_condominio']]=test_final[['Esta_condominio']].fillna(value=0)\n",
    "test_final[['Esta_loma']]=test_final[['Esta_loma']].fillna(value=0)\n",
    "test_final[['Esta_bosque']]=test_final[['Esta_bosque']].fillna(value=0)\n",
    "test_final[['Esta_country']]=test_final[['Esta_country']].fillna(value=0)\n",
    "test_final[['Esta_lago']]=test_final[['Esta_lago']].fillna(value=0)\n",
    "test_final[['Esta_residencial']]=test_final[['Esta_residencial']].fillna(value=0)\n",
    "test_final[['Esta_penthouse']]=test_final[['Esta_penthouse']].fillna(value=0)\n",
    "test_final[['Esta_panoramica']]=test_final[['Esta_panoramica']].fillna(value=0)\n",
    "test_final[['Esta_mirador']]=test_final[['Esta_mirador']].fillna(value=0)\n",
    "test_final[['Esta_privado']]=test_final[['Esta_privado']].fillna(value=0)\n",
    "test_final[['Esta_vigilancia']]=test_final[['Esta_vigilancia']].fillna(value=0)\n",
    "test_final[['Esta_fraccionamiento']]=test_final[['Esta_fraccionamiento']].fillna(value=0)\n",
    "test_final[['Esta_refugio']]=test_final[['Esta_refugio']].fillna(value=0)\n",
    "test_final[['Esta_bancario']]=test_final[['Esta_bancario']].fillna(value=0)\n",
    "test_final[['Esta_habitarse']]=test_final[['Esta_habitarse']].fillna(value=0)"
   ]
  },
  {
   "cell_type": "code",
   "execution_count": 232,
   "metadata": {},
   "outputs": [],
   "source": [
    "test_final['Esta_condominio'] = test_final['Esta_condominio'].astype(int)\n",
    "test_final['Esta_loma'] = test_final['Esta_loma'].astype(int)\n",
    "test_final['Esta_bosque'] = test_final['Esta_bosque'].astype(int)\n",
    "test_final['Esta_country'] = test_final['Esta_country'].astype(int)\n",
    "test_final['Esta_lago'] = test_final['Esta_lago'].astype(int)\n",
    "test_final['Esta_residencial'] = test_final['Esta_residencial'].astype(int)\n",
    "test_final['Esta_penthouse'] = test_final['Esta_penthouse'].astype(int)\n",
    "test_final['Esta_panoramica'] = test_final['Esta_panoramica'].astype(int)\n",
    "test_final['Esta_mirador'] = test_final['Esta_mirador'].astype(int)\n",
    "test_final['Esta_privado'] = test_final['Esta_privado'].astype(int)\n",
    "test_final['Esta_vigilancia'] = test_final['Esta_vigilancia'].astype(int)\n",
    "test_final['Esta_fraccionamiento'] = test_final['Esta_fraccionamiento'].astype(int)\n",
    "test_final['Esta_refugio'] = test_final['Esta_refugio'].astype(int)\n",
    "test_final['Esta_bancario'] = test_final['Esta_bancario'].astype(int)\n",
    "test_final['Esta_habitarse'] = test_final['Esta_habitarse'].astype(int)"
   ]
  },
  {
   "cell_type": "code",
   "execution_count": 233,
   "metadata": {},
   "outputs": [],
   "source": [
    "test_final['Comoda']=test_final.descripcion.str.contains('comoda|Comoda')\n",
    "test_final['Excelente']=test_final.descripcion.str.contains('excelente|Excelente|Excelentes|excelentes')\n",
    "test_final['Mejor']=test_final.descripcion.str.contains('mejor|Mejor')\n",
    "test_final['Bonito']=test_final.descripcion.str.contains('Bonito|bonito')\n",
    "test_final['Esta_Calle_descripcion']=test_final.descripcion.str.contains('calle|Calle')\n",
    "test_final['Privada']=test_final.descripcion.str.contains('Privada|privada|Privado|privado')\n",
    "test_final['Residencial']=test_final.descripcion.str.contains('Residencial|residencial')\n",
    "test_final['Condiciones']=test_final.descripcion.str.contains('Condiciones|condiciones')\n",
    "test_final['Ubicacion']=test_final.descripcion.str.contains('ubicacion|Ubicacion')\n",
    "test_final['Esta_Avenida']=test_final.direccion.str.contains('AV|av|Av|Avenida|avenida|AVE|ave|Ave')\n",
    "test_final['Esta_Calle_direccion']=test_final.direccion.str.contains('calle|Calle')"
   ]
  },
  {
   "cell_type": "code",
   "execution_count": 234,
   "metadata": {},
   "outputs": [],
   "source": [
    "test_final[['Comoda']]=test_final[['Comoda']].fillna(value=0)\n",
    "test_final[['Excelente']]=test_final[['Excelente']].fillna(value=0)\n",
    "test_final[['Mejor']]=test_final[['Mejor']].fillna(value=0)\n",
    "test_final[['Bonito']]=test_final[['Bonito']].fillna(value=0)\n",
    "test_final[['Esta_Calle_descripcion']]=test_final[['Esta_Calle_descripcion']].fillna(value=0)\n",
    "test_final[['Privada']]=test_final[['Privada']].fillna(value=0)\n",
    "test_final[['Residencial']]=test_final[['Residencial']].fillna(value=0)\n",
    "test_final[['Condiciones']]=test_final[['Condiciones']].fillna(value=0)\n",
    "test_final[['Ubicacion']]=test_final[['Ubicacion']].fillna(value=0)\n",
    "test_final[['Esta_Avenida']]=test_final[['Esta_Avenida']].fillna(value=0)\n",
    "test_final[['Esta_Calle_direccion']]=test_final[['Esta_Calle_direccion']].fillna(value=0)"
   ]
  },
  {
   "cell_type": "code",
   "execution_count": 235,
   "metadata": {},
   "outputs": [],
   "source": [
    "test_final['Comoda'] = test_final['Comoda'].astype(int)\n",
    "test_final['Excelente'] = test_final['Excelente'].astype(int)\n",
    "test_final['Mejor'] = test_final['Mejor'].astype(int)\n",
    "test_final['Bonito'] = test_final['Bonito'].astype(int)\n",
    "test_final['Esta_Calle_descripcion'] = test_final['Esta_Calle_descripcion'].astype(int)\n",
    "test_final['Privada'] = test_final['Privada'].astype(int)\n",
    "test_final['Residencial'] = test_final['Residencial'].astype(int)\n",
    "test_final['Condiciones'] = test_final['Condiciones'].astype(int)\n",
    "test_final['Ubicacion'] = test_final['Ubicacion'].astype(int)\n",
    "test_final['Esta_Avenida'] = test_final['Esta_Avenida'].astype(int)\n",
    "test_final['Esta_Calle_direccion'] = test_final['Esta_Calle_direccion'].astype(int)"
   ]
  },
  {
   "cell_type": "code",
   "execution_count": 236,
   "metadata": {},
   "outputs": [],
   "source": [
    "for ciudad in top_ciudades_cantidad:\n",
    "    one_hot = pd.get_dummies(test_final['ciudad']==ciudad)\n",
    "    if(len(one_hot.columns)==1):\n",
    "        one_hot[True]=0\n",
    "    one_hot.drop(columns={False},inplace=True)\n",
    "    one_hot.rename(columns={True:ciudad},inplace=True)\n",
    "    test_final = pd.concat([test_final, one_hot], axis=1)"
   ]
  },
  {
   "cell_type": "code",
   "execution_count": 237,
   "metadata": {},
   "outputs": [],
   "source": [
    "#Aplicamos las funciones en cuestión\n",
    "test_final['Estacion']=test_final.apply(lambda x: fechaEstacion(x['Mes'],x['Dia']),axis=1)\n",
    "test_final['Esta_Zona_Turistica']=test_final.apply(lambda x: EstaEnZonaTuristica(x['ciudad'],x['provincia']),axis=1)\n",
    "test_final['Zona_Metropolitana']=test_final.apply(lambda x: EnQueZonaMetropolitanaEsta(x['ciudad'],x['provincia']),axis=1)\n",
    "test_final['Corona_Regional']=test_final['provincia'].apply(EstaCoronaRegional)\n",
    "test_final['Esta_Provincia_Cara']=test_final['provincia'].apply(EstaProvinciaCara)\n",
    "test_final['Esta_Ciudad_Cara']=test_final['ciudad'].apply(EstaCiudadCara)"
   ]
  },
  {
   "cell_type": "code",
   "execution_count": 238,
   "metadata": {},
   "outputs": [],
   "source": [
    "test_final['lat']=test_final['provincia'].apply(CambiarLatitud)\n",
    "test_final['lng']=test_final['provincia'].apply(CambiarLongitud)"
   ]
  },
  {
   "cell_type": "code",
   "execution_count": 239,
   "metadata": {},
   "outputs": [],
   "source": [
    "test_final = oneHotEncoding(test_final,'provincia')\n",
    "test_final = oneHotEncoding(test_final,'tipodepropiedad')\n",
    "test_final = oneHotEncoding(test_final,'Estacion')\n",
    "test_final = oneHotEncoding(test_final,'Zona')\n",
    "test_final = oneHotEncoding(test_final,'Zona_Metropolitana')"
   ]
  },
  {
   "cell_type": "code",
   "execution_count": 240,
   "metadata": {},
   "outputs": [
    {
     "data": {
      "text/html": [
       "<div>\n",
       "<style scoped>\n",
       "    .dataframe tbody tr th:only-of-type {\n",
       "        vertical-align: middle;\n",
       "    }\n",
       "\n",
       "    .dataframe tbody tr th {\n",
       "        vertical-align: top;\n",
       "    }\n",
       "\n",
       "    .dataframe thead th {\n",
       "        text-align: right;\n",
       "    }\n",
       "</style>\n",
       "<table border=\"1\" class=\"dataframe\">\n",
       "  <thead>\n",
       "    <tr style=\"text-align: right;\">\n",
       "      <th></th>\n",
       "      <th>antiguedad</th>\n",
       "      <th>habitaciones</th>\n",
       "      <th>garages</th>\n",
       "      <th>banos</th>\n",
       "      <th>metroscubiertos</th>\n",
       "      <th>metrostotales</th>\n",
       "      <th>idzona</th>\n",
       "      <th>lat</th>\n",
       "      <th>lng</th>\n",
       "      <th>gimnasio</th>\n",
       "      <th>...</th>\n",
       "      <th>sur_oeste</th>\n",
       "      <th>Guadalajara</th>\n",
       "      <th>Laguna</th>\n",
       "      <th>Monterrey</th>\n",
       "      <th>No_Esta</th>\n",
       "      <th>Puebla_Texaca</th>\n",
       "      <th>Queretaro</th>\n",
       "      <th>Toluca</th>\n",
       "      <th>Valle</th>\n",
       "      <th>metrosdescubiertos</th>\n",
       "    </tr>\n",
       "  </thead>\n",
       "  <tbody>\n",
       "    <tr>\n",
       "      <th>0</th>\n",
       "      <td>29.0</td>\n",
       "      <td>3.0</td>\n",
       "      <td>2.0</td>\n",
       "      <td>4.0</td>\n",
       "      <td>300.0</td>\n",
       "      <td>177.0</td>\n",
       "      <td>2423512.0</td>\n",
       "      <td>19.359628</td>\n",
       "      <td>-98.826768</td>\n",
       "      <td>0.0</td>\n",
       "      <td>...</td>\n",
       "      <td>0</td>\n",
       "      <td>0</td>\n",
       "      <td>0</td>\n",
       "      <td>0</td>\n",
       "      <td>0</td>\n",
       "      <td>0</td>\n",
       "      <td>0</td>\n",
       "      <td>0</td>\n",
       "      <td>1</td>\n",
       "      <td>-123.0</td>\n",
       "    </tr>\n",
       "    <tr>\n",
       "      <th>1</th>\n",
       "      <td>8.0</td>\n",
       "      <td>1.0</td>\n",
       "      <td>1.0</td>\n",
       "      <td>1.0</td>\n",
       "      <td>67.0</td>\n",
       "      <td>67.0</td>\n",
       "      <td>113851.0</td>\n",
       "      <td>20.857962</td>\n",
       "      <td>-88.811045</td>\n",
       "      <td>0.0</td>\n",
       "      <td>...</td>\n",
       "      <td>0</td>\n",
       "      <td>0</td>\n",
       "      <td>0</td>\n",
       "      <td>0</td>\n",
       "      <td>1</td>\n",
       "      <td>0</td>\n",
       "      <td>0</td>\n",
       "      <td>0</td>\n",
       "      <td>0</td>\n",
       "      <td>0.0</td>\n",
       "    </tr>\n",
       "    <tr>\n",
       "      <th>2</th>\n",
       "      <td>0.0</td>\n",
       "      <td>2.0</td>\n",
       "      <td>1.0</td>\n",
       "      <td>2.0</td>\n",
       "      <td>87.0</td>\n",
       "      <td>100.0</td>\n",
       "      <td>23620.0</td>\n",
       "      <td>19.359628</td>\n",
       "      <td>-98.826768</td>\n",
       "      <td>0.0</td>\n",
       "      <td>...</td>\n",
       "      <td>0</td>\n",
       "      <td>0</td>\n",
       "      <td>0</td>\n",
       "      <td>0</td>\n",
       "      <td>0</td>\n",
       "      <td>0</td>\n",
       "      <td>0</td>\n",
       "      <td>0</td>\n",
       "      <td>1</td>\n",
       "      <td>13.0</td>\n",
       "    </tr>\n",
       "    <tr>\n",
       "      <th>3</th>\n",
       "      <td>2.0</td>\n",
       "      <td>2.0</td>\n",
       "      <td>2.0</td>\n",
       "      <td>2.0</td>\n",
       "      <td>86.0</td>\n",
       "      <td>86.0</td>\n",
       "      <td>129347.0</td>\n",
       "      <td>16.642686</td>\n",
       "      <td>-98.223929</td>\n",
       "      <td>0.0</td>\n",
       "      <td>...</td>\n",
       "      <td>1</td>\n",
       "      <td>0</td>\n",
       "      <td>0</td>\n",
       "      <td>0</td>\n",
       "      <td>1</td>\n",
       "      <td>0</td>\n",
       "      <td>0</td>\n",
       "      <td>0</td>\n",
       "      <td>0</td>\n",
       "      <td>0.0</td>\n",
       "    </tr>\n",
       "    <tr>\n",
       "      <th>4</th>\n",
       "      <td>10.0</td>\n",
       "      <td>2.0</td>\n",
       "      <td>1.0</td>\n",
       "      <td>1.0</td>\n",
       "      <td>80.0</td>\n",
       "      <td>76.0</td>\n",
       "      <td>57125.0</td>\n",
       "      <td>19.455335</td>\n",
       "      <td>-98.732556</td>\n",
       "      <td>0.0</td>\n",
       "      <td>...</td>\n",
       "      <td>0</td>\n",
       "      <td>0</td>\n",
       "      <td>0</td>\n",
       "      <td>0</td>\n",
       "      <td>0</td>\n",
       "      <td>0</td>\n",
       "      <td>0</td>\n",
       "      <td>0</td>\n",
       "      <td>1</td>\n",
       "      <td>-4.0</td>\n",
       "    </tr>\n",
       "  </tbody>\n",
       "</table>\n",
       "<p>5 rows × 222 columns</p>\n",
       "</div>"
      ],
      "text/plain": [
       "   antiguedad  habitaciones  garages  banos  metroscubiertos  metrostotales  \\\n",
       "0        29.0           3.0      2.0    4.0            300.0          177.0   \n",
       "1         8.0           1.0      1.0    1.0             67.0           67.0   \n",
       "2         0.0           2.0      1.0    2.0             87.0          100.0   \n",
       "3         2.0           2.0      2.0    2.0             86.0           86.0   \n",
       "4        10.0           2.0      1.0    1.0             80.0           76.0   \n",
       "\n",
       "      idzona        lat        lng  gimnasio         ...          sur_oeste  \\\n",
       "0  2423512.0  19.359628 -98.826768       0.0         ...                  0   \n",
       "1   113851.0  20.857962 -88.811045       0.0         ...                  0   \n",
       "2    23620.0  19.359628 -98.826768       0.0         ...                  0   \n",
       "3   129347.0  16.642686 -98.223929       0.0         ...                  1   \n",
       "4    57125.0  19.455335 -98.732556       0.0         ...                  0   \n",
       "\n",
       "   Guadalajara  Laguna  Monterrey  No_Esta  Puebla_Texaca  Queretaro  Toluca  \\\n",
       "0            0       0          0        0              0          0       0   \n",
       "1            0       0          0        1              0          0       0   \n",
       "2            0       0          0        0              0          0       0   \n",
       "3            0       0          0        1              0          0       0   \n",
       "4            0       0          0        0              0          0       0   \n",
       "\n",
       "   Valle  metrosdescubiertos  \n",
       "0      1              -123.0  \n",
       "1      0                 0.0  \n",
       "2      1                13.0  \n",
       "3      0                 0.0  \n",
       "4      1                -4.0  \n",
       "\n",
       "[5 rows x 222 columns]"
      ]
     },
     "execution_count": 240,
     "metadata": {},
     "output_type": "execute_result"
    }
   ],
   "source": [
    "test_final.drop(columns={'id','Dia','titulo','ciudad','descripcion','direccion','Fecha',''},inplace=True)\n",
    "test_final['metrosdescubiertos']=test_final['metrostotales']-test_final['metroscubiertos']\n",
    "test_final.head()"
   ]
  },
  {
   "cell_type": "code",
   "execution_count": 241,
   "metadata": {},
   "outputs": [],
   "source": [
    "#Separamos el set de entrenamiento en set de entrenamiento y de validacion\n",
    "test_size = 0.33\n",
    "random_state = 0\n",
    "datos_train , datos_test, precio_train, precio_test = train_test_split(datos,precio,test_size = test_size,random_state = random_state)"
   ]
  },
  {
   "cell_type": "markdown",
   "metadata": {},
   "source": [
    "### 2.1) Árboles de Decisión"
   ]
  },
  {
   "cell_type": "code",
   "execution_count": 242,
   "metadata": {},
   "outputs": [],
   "source": [
    "tree = DecisionTreeRegressor(criterion='mse',random_state=1)"
   ]
  },
  {
   "cell_type": "code",
   "execution_count": 243,
   "metadata": {},
   "outputs": [
    {
     "data": {
      "text/plain": [
       "DecisionTreeRegressor(criterion='mse', max_depth=None, max_features=None,\n",
       "           max_leaf_nodes=None, min_impurity_decrease=0.0,\n",
       "           min_impurity_split=None, min_samples_leaf=1,\n",
       "           min_samples_split=2, min_weight_fraction_leaf=0.0,\n",
       "           presort=False, random_state=1, splitter='best')"
      ]
     },
     "execution_count": 243,
     "metadata": {},
     "output_type": "execute_result"
    }
   ],
   "source": [
    "tree.fit(datos_train,precio_train)"
   ]
  },
  {
   "cell_type": "code",
   "execution_count": 244,
   "metadata": {},
   "outputs": [
    {
     "name": "stdout",
     "output_type": "stream",
     "text": [
      "Mean Absolute Error:  726305.7651098871\n"
     ]
    }
   ],
   "source": [
    "prediccion_tree_validacion=tree.predict(datos_test)\n",
    "\n",
    "print('Mean Absolute Error: ',mean_absolute_error(precio_test,prediccion_tree_validacion))"
   ]
  },
  {
   "cell_type": "code",
   "execution_count": 245,
   "metadata": {},
   "outputs": [
    {
     "data": {
      "text/html": [
       "<div>\n",
       "<style scoped>\n",
       "    .dataframe tbody tr th:only-of-type {\n",
       "        vertical-align: middle;\n",
       "    }\n",
       "\n",
       "    .dataframe tbody tr th {\n",
       "        vertical-align: top;\n",
       "    }\n",
       "\n",
       "    .dataframe thead th {\n",
       "        text-align: right;\n",
       "    }\n",
       "</style>\n",
       "<table border=\"1\" class=\"dataframe\">\n",
       "  <thead>\n",
       "    <tr style=\"text-align: right;\">\n",
       "      <th></th>\n",
       "      <th>target</th>\n",
       "    </tr>\n",
       "    <tr>\n",
       "      <th>id</th>\n",
       "      <th></th>\n",
       "    </tr>\n",
       "  </thead>\n",
       "  <tbody>\n",
       "    <tr>\n",
       "      <th>4941</th>\n",
       "      <td>1550000.0</td>\n",
       "    </tr>\n",
       "    <tr>\n",
       "      <th>51775</th>\n",
       "      <td>1400000.0</td>\n",
       "    </tr>\n",
       "    <tr>\n",
       "      <th>115253</th>\n",
       "      <td>1705000.0</td>\n",
       "    </tr>\n",
       "    <tr>\n",
       "      <th>299321</th>\n",
       "      <td>950000.0</td>\n",
       "    </tr>\n",
       "    <tr>\n",
       "      <th>173570</th>\n",
       "      <td>820000.0</td>\n",
       "    </tr>\n",
       "  </tbody>\n",
       "</table>\n",
       "</div>"
      ],
      "text/plain": [
       "           target\n",
       "id               \n",
       "4941    1550000.0\n",
       "51775   1400000.0\n",
       "115253  1705000.0\n",
       "299321   950000.0\n",
       "173570   820000.0"
      ]
     },
     "execution_count": 245,
     "metadata": {},
     "output_type": "execute_result"
    }
   ],
   "source": [
    "prediccion_final=tree.predict(test_final)\n",
    "entregable_tree=IDS[['id']].copy()\n",
    "entregable_tree['target']=prediccion_final\n",
    "entregable_tree.set_index('id',inplace=True)\n",
    "entregable_tree.head()"
   ]
  },
  {
   "cell_type": "code",
   "execution_count": 41,
   "metadata": {},
   "outputs": [],
   "source": [
    "entregable_tree.to_csv('ADD_12.csv')"
   ]
  },
  {
   "cell_type": "markdown",
   "metadata": {},
   "source": [
    "### 2.2) KNN"
   ]
  },
  {
   "cell_type": "code",
   "execution_count": 246,
   "metadata": {},
   "outputs": [
    {
     "name": "stdout",
     "output_type": "stream",
     "text": [
      "K= 1 - Mean Absolute Error:  761320.2667002667\n",
      "K= 2 - Mean Absolute Error:  719508.1346836347\n",
      "K= 3 - Mean Absolute Error:  709450.2185542185\n",
      "K= 4 - Mean Absolute Error:  703628.5729068229\n",
      "K= 5 - Mean Absolute Error:  702844.4145026144\n",
      "K= 6 - Mean Absolute Error:  701807.3806918806\n",
      "K= 7 - Mean Absolute Error:  700791.9783369784\n",
      "K= 8 - Mean Absolute Error:  702843.6163532414\n",
      "K= 9 - Mean Absolute Error:  704203.4664174664\n",
      "K= 10 - Mean Absolute Error:  705820.4841680842\n",
      "K= 11 - Mean Absolute Error:  707588.7698569517\n",
      "K= 12 - Mean Absolute Error:  709959.3672728672\n",
      "K= 13 - Mean Absolute Error:  712108.1108461879\n",
      "K= 14 - Mean Absolute Error:  714066.7192417192\n",
      "K= 15 - Mean Absolute Error:  715565.6825916826\n",
      "K= 16 - Mean Absolute Error:  716468.5132654507\n",
      "K= 17 - Mean Absolute Error:  717934.2737513325\n",
      "K= 18 - Mean Absolute Error:  719409.9217247551\n",
      "K= 19 - Mean Absolute Error:  720758.1364448733\n",
      "K= 20 - Mean Absolute Error:  723224.4029872529\n",
      "K= 21 - Mean Absolute Error:  724738.172881173\n",
      "K= 22 - Mean Absolute Error:  726092.9770803862\n",
      "K= 23 - Mean Absolute Error:  726723.2713166191\n",
      "K= 24 - Mean Absolute Error:  728071.2913359164\n",
      "K= 25 - Mean Absolute Error:  729259.2288397488\n",
      "K= 26 - Mean Absolute Error:  730825.4161622624\n",
      "K= 27 - Mean Absolute Error:  732518.3032963033\n",
      "K= 28 - Mean Absolute Error:  733660.4186586688\n",
      "K= 29 - Mean Absolute Error:  734913.3163015922\n"
     ]
    }
   ],
   "source": [
    "#Busco el valor de K que nos de el menor error\n",
    "rango_k = range(1, 30)\n",
    "metricas=[]\n",
    "\n",
    "for k in rango_k:\n",
    "    knn = KNeighborsRegressor(n_neighbors=k,algorithm='kd_tree',metric='manhattan')\n",
    "    knn.fit(datos_train,precio_train)\n",
    "    prediccion_knn_validacion=knn.predict(datos_test)\n",
    "    error=mean_absolute_error(precio_test,prediccion_knn_validacion)\n",
    "    print('K=',k,'- Mean Absolute Error: ',error)\n",
    "    metricas.append(error)"
   ]
  },
  {
   "cell_type": "code",
   "execution_count": 247,
   "metadata": {
    "scrolled": false
   },
   "outputs": [
    {
     "data": {
      "text/plain": [
       "Text(0,0.5,'Error')"
      ]
     },
     "execution_count": 247,
     "metadata": {},
     "output_type": "execute_result"
    },
    {
     "data": {
      "image/png": "[encoded data removed]",
      "text/plain": [
       "<matplotlib.figure.Figure at 0x1c7fd9f8160>"
      ]
     },
     "metadata": {},
     "output_type": "display_data"
    }
   ],
   "source": [
    "#Ploteamos para ver una mejor representacion\n",
    "plt.subplots(figsize=(10,10))\n",
    "plt.plot(rango_k,metricas)\n",
    "plt.title(\"Error en Relación al Valor de K\",fontsize=20)\n",
    "plt.xlabel(\"K\",fontsize=15)\n",
    "plt.ylabel(\"Error\",fontsize=15)"
   ]
  },
  {
   "cell_type": "code",
   "execution_count": 248,
   "metadata": {},
   "outputs": [],
   "source": [
    "knn = KNeighborsRegressor(n_neighbors=7,algorithm='kd_tree',metric='manhattan')"
   ]
  },
  {
   "cell_type": "code",
   "execution_count": 249,
   "metadata": {},
   "outputs": [
    {
     "data": {
      "text/plain": [
       "KNeighborsRegressor(algorithm='kd_tree', leaf_size=30, metric='manhattan',\n",
       "          metric_params=None, n_jobs=1, n_neighbors=7, p=2,\n",
       "          weights='uniform')"
      ]
     },
     "execution_count": 249,
     "metadata": {},
     "output_type": "execute_result"
    }
   ],
   "source": [
    "knn.fit(datos_train,precio_train)"
   ]
  },
  {
   "cell_type": "code",
   "execution_count": 250,
   "metadata": {},
   "outputs": [],
   "source": [
    "prediccion_knn=knn.predict(test_final)"
   ]
  },
  {
   "cell_type": "code",
   "execution_count": 251,
   "metadata": {},
   "outputs": [
    {
     "data": {
      "text/html": [
       "<div>\n",
       "<style scoped>\n",
       "    .dataframe tbody tr th:only-of-type {\n",
       "        vertical-align: middle;\n",
       "    }\n",
       "\n",
       "    .dataframe tbody tr th {\n",
       "        vertical-align: top;\n",
       "    }\n",
       "\n",
       "    .dataframe thead th {\n",
       "        text-align: right;\n",
       "    }\n",
       "</style>\n",
       "<table border=\"1\" class=\"dataframe\">\n",
       "  <thead>\n",
       "    <tr style=\"text-align: right;\">\n",
       "      <th></th>\n",
       "      <th>target</th>\n",
       "    </tr>\n",
       "    <tr>\n",
       "      <th>id</th>\n",
       "      <th></th>\n",
       "    </tr>\n",
       "  </thead>\n",
       "  <tbody>\n",
       "    <tr>\n",
       "      <th>4941</th>\n",
       "      <td>4735714.0</td>\n",
       "    </tr>\n",
       "    <tr>\n",
       "      <th>51775</th>\n",
       "      <td>1197857.0</td>\n",
       "    </tr>\n",
       "    <tr>\n",
       "      <th>115253</th>\n",
       "      <td>2297439.0</td>\n",
       "    </tr>\n",
       "    <tr>\n",
       "      <th>299321</th>\n",
       "      <td>1490714.0</td>\n",
       "    </tr>\n",
       "    <tr>\n",
       "      <th>173570</th>\n",
       "      <td>612714.0</td>\n",
       "    </tr>\n",
       "  </tbody>\n",
       "</table>\n",
       "</div>"
      ],
      "text/plain": [
       "           target\n",
       "id               \n",
       "4941    4735714.0\n",
       "51775   1197857.0\n",
       "115253  2297439.0\n",
       "299321  1490714.0\n",
       "173570   612714.0"
      ]
     },
     "execution_count": 251,
     "metadata": {},
     "output_type": "execute_result"
    }
   ],
   "source": [
    "entregable_knn=IDS[['id']].copy()\n",
    "entregable_knn['target']=prediccion_knn\n",
    "entregable_knn.set_index('id',inplace=True)\n",
    "entregable_knn['target']=entregable_knn['target'].round()\n",
    "entregable_knn.head()"
   ]
  },
  {
   "cell_type": "code",
   "execution_count": 252,
   "metadata": {},
   "outputs": [],
   "source": [
    "entregable_knn.to_csv('KNN_13.csv')"
   ]
  },
  {
   "cell_type": "markdown",
   "metadata": {},
   "source": [
    "### 2.3) Ada Boosting"
   ]
  },
  {
   "cell_type": "code",
   "execution_count": 253,
   "metadata": {},
   "outputs": [],
   "source": [
    "ada = AdaBoostRegressor()"
   ]
  },
  {
   "cell_type": "code",
   "execution_count": 254,
   "metadata": {},
   "outputs": [
    {
     "data": {
      "text/plain": [
       "AdaBoostRegressor(base_estimator=None, learning_rate=1.0, loss='linear',\n",
       "         n_estimators=50, random_state=None)"
      ]
     },
     "execution_count": 254,
     "metadata": {},
     "output_type": "execute_result"
    }
   ],
   "source": [
    "ada.fit(datos_train,precio_train)"
   ]
  },
  {
   "cell_type": "code",
   "execution_count": 255,
   "metadata": {},
   "outputs": [
    {
     "name": "stdout",
     "output_type": "stream",
     "text": [
      "Mean Absolute Error:  2188444.677918076\n"
     ]
    }
   ],
   "source": [
    "prediccion_ada_validacion=ada.predict(datos_test)\n",
    "\n",
    "print('Mean Absolute Error: ',mean_absolute_error(precio_test,prediccion_ada_validacion))"
   ]
  },
  {
   "cell_type": "code",
   "execution_count": 256,
   "metadata": {},
   "outputs": [],
   "source": [
    "prediccion_ada=ada.predict(test_final)"
   ]
  },
  {
   "cell_type": "code",
   "execution_count": 257,
   "metadata": {},
   "outputs": [
    {
     "data": {
      "text/html": [
       "<div>\n",
       "<style scoped>\n",
       "    .dataframe tbody tr th:only-of-type {\n",
       "        vertical-align: middle;\n",
       "    }\n",
       "\n",
       "    .dataframe tbody tr th {\n",
       "        vertical-align: top;\n",
       "    }\n",
       "\n",
       "    .dataframe thead th {\n",
       "        text-align: right;\n",
       "    }\n",
       "</style>\n",
       "<table border=\"1\" class=\"dataframe\">\n",
       "  <thead>\n",
       "    <tr style=\"text-align: right;\">\n",
       "      <th></th>\n",
       "      <th>target</th>\n",
       "    </tr>\n",
       "    <tr>\n",
       "      <th>id</th>\n",
       "      <th></th>\n",
       "    </tr>\n",
       "  </thead>\n",
       "  <tbody>\n",
       "    <tr>\n",
       "      <th>4941</th>\n",
       "      <td>6235879.0</td>\n",
       "    </tr>\n",
       "    <tr>\n",
       "      <th>51775</th>\n",
       "      <td>2323319.0</td>\n",
       "    </tr>\n",
       "    <tr>\n",
       "      <th>115253</th>\n",
       "      <td>3425987.0</td>\n",
       "    </tr>\n",
       "    <tr>\n",
       "      <th>299321</th>\n",
       "      <td>3425987.0</td>\n",
       "    </tr>\n",
       "    <tr>\n",
       "      <th>173570</th>\n",
       "      <td>2323319.0</td>\n",
       "    </tr>\n",
       "  </tbody>\n",
       "</table>\n",
       "</div>"
      ],
      "text/plain": [
       "           target\n",
       "id               \n",
       "4941    6235879.0\n",
       "51775   2323319.0\n",
       "115253  3425987.0\n",
       "299321  3425987.0\n",
       "173570  2323319.0"
      ]
     },
     "execution_count": 257,
     "metadata": {},
     "output_type": "execute_result"
    }
   ],
   "source": [
    "entregable_ada=IDS[['id']].copy()\n",
    "entregable_ada['target']=prediccion_ada\n",
    "entregable_ada.set_index('id',inplace=True)\n",
    "entregable_ada['target']=entregable_ada['target'].round()\n",
    "entregable_ada.head()"
   ]
  },
  {
   "cell_type": "code",
   "execution_count": 205,
   "metadata": {},
   "outputs": [],
   "source": [
    "entregable_ada.to_csv('ADA_02.csv')"
   ]
  },
  {
   "cell_type": "markdown",
   "metadata": {},
   "source": [
    "### 2.4) Ridge"
   ]
  },
  {
   "cell_type": "code",
   "execution_count": 258,
   "metadata": {},
   "outputs": [],
   "source": [
    "ridge = Ridge()"
   ]
  },
  {
   "cell_type": "code",
   "execution_count": 259,
   "metadata": {},
   "outputs": [
    {
     "name": "stderr",
     "output_type": "stream",
     "text": [
      "C:\\ProgramData\\Anaconda3\\lib\\site-packages\\scipy\\linalg\\basic.py:40: RuntimeWarning: scipy.linalg.solve\n",
      "Ill-conditioned matrix detected. Result is not guaranteed to be accurate.\n",
      "Reciprocal condition number/precision: 3.31562683093154e-20 / 1.1102230246251565e-16\n",
      "  RuntimeWarning)\n"
     ]
    },
    {
     "data": {
      "text/plain": [
       "Ridge(alpha=1.0, copy_X=True, fit_intercept=True, max_iter=None,\n",
       "   normalize=False, random_state=None, solver='auto', tol=0.001)"
      ]
     },
     "execution_count": 259,
     "metadata": {},
     "output_type": "execute_result"
    }
   ],
   "source": [
    "ridge.fit(datos_train,precio_train)"
   ]
  },
  {
   "cell_type": "code",
   "execution_count": 260,
   "metadata": {},
   "outputs": [
    {
     "name": "stdout",
     "output_type": "stream",
     "text": [
      "Mean Absolute Error:  827131.9320612377\n"
     ]
    }
   ],
   "source": [
    "prediccion_ridge_validacion=ridge.predict(datos_test)\n",
    "\n",
    "print('Mean Absolute Error: ',mean_absolute_error(precio_test,prediccion_ridge_validacion))"
   ]
  },
  {
   "cell_type": "markdown",
   "metadata": {},
   "source": [
    "### 2.5) Lasso"
   ]
  },
  {
   "cell_type": "code",
   "execution_count": 261,
   "metadata": {},
   "outputs": [],
   "source": [
    "lasso = Lasso(alpha=1000,positive=True)"
   ]
  },
  {
   "cell_type": "code",
   "execution_count": 262,
   "metadata": {},
   "outputs": [
    {
     "name": "stderr",
     "output_type": "stream",
     "text": [
      "C:\\ProgramData\\Anaconda3\\lib\\site-packages\\sklearn\\linear_model\\coordinate_descent.py:491: ConvergenceWarning: Objective did not converge. You might want to increase the number of iterations. Fitting data with very small alpha may cause precision problems.\n",
      "  ConvergenceWarning)\n"
     ]
    },
    {
     "data": {
      "text/plain": [
       "Lasso(alpha=1000, copy_X=True, fit_intercept=True, max_iter=1000,\n",
       "   normalize=False, positive=True, precompute=False, random_state=None,\n",
       "   selection='cyclic', tol=0.0001, warm_start=False)"
      ]
     },
     "execution_count": 262,
     "metadata": {},
     "output_type": "execute_result"
    }
   ],
   "source": [
    "lasso.fit(datos_train,precio_train)"
   ]
  },
  {
   "cell_type": "code",
   "execution_count": 263,
   "metadata": {},
   "outputs": [
    {
     "name": "stdout",
     "output_type": "stream",
     "text": [
      "Mean Absolute Error:  840744.6860393309\n"
     ]
    }
   ],
   "source": [
    "prediccion_lasso_validacion=lasso.predict(datos_test)\n",
    "\n",
    "print('Mean Absolute Error: ',mean_absolute_error(precio_test,prediccion_lasso_validacion))"
   ]
  },
  {
   "cell_type": "markdown",
   "metadata": {},
   "source": [
    "### 2.6) Bagging"
   ]
  },
  {
   "cell_type": "code",
   "execution_count": 264,
   "metadata": {},
   "outputs": [],
   "source": [
    "bagging = BaggingRegressor(KNeighborsRegressor(n_neighbors=7,algorithm='kd_tree',metric='manhattan'))"
   ]
  },
  {
   "cell_type": "code",
   "execution_count": 265,
   "metadata": {},
   "outputs": [
    {
     "data": {
      "text/plain": [
       "BaggingRegressor(base_estimator=KNeighborsRegressor(algorithm='kd_tree', leaf_size=30, metric='manhattan',\n",
       "          metric_params=None, n_jobs=1, n_neighbors=7, p=2,\n",
       "          weights='uniform'),\n",
       "         bootstrap=True, bootstrap_features=False, max_features=1.0,\n",
       "         max_samples=1.0, n_estimators=10, n_jobs=1, oob_score=False,\n",
       "         random_state=None, verbose=0, warm_start=False)"
      ]
     },
     "execution_count": 265,
     "metadata": {},
     "output_type": "execute_result"
    }
   ],
   "source": [
    "bagging.fit(datos_train,precio_train)"
   ]
  },
  {
   "cell_type": "code",
   "execution_count": 266,
   "metadata": {},
   "outputs": [
    {
     "name": "stdout",
     "output_type": "stream",
     "text": [
      "Mean Absolute Error:  695999.8414450415\n"
     ]
    }
   ],
   "source": [
    "prediccion_bagging_validacion=bagging.predict(datos_test)\n",
    "\n",
    "print('Mean Absolute Error: ',mean_absolute_error(precio_test,prediccion_bagging_validacion))"
   ]
  },
  {
   "cell_type": "code",
   "execution_count": 267,
   "metadata": {},
   "outputs": [],
   "source": [
    "prediccion_bagging=bagging.predict(test_final)"
   ]
  },
  {
   "cell_type": "code",
   "execution_count": 268,
   "metadata": {},
   "outputs": [
    {
     "data": {
      "text/html": [
       "<div>\n",
       "<style scoped>\n",
       "    .dataframe tbody tr th:only-of-type {\n",
       "        vertical-align: middle;\n",
       "    }\n",
       "\n",
       "    .dataframe tbody tr th {\n",
       "        vertical-align: top;\n",
       "    }\n",
       "\n",
       "    .dataframe thead th {\n",
       "        text-align: right;\n",
       "    }\n",
       "</style>\n",
       "<table border=\"1\" class=\"dataframe\">\n",
       "  <thead>\n",
       "    <tr style=\"text-align: right;\">\n",
       "      <th></th>\n",
       "      <th>target</th>\n",
       "    </tr>\n",
       "    <tr>\n",
       "      <th>id</th>\n",
       "      <th></th>\n",
       "    </tr>\n",
       "  </thead>\n",
       "  <tbody>\n",
       "    <tr>\n",
       "      <th>4941</th>\n",
       "      <td>4627857.0</td>\n",
       "    </tr>\n",
       "    <tr>\n",
       "      <th>51775</th>\n",
       "      <td>1175071.0</td>\n",
       "    </tr>\n",
       "    <tr>\n",
       "      <th>115253</th>\n",
       "      <td>2351666.0</td>\n",
       "    </tr>\n",
       "    <tr>\n",
       "      <th>299321</th>\n",
       "      <td>1410405.0</td>\n",
       "    </tr>\n",
       "    <tr>\n",
       "      <th>173570</th>\n",
       "      <td>641171.0</td>\n",
       "    </tr>\n",
       "  </tbody>\n",
       "</table>\n",
       "</div>"
      ],
      "text/plain": [
       "           target\n",
       "id               \n",
       "4941    4627857.0\n",
       "51775   1175071.0\n",
       "115253  2351666.0\n",
       "299321  1410405.0\n",
       "173570   641171.0"
      ]
     },
     "execution_count": 268,
     "metadata": {},
     "output_type": "execute_result"
    }
   ],
   "source": [
    "entregable_bagging=IDS[['id']].copy()\n",
    "entregable_bagging['target']=prediccion_bagging\n",
    "entregable_bagging.set_index('id',inplace=True)\n",
    "entregable_bagging['target']=entregable_bagging['target'].round()\n",
    "entregable_bagging.head()"
   ]
  },
  {
   "cell_type": "code",
   "execution_count": 269,
   "metadata": {},
   "outputs": [],
   "source": [
    "entregable_bagging.to_csv('BAGGING_05.csv')"
   ]
  },
  {
   "cell_type": "markdown",
   "metadata": {},
   "source": [
    "### 2.7) Extra Tree Regressor"
   ]
  },
  {
   "cell_type": "code",
   "execution_count": 270,
   "metadata": {},
   "outputs": [],
   "source": [
    "extra_tree = ExtraTreesRegressor(n_estimators=100,criterion='mse',bootstrap=True,n_jobs=-1)"
   ]
  },
  {
   "cell_type": "code",
   "execution_count": 271,
   "metadata": {},
   "outputs": [
    {
     "data": {
      "text/plain": [
       "ExtraTreesRegressor(bootstrap=True, criterion='mse', max_depth=None,\n",
       "          max_features='auto', max_leaf_nodes=None,\n",
       "          min_impurity_decrease=0.0, min_impurity_split=None,\n",
       "          min_samples_leaf=1, min_samples_split=2,\n",
       "          min_weight_fraction_leaf=0.0, n_estimators=100, n_jobs=-1,\n",
       "          oob_score=False, random_state=None, verbose=0, warm_start=False)"
      ]
     },
     "execution_count": 271,
     "metadata": {},
     "output_type": "execute_result"
    }
   ],
   "source": [
    "extra_tree.fit(datos_train,precio_train)"
   ]
  },
  {
   "cell_type": "code",
   "execution_count": 272,
   "metadata": {},
   "outputs": [
    {
     "name": "stdout",
     "output_type": "stream",
     "text": [
      "Mean Absolute Error:  536378.5984284967\n"
     ]
    }
   ],
   "source": [
    "prediccion_extra_tree_validacion=extra_tree.predict(datos_test)\n",
    "\n",
    "print('Mean Absolute Error: ',mean_absolute_error(precio_test,prediccion_extra_tree_validacion))"
   ]
  },
  {
   "cell_type": "code",
   "execution_count": 273,
   "metadata": {},
   "outputs": [],
   "source": [
    "prediccion_extra_tree=extra_tree.predict(test_final)"
   ]
  },
  {
   "cell_type": "code",
   "execution_count": 274,
   "metadata": {},
   "outputs": [
    {
     "data": {
      "text/html": [
       "<div>\n",
       "<style scoped>\n",
       "    .dataframe tbody tr th:only-of-type {\n",
       "        vertical-align: middle;\n",
       "    }\n",
       "\n",
       "    .dataframe tbody tr th {\n",
       "        vertical-align: top;\n",
       "    }\n",
       "\n",
       "    .dataframe thead th {\n",
       "        text-align: right;\n",
       "    }\n",
       "</style>\n",
       "<table border=\"1\" class=\"dataframe\">\n",
       "  <thead>\n",
       "    <tr style=\"text-align: right;\">\n",
       "      <th></th>\n",
       "      <th>target</th>\n",
       "    </tr>\n",
       "    <tr>\n",
       "      <th>id</th>\n",
       "      <th></th>\n",
       "    </tr>\n",
       "  </thead>\n",
       "  <tbody>\n",
       "    <tr>\n",
       "      <th>4941</th>\n",
       "      <td>4824478.0</td>\n",
       "    </tr>\n",
       "    <tr>\n",
       "      <th>51775</th>\n",
       "      <td>1273015.0</td>\n",
       "    </tr>\n",
       "    <tr>\n",
       "      <th>115253</th>\n",
       "      <td>1859567.0</td>\n",
       "    </tr>\n",
       "    <tr>\n",
       "      <th>299321</th>\n",
       "      <td>1197560.0</td>\n",
       "    </tr>\n",
       "    <tr>\n",
       "      <th>173570</th>\n",
       "      <td>1333334.0</td>\n",
       "    </tr>\n",
       "  </tbody>\n",
       "</table>\n",
       "</div>"
      ],
      "text/plain": [
       "           target\n",
       "id               \n",
       "4941    4824478.0\n",
       "51775   1273015.0\n",
       "115253  1859567.0\n",
       "299321  1197560.0\n",
       "173570  1333334.0"
      ]
     },
     "execution_count": 274,
     "metadata": {},
     "output_type": "execute_result"
    }
   ],
   "source": [
    "entregable_extra_tree=IDS[['id']].copy()\n",
    "entregable_extra_tree['target']=prediccion_extra_tree\n",
    "entregable_extra_tree.set_index('id',inplace=True)\n",
    "entregable_extra_tree['target']=entregable_extra_tree['target'].round()\n",
    "entregable_extra_tree.head()"
   ]
  },
  {
   "cell_type": "code",
   "execution_count": 275,
   "metadata": {},
   "outputs": [],
   "source": [
    "entregable_extra_tree.to_csv('EXTRA_TREE_06.csv')"
   ]
  },
  {
   "cell_type": "markdown",
   "metadata": {},
   "source": [
    "### 2.8) XGBoosting"
   ]
  },
  {
   "cell_type": "code",
   "execution_count": 224,
   "metadata": {},
   "outputs": [],
   "source": [
    "xgboost = xgb.XGBRegressor(objective ='reg:linear', n_estimators = 100)"
   ]
  },
  {
   "cell_type": "code",
   "execution_count": 225,
   "metadata": {},
   "outputs": [
    {
     "name": "stdout",
     "output_type": "stream",
     "text": [
      "[12:30:02] WARNING: C:/Jenkins/workspace/xgboost-win64_release_0.90/src/objective/regression_obj.cu:152: reg:linear is now deprecated in favor of reg:squarederror.\n"
     ]
    },
    {
     "data": {
      "text/plain": [
       "XGBRegressor(base_score=0.5, booster='gbtree', colsample_bylevel=1,\n",
       "       colsample_bynode=1, colsample_bytree=1, gamma=0,\n",
       "       importance_type='gain', learning_rate=0.1, max_delta_step=0,\n",
       "       max_depth=3, min_child_weight=1, missing=None, n_estimators=100,\n",
       "       n_jobs=1, nthread=None, objective='reg:linear', random_state=0,\n",
       "       reg_alpha=0, reg_lambda=1, scale_pos_weight=1, seed=None,\n",
       "       silent=None, subsample=1, verbosity=1)"
      ]
     },
     "execution_count": 225,
     "metadata": {},
     "output_type": "execute_result"
    }
   ],
   "source": [
    "xgboost.fit(datos_train,precio_train)"
   ]
  },
  {
   "cell_type": "code",
   "execution_count": 226,
   "metadata": {
    "scrolled": true
   },
   "outputs": [
    {
     "name": "stdout",
     "output_type": "stream",
     "text": [
      "Mean Absolute Error:  688021.7892900549\n"
     ]
    }
   ],
   "source": [
    "prediccion_xgboost_validacion=xgboost.predict(datos_test)\n",
    "\n",
    "print('Mean Absolute Error: ',mean_absolute_error(precio_test,prediccion_xgboost_validacion))"
   ]
  },
  {
   "cell_type": "markdown",
   "metadata": {},
   "source": [
    "### 2.9) Linear Regression"
   ]
  },
  {
   "cell_type": "code",
   "execution_count": 276,
   "metadata": {},
   "outputs": [],
   "source": [
    "linear = LinearRegression()"
   ]
  },
  {
   "cell_type": "code",
   "execution_count": 277,
   "metadata": {},
   "outputs": [
    {
     "data": {
      "text/plain": [
       "LinearRegression(copy_X=True, fit_intercept=True, n_jobs=1, normalize=False)"
      ]
     },
     "execution_count": 277,
     "metadata": {},
     "output_type": "execute_result"
    }
   ],
   "source": [
    "linear.fit(datos_train,precio_train)"
   ]
  },
  {
   "cell_type": "code",
   "execution_count": 278,
   "metadata": {},
   "outputs": [
    {
     "name": "stdout",
     "output_type": "stream",
     "text": [
      "Mean Absolute Error:  827140.0918794825\n"
     ]
    }
   ],
   "source": [
    "prediccion_linear_validacion=linear.predict(datos_test)\n",
    "\n",
    "print('Mean Absolute Error: ',mean_absolute_error(precio_test,prediccion_linear_validacion))"
   ]
  },
  {
   "cell_type": "markdown",
   "metadata": {},
   "source": [
    "### 2.10) ElasticNet Regression"
   ]
  },
  {
   "cell_type": "code",
   "execution_count": 279,
   "metadata": {},
   "outputs": [],
   "source": [
    "elastic = ElasticNet(alpha=1000)"
   ]
  },
  {
   "cell_type": "code",
   "execution_count": 280,
   "metadata": {},
   "outputs": [
    {
     "data": {
      "text/plain": [
       "ElasticNet(alpha=1000, copy_X=True, fit_intercept=True, l1_ratio=0.5,\n",
       "      max_iter=1000, normalize=False, positive=False, precompute=False,\n",
       "      random_state=None, selection='cyclic', tol=0.0001, warm_start=False)"
      ]
     },
     "execution_count": 280,
     "metadata": {},
     "output_type": "execute_result"
    }
   ],
   "source": [
    "elastic.fit(datos_train,precio_train)"
   ]
  },
  {
   "cell_type": "code",
   "execution_count": 281,
   "metadata": {},
   "outputs": [
    {
     "name": "stdout",
     "output_type": "stream",
     "text": [
      "Mean Absolute Error:  1167791.8265151936\n"
     ]
    }
   ],
   "source": [
    "prediccion_elastic_validacion=elastic.predict(datos_test)\n",
    "\n",
    "print('Mean Absolute Error: ',mean_absolute_error(precio_test,prediccion_elastic_validacion))"
   ]
  },
  {
   "cell_type": "markdown",
   "metadata": {},
   "source": [
    "### 2.11) SVR"
   ]
  },
  {
   "cell_type": "code",
   "execution_count": 324,
   "metadata": {},
   "outputs": [],
   "source": [
    "svr = SVR()"
   ]
  },
  {
   "cell_type": "code",
   "execution_count": 325,
   "metadata": {},
   "outputs": [
    {
     "data": {
      "text/plain": [
       "SVR(C=1.0, cache_size=200, coef0=0.0, degree=3, epsilon=0.1, gamma='auto',\n",
       "  kernel='rbf', max_iter=-1, shrinking=True, tol=0.001, verbose=False)"
      ]
     },
     "execution_count": 325,
     "metadata": {},
     "output_type": "execute_result"
    }
   ],
   "source": [
    "svr.fit(datos_train,precio_train)"
   ]
  },
  {
   "cell_type": "code",
   "execution_count": 326,
   "metadata": {},
   "outputs": [
    {
     "name": "stdout",
     "output_type": "stream",
     "text": [
      "Mean Absolute Error:  1399472.5529731475\n"
     ]
    }
   ],
   "source": [
    "prediccion_svr_validacion=svr.predict(datos_test)\n",
    "\n",
    "print('Mean Absolute Error: ',mean_absolute_error(precio_test,prediccion_svr_validacion))"
   ]
  },
  {
   "cell_type": "code",
   "execution_count": 327,
   "metadata": {},
   "outputs": [],
   "source": [
    "prediccion_svr=svr.predict(test_final)"
   ]
  },
  {
   "cell_type": "code",
   "execution_count": 328,
   "metadata": {},
   "outputs": [
    {
     "data": {
      "text/html": [
       "<div>\n",
       "<style scoped>\n",
       "    .dataframe tbody tr th:only-of-type {\n",
       "        vertical-align: middle;\n",
       "    }\n",
       "\n",
       "    .dataframe tbody tr th {\n",
       "        vertical-align: top;\n",
       "    }\n",
       "\n",
       "    .dataframe thead th {\n",
       "        text-align: right;\n",
       "    }\n",
       "</style>\n",
       "<table border=\"1\" class=\"dataframe\">\n",
       "  <thead>\n",
       "    <tr style=\"text-align: right;\">\n",
       "      <th></th>\n",
       "      <th>target</th>\n",
       "    </tr>\n",
       "    <tr>\n",
       "      <th>id</th>\n",
       "      <th></th>\n",
       "    </tr>\n",
       "  </thead>\n",
       "  <tbody>\n",
       "    <tr>\n",
       "      <th>4941</th>\n",
       "      <td>1.550002e+06</td>\n",
       "    </tr>\n",
       "    <tr>\n",
       "      <th>51775</th>\n",
       "      <td>1.550002e+06</td>\n",
       "    </tr>\n",
       "    <tr>\n",
       "      <th>115253</th>\n",
       "      <td>1.550002e+06</td>\n",
       "    </tr>\n",
       "    <tr>\n",
       "      <th>299321</th>\n",
       "      <td>1.550002e+06</td>\n",
       "    </tr>\n",
       "    <tr>\n",
       "      <th>173570</th>\n",
       "      <td>1.550002e+06</td>\n",
       "    </tr>\n",
       "  </tbody>\n",
       "</table>\n",
       "</div>"
      ],
      "text/plain": [
       "              target\n",
       "id                  \n",
       "4941    1.550002e+06\n",
       "51775   1.550002e+06\n",
       "115253  1.550002e+06\n",
       "299321  1.550002e+06\n",
       "173570  1.550002e+06"
      ]
     },
     "execution_count": 328,
     "metadata": {},
     "output_type": "execute_result"
    }
   ],
   "source": [
    "entregable_svr=IDS[['id']].copy()\n",
    "entregable_svr['target']=prediccion_svr\n",
    "entregable_svr.set_index('id',inplace=True)\n",
    "entregable_svr.head()"
   ]
  },
  {
   "cell_type": "code",
   "execution_count": 329,
   "metadata": {},
   "outputs": [],
   "source": [
    "entregable_svr.to_csv('SVR_02.csv')"
   ]
  },
  {
   "cell_type": "markdown",
   "metadata": {},
   "source": [
    "### 2.12) Random Forest"
   ]
  },
  {
   "cell_type": "code",
   "execution_count": 282,
   "metadata": {},
   "outputs": [],
   "source": [
    "random = RandomForestRegressor(random_state=0, n_jobs=-1, n_estimators=150)"
   ]
  },
  {
   "cell_type": "code",
   "execution_count": 283,
   "metadata": {},
   "outputs": [
    {
     "data": {
      "text/plain": [
       "RandomForestRegressor(bootstrap=True, criterion='mse', max_depth=None,\n",
       "           max_features='auto', max_leaf_nodes=None,\n",
       "           min_impurity_decrease=0.0, min_impurity_split=None,\n",
       "           min_samples_leaf=1, min_samples_split=2,\n",
       "           min_weight_fraction_leaf=0.0, n_estimators=150, n_jobs=-1,\n",
       "           oob_score=False, random_state=0, verbose=0, warm_start=False)"
      ]
     },
     "execution_count": 283,
     "metadata": {},
     "output_type": "execute_result"
    }
   ],
   "source": [
    "random.fit(datos_train,precio_train)"
   ]
  },
  {
   "cell_type": "code",
   "execution_count": 284,
   "metadata": {},
   "outputs": [
    {
     "name": "stdout",
     "output_type": "stream",
     "text": [
      "Mean Absolute Error:  527281.5498210661\n"
     ]
    }
   ],
   "source": [
    "prediccion_random_validacion=random.predict(datos_test)\n",
    "\n",
    "print('Mean Absolute Error: ',mean_absolute_error(precio_test,prediccion_random_validacion))"
   ]
  },
  {
   "cell_type": "code",
   "execution_count": 285,
   "metadata": {},
   "outputs": [],
   "source": [
    "prediccion_random=random.predict(test_final)"
   ]
  },
  {
   "cell_type": "code",
   "execution_count": 286,
   "metadata": {},
   "outputs": [
    {
     "data": {
      "text/html": [
       "<div>\n",
       "<style scoped>\n",
       "    .dataframe tbody tr th:only-of-type {\n",
       "        vertical-align: middle;\n",
       "    }\n",
       "\n",
       "    .dataframe tbody tr th {\n",
       "        vertical-align: top;\n",
       "    }\n",
       "\n",
       "    .dataframe thead th {\n",
       "        text-align: right;\n",
       "    }\n",
       "</style>\n",
       "<table border=\"1\" class=\"dataframe\">\n",
       "  <thead>\n",
       "    <tr style=\"text-align: right;\">\n",
       "      <th></th>\n",
       "      <th>target</th>\n",
       "    </tr>\n",
       "    <tr>\n",
       "      <th>id</th>\n",
       "      <th></th>\n",
       "    </tr>\n",
       "  </thead>\n",
       "  <tbody>\n",
       "    <tr>\n",
       "      <th>4941</th>\n",
       "      <td>4895195.0</td>\n",
       "    </tr>\n",
       "    <tr>\n",
       "      <th>51775</th>\n",
       "      <td>1321722.0</td>\n",
       "    </tr>\n",
       "    <tr>\n",
       "      <th>115253</th>\n",
       "      <td>1886582.0</td>\n",
       "    </tr>\n",
       "    <tr>\n",
       "      <th>299321</th>\n",
       "      <td>1219362.0</td>\n",
       "    </tr>\n",
       "    <tr>\n",
       "      <th>173570</th>\n",
       "      <td>1211528.0</td>\n",
       "    </tr>\n",
       "  </tbody>\n",
       "</table>\n",
       "</div>"
      ],
      "text/plain": [
       "           target\n",
       "id               \n",
       "4941    4895195.0\n",
       "51775   1321722.0\n",
       "115253  1886582.0\n",
       "299321  1219362.0\n",
       "173570  1211528.0"
      ]
     },
     "execution_count": 286,
     "metadata": {},
     "output_type": "execute_result"
    }
   ],
   "source": [
    "entregable_random=IDS[['id']].copy()\n",
    "entregable_random['target']=prediccion_random\n",
    "entregable_random.set_index('id',inplace=True)\n",
    "entregable_random['target']=entregable_random['target'].round()\n",
    "entregable_random.head()"
   ]
  },
  {
   "cell_type": "code",
   "execution_count": 287,
   "metadata": {},
   "outputs": [],
   "source": [
    "entregable_random.to_csv('RANDOM_08.csv')"
   ]
  }
 ],
 "metadata": {
  "kernelspec": {
   "display_name": "Python 3",
   "language": "python",
   "name": "python3"
  },
  "language_info": {
   "codemirror_mode": {
    "name": "ipython",
    "version": 3
   },
   "file_extension": ".py",
   "mimetype": "text/x-python",
   "name": "python",
   "nbconvert_exporter": "python",
   "pygments_lexer": "ipython3",
   "version": "3.6.4"
  }
 },
 "nbformat": 4,
 "nbformat_minor": 2
}
