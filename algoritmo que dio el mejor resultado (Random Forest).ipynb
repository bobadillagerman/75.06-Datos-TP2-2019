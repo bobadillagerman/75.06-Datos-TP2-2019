{
 "cells": [
  {
   "cell_type": "code",
   "execution_count": 2,
   "metadata": {},
   "outputs": [],
   "source": [
    "import numpy as np\n",
    "import pandas as pd\n",
    "import csv\n",
    "from time import time\n",
    "\n",
    "from sklearn.model_selection import GridSearchCV\n",
    "from datetime import datetime\n",
    "import category_encoders as ce"
   ]
  },
  {
   "cell_type": "code",
   "execution_count": 3,
   "metadata": {},
   "outputs": [
    {
     "name": "stdout",
     "output_type": "stream",
     "text": [
      "Wall time: 2.64 s\n"
     ]
    }
   ],
   "source": [
    "%%time\n",
    "train = pd.read_csv('train.csv')"
   ]
  },
  {
   "cell_type": "code",
   "execution_count": 4,
   "metadata": {},
   "outputs": [],
   "source": [
    "#Capitales de los Estados de México\n",
    "capitales=['Aguascalientes','Mexicali','La Paz','Campeche','Tuxtla Gutiérrez','Chihuahua','Saltillo','Colima','Durango','Guanajuato','Chilpancingo de los Bravo','Pachuca','Guadalajara','Toluca','Morelia','Cuernavaca','Tepic','Monterrey','Oaxaca de Juárez','Puebla','Querétaro','Chetumal','San Luis Potosí','Culiacán','Hermosillo','Villahermosa','Victoria','Tlaxcala','Xalapa','Mérida','Zacatecas','Cuauhtémoc']"
   ]
  },
  {
   "cell_type": "code",
   "execution_count": 5,
   "metadata": {},
   "outputs": [],
   "source": [
    "#Función que establece si una ciudad se encuentra en la capital del estado\n",
    "def EstaEnCapital(Ciudad):\n",
    "    for capital in capitales:\n",
    "        if(Ciudad==capital):\n",
    "            return 1\n",
    "    return 0"
   ]
  },
  {
   "cell_type": "code",
   "execution_count": 8,
   "metadata": {},
   "outputs": [],
   "source": [
    "train['Esta_Capital']=train['ciudad'].apply(EstaEnCapital)"
   ]
  },
  {
   "cell_type": "code",
   "execution_count": 9,
   "metadata": {},
   "outputs": [],
   "source": [
    "cuidades_turisticas=['Cancún','Guadalajara','Puerto Vallarta','Acapulco de Juárez','Monterrey','Bahía de Banderas','Mazatlán','Puebla','Veracruz','Mérida','Querétaro','León','Zihuatanejo de Azueta','San Luis Potosí','Cozumel','Villahermosa','Tijuana','Oaxaca de Juárez','Aguascalientes','Santa María Huatulco','Juárez','Chihuahua','Morelia','Manzanillo','Hermosillo','Toluca','Zacatecas','Tuxtla Gutiérrez','Mexicali','Celaya','Guanajuato','Culiacán']"
   ]
  },
  {
   "cell_type": "code",
   "execution_count": 10,
   "metadata": {},
   "outputs": [],
   "source": [
    "#Función que establece si una ciudad se encuentra en la zona turistica\n",
    "def EstaEnZonaTuristica(Ciudad,Provincia):\n",
    "    if(Provincia=='Distrito Federal'):\n",
    "        return 1\n",
    "    for ciudad_turistica in cuidades_turisticas:\n",
    "        if(Ciudad==ciudad_turistica):\n",
    "            return 1\n",
    "    return 0"
   ]
  },
  {
   "cell_type": "code",
   "execution_count": 11,
   "metadata": {},
   "outputs": [],
   "source": [
    "train['Esta_Zona_Turistica']=train.apply(lambda x: EstaEnZonaTuristica(x['ciudad'],x['provincia']),axis=1)"
   ]
  },
  {
   "cell_type": "code",
   "execution_count": 12,
   "metadata": {},
   "outputs": [],
   "source": [
    "zona_metropolitana_valle=['Azcapotzalco','Coyoacán','Cuajimalpa de Morelos','Gustavo A. Madero','Iztacalco','Iztapalapa','La Magdalena Contreras','Milpa Alta','Alvaro Obregón','Tláhuac','Tlalpan','Xochimilco','Benito Juárez','Cuauhtémoc','Miguel Hidalgo','Venustiano Carranza','Tizayuca','Acolman','Amecameca','Atenco','Atizapán de Zaragoza','Atlautla','Axapusco','Ayapango','Coacalco de Berriozábal','Cocotitlán','Coyotepec','Cuautitlán','Chalco','Chiautla','Chicoloapan','Chiconcuac','Chimalhuacán','Ecatepec de Morelos','Ecatzingo','Huehuetoca','Huixquilucan','Isidro Fabela','Ixtapaluca','Jaltenco','Jilotzingo','Melchor Ocampo','Naucalpan de Juárez','Nezahualcóyotl','Nextlalpan','Nicolás Romero','Nopaltepec','Otumba','Ozumba','Papalotla','La Paz','San Martín de las Pirámides','Tecámac','Temamatla','Temascalapa','Tenango del Aire','Teoloyucan','Teotihuacán','Tepetlaoxtoc','Tepetlixpa','Tepotzotlán','Tequixquiac','Texcoco','Tezoyuca','Tlalmanalco','Tlalnepantla de Baz','Tultepec','Tultitlán','Villa del Carbón','Zumpango','Cuautitlán Izcalli','Valle de Chalco Solidaridad','Tonanitla']\n",
    "zona_metropolitana_guadalajara=['Guadalajara','Zapopan','Tlaquepaque','Tlajomulco de Zúñiga','Tonalá','El Salto','Zapotlanejo','Ixtlahuacán de los Membrillos','Juanacatlán','Juanacatlán']\n",
    "zona_metropolitana_monterrey=['San Pedro Garza García','San Nicolás de los Garza','Monterrey','Santiago','Guadalupe','Apodaca','Cadereyta Jiménez','Santa Catarina','Gral. Escobedo','García','Juárez','Salinas Victoria']\n",
    "zona_metropolitana_puebla_texaca=['Amozoc','Coronango','Cuautlancingo','Huejotzingo','Juan C. Bonilla','Ocoyucan','Puebla','San Andrés Cholula','San Gregorio Atzompa','San Martín Texmelucan','San Miguel Xoxtla','San Pedro Cholula','San Salvador el Verde','Tepatlaxco de Hidalgo','Tlaltenango','Ixtacuixtla de Mariano Matamoros','Tepetitla de Lardizábal','Natívitas','San Pablo del Monte','Tenancingo','Teolocholco','Tepeyanco','Tetlatlahuca','Papalotla de Xicohténcatl','Xicohtzinco','Zacatelco','Zacualpan','Santa Ana Nopalucan','Teacalco','Santa Catarina']\n",
    "zona_metropolitana_toluca=['Toluca','Metepec','Zinacantepec','Almoloya de Juárez','Lerma','Otzolotepec','San Mateo Atenco','Ocoyoacac','Calimaya','Xonacatlán','Tenango del Valle','San Antonio la Isla','Mexicaltzingo','Chapultepec']\n",
    "zona_metropolitana_laguna=['Torreón','Gómez Palacio','Lerdo','Matamoros']\n",
    "zona_metropolitana_queretaro=['Querétaro','Corregidora','El Marqués','Huimilpan','Apaseo el Alto']"
   ]
  },
  {
   "cell_type": "code",
   "execution_count": 13,
   "metadata": {},
   "outputs": [],
   "source": [
    "#Función que establece si una ciudad se encuentra en la zona metropolitana\n",
    "def EnQueZonaMetropolitanaEsta(Ciudad,Provincia):\n",
    "    if(Provincia=='Tijuana'):\n",
    "        return 'Tijuana'\n",
    "    for ciudad_metropolitana in zona_metropolitana_valle:\n",
    "        if(Ciudad==ciudad_metropolitana):\n",
    "            return 'Valle'\n",
    "    for ciudad_metropolitana in zona_metropolitana_guadalajara:\n",
    "        if(Ciudad==ciudad_metropolitana):\n",
    "            return 'Guadalajara'\n",
    "    for ciudad_metropolitana in zona_metropolitana_monterrey:\n",
    "        if(Ciudad==ciudad_metropolitana):\n",
    "            return 'Monterrey'\n",
    "    for ciudad_metropolitana in zona_metropolitana_puebla_texaca:\n",
    "        if(Ciudad==ciudad_metropolitana):\n",
    "            return 'Puebla_Texaca'\n",
    "    for ciudad_metropolitana in zona_metropolitana_toluca:\n",
    "        if(Ciudad==ciudad_metropolitana):\n",
    "            return 'Toluca'\n",
    "    for ciudad_metropolitana in zona_metropolitana_laguna:\n",
    "        if(Ciudad==ciudad_metropolitana):\n",
    "            return 'Laguna'\n",
    "    for ciudad_metropolitana in zona_metropolitana_queretaro:\n",
    "        if(Ciudad==ciudad_metropolitana):\n",
    "            return 'Queretaro'\n",
    "    return 'No_Esta'"
   ]
  },
  {
   "cell_type": "code",
   "execution_count": 14,
   "metadata": {},
   "outputs": [],
   "source": [
    "train['Zona_Metropolitana']=train.apply(lambda x: EnQueZonaMetropolitanaEsta(x['ciudad'],x['provincia']),axis=1)"
   ]
  },
  {
   "cell_type": "code",
   "execution_count": 15,
   "metadata": {},
   "outputs": [],
   "source": [
    "train = train.drop('id', axis=1)\n",
    "train = train.drop('direccion', axis=1)\n",
    "train = train.drop('lat', axis=1)\n",
    "train = train.drop('lng', axis=1)"
   ]
  },
  {
   "cell_type": "code",
   "execution_count": 16,
   "metadata": {},
   "outputs": [],
   "source": [
    "#Reemplazo los valores nulos por el valor promedio de ese featuer\n",
    "train[['antiguedad']] = train[['antiguedad']].fillna(value=8.116114)\n",
    "train[['habitaciones']] = train[['habitaciones']].fillna(value=2.902326)\n",
    "train[['garages']] = train[['garages']].fillna(value=1.546874)\n",
    "train[['banos']] = train[['banos']].fillna(value=2.132417)\n",
    "train[['metroscubiertos']] = train[['metroscubiertos']].fillna(value=174.016774)\n",
    "train[['metrostotales']] = train[['metrostotales']].fillna(value=176.765145)\n",
    "train[['idzona']] = train[['idzona']].fillna(value=2141183.096329)"
   ]
  },
  {
   "cell_type": "code",
   "execution_count": 17,
   "metadata": {},
   "outputs": [],
   "source": [
    "def oneHotEncoding(df, columna):\n",
    "    one_hot = pd.get_dummies(df[columna])\n",
    "    df.drop(columna, axis=1, inplace=True)\n",
    "    df = pd.concat([df, one_hot], axis=1)\n",
    "    return df"
   ]
  },
  {
   "cell_type": "code",
   "execution_count": 18,
   "metadata": {},
   "outputs": [],
   "source": [
    "train = oneHotEncoding(train,'provincia')\n",
    "train = oneHotEncoding(train,'tipodepropiedad')\n",
    "train = oneHotEncoding(train,'Zona_Metropolitana')\n",
    "\n",
    "train = train.drop('Garage', axis=1)\n",
    "train = train.drop('Hospedaje', axis=1)"
   ]
  },
  {
   "cell_type": "code",
   "execution_count": 19,
   "metadata": {},
   "outputs": [],
   "source": [
    "#Hacemos la conversión de fechas\n",
    "train['Fecha']=pd.to_datetime(train['fecha'])\n",
    "train.drop(columns={'fecha'},inplace=True)\n",
    "\n",
    "train['Anio']=train['Fecha'].dt.year\n",
    "train = train.drop('Fecha', axis=1)"
   ]
  },
  {
   "cell_type": "code",
   "execution_count": 20,
   "metadata": {},
   "outputs": [],
   "source": [
    "target_enc = ce.TargetEncoder(train['ciudad'])\n",
    "\n",
    "# Fit the encoder using the categorical features and target\n",
    "target_enc.fit(train['ciudad'], train['precio'])\n",
    "\n",
    "# Transform the features, rename the columns with _target suffix, and join to dataframe\n",
    "train = train.join(target_enc.transform(train['ciudad']).add_suffix('_target'))\n",
    "\n",
    "train = train.drop('ciudad', axis=1)"
   ]
  },
  {
   "cell_type": "code",
   "execution_count": 21,
   "metadata": {},
   "outputs": [],
   "source": [
    "# Palabras del feature titulo que voy a usar para construir mas features. Fueron sacadas en parte a \"ojo\".\n",
    "# Por un lado busqué las 100 palabras mas comunes de las propiedaades mas caras (mayor que 3350000 pesos)(para ver\n",
    "# el codigo con el que busqué las palabras mas comunes, ver mi otro notebook), luego busqué las 100 palabras mas\n",
    "# comunes de las propiedades mas baratas (menor a 940000 pesos). Ignoré las palabras que aparecian en ambas listas\n",
    "# con mas o menos la misma cantidad de veces, y dejé el resto. Luego repetí lo mismo para la descripcion.\n",
    "columnas_titulo = ['vill','remat','cerc','haciend','plant','infonavit','bosqu','credit','bancari','adjudic','puebl','ecatepec','morel','buen',\n",
    "'izcalli','cuautitl','guadalup','coacalc','hipotecari','ciud','esquin','iztapalap','apodac','bañ','minut','plaz','juan','acept','vist','mision',\n",
    "'toluc','precios','tecamac','baj','mexic','ubicacion','mader','colin','habit','francisc','lind','jos','dor','chihuahu','unid','aprovech','pachuc',\n",
    "'rincon','pis','bien','terren','cot','cuautitlan','fovissst','centric','tlajomulc','resident','estren','club','luj','polanc','cumbr','prevent',\n",
    "'satelit','jeronim','exclus','interlom','condes','pedregal','huixquiluc','angelopolis','benit','herradur','naucalp','federal','distrit','pedr',\n",
    "'golf','tlalp','torr','juriquill','verd','modern','alvar','acab','obregon','rom','country','palm','cuajimalp','estil','horizontal','seccion','vigil',\n",
    "'coyoac','inversion','monterrey','angel','espaci','coyoacan','magnif','campestr','oficin']"
   ]
  },
  {
   "cell_type": "code",
   "execution_count": 22,
   "metadata": {},
   "outputs": [],
   "source": [
    "for columna in columnas_titulo:\n",
    "    train[columna+'_titulo']=train.titulo.str.contains(columna,case=False)"
   ]
  },
  {
   "cell_type": "code",
   "execution_count": 23,
   "metadata": {},
   "outputs": [],
   "source": [
    "columnas_descripcion = ['credit','cerc','acept','infonavit','lav','minut','closet','principal','espaci','escuel','strong','/strong','jardin','bancari',\n",
    "'cont','comercial','tip','cit','inform','equip','vigil','cas','proteccion','verd','ceram','pag','plaz','parqu','puert','inmuebl','tramit','cuart',\n",
    "'bien','remat','loset','propied','acab','aven','closets','ciud','residencial','condicion','opcion','traser','list','tranquil','vestidor','terraz',\n",
    "'vist','estudi','salon','hermos','alberc','visit','cad','ilumin','jueg','mader','desayun','dobl','comun','luj','granit','resident','gard','jacuzzi',\n",
    "'gimnasi','precios','asador','roof','independient','cubiert','remodel','balcon','cerr','elev','marmol','exclus','lugar','grand','cistern','altur',\n",
    "'electr','hor']"
   ]
  },
  {
   "cell_type": "code",
   "execution_count": 24,
   "metadata": {},
   "outputs": [],
   "source": [
    "for columna in columnas_descripcion:\n",
    "    train[columna+'_descripcion']=train.descripcion.str.contains(columna,case=False)"
   ]
  },
  {
   "cell_type": "code",
   "execution_count": 25,
   "metadata": {},
   "outputs": [],
   "source": [
    "train = train.fillna(value=0)\n",
    "train = train.drop('titulo', axis=1)\n",
    "train = train.drop('descripcion', axis=1)"
   ]
  },
  {
   "cell_type": "code",
   "execution_count": 26,
   "metadata": {},
   "outputs": [],
   "source": [
    "train_label = []\n",
    "train_data = []\n",
    "\n",
    "train_label = train[\"precio\"]\n",
    "train_data = train.iloc[:, train.columns != 'precio']\n",
    "\n",
    "del train"
   ]
  },
  {
   "cell_type": "code",
   "execution_count": 27,
   "metadata": {},
   "outputs": [],
   "source": [
    "test = pd.read_csv('test.csv')"
   ]
  },
  {
   "cell_type": "code",
   "execution_count": 28,
   "metadata": {},
   "outputs": [],
   "source": [
    "test['Esta_Capital']=test['ciudad'].apply(EstaEnCapital)"
   ]
  },
  {
   "cell_type": "code",
   "execution_count": 29,
   "metadata": {},
   "outputs": [],
   "source": [
    "test['Esta_Zona_Turistica']=test.apply(lambda x: EstaEnZonaTuristica(x['ciudad'],x['provincia']),axis=1)"
   ]
  },
  {
   "cell_type": "code",
   "execution_count": 30,
   "metadata": {},
   "outputs": [],
   "source": [
    "test['Zona_Metropolitana']=test.apply(lambda x: EnQueZonaMetropolitanaEsta(x['ciudad'],x['provincia']),axis=1)"
   ]
  },
  {
   "cell_type": "code",
   "execution_count": 31,
   "metadata": {},
   "outputs": [],
   "source": [
    "test = test.drop('id', axis=1)\n",
    "test = test.drop('direccion', axis=1)\n",
    "test = test.drop('lat', axis=1)\n",
    "test = test.drop('lng', axis=1)"
   ]
  },
  {
   "cell_type": "code",
   "execution_count": 32,
   "metadata": {},
   "outputs": [],
   "source": [
    "test[['antiguedad']] = test[['antiguedad']].fillna(value=8.116114)\n",
    "test[['habitaciones']] = test[['habitaciones']].fillna(value=2.902326)\n",
    "test[['garages']] = test[['garages']].fillna(value=1.546874)\n",
    "test[['banos']] = test[['banos']].fillna(value=2.132417)\n",
    "test[['metroscubiertos']] = test[['metroscubiertos']].fillna(value=174.016774)\n",
    "test[['metrostotales']] = test[['metrostotales']].fillna(value=176.765145)\n",
    "test[['idzona']] = test[['idzona']].fillna(value=2141183.096329)"
   ]
  },
  {
   "cell_type": "code",
   "execution_count": 33,
   "metadata": {},
   "outputs": [],
   "source": [
    "test = oneHotEncoding(test,'provincia')\n",
    "test = oneHotEncoding(test,'tipodepropiedad')\n",
    "test = oneHotEncoding(test,'Zona_Metropolitana')"
   ]
  },
  {
   "cell_type": "code",
   "execution_count": 34,
   "metadata": {},
   "outputs": [],
   "source": [
    "#Hacemos la conversión de fechas\n",
    "test['Fecha']=pd.to_datetime(test['fecha'])\n",
    "test.drop(columns={'fecha'},inplace=True)\n",
    "\n",
    "test['Anio'] = test['Fecha'].dt.year\n",
    "test = test.drop('Fecha', axis=1)"
   ]
  },
  {
   "cell_type": "code",
   "execution_count": 35,
   "metadata": {},
   "outputs": [],
   "source": [
    "test = test.join(target_enc.transform(test['ciudad']).add_suffix('_target'))\n",
    "test = test.drop('ciudad', axis=1)\n",
    "del target_enc"
   ]
  },
  {
   "cell_type": "code",
   "execution_count": 1,
   "metadata": {},
   "outputs": [
    {
     "ename": "NameError",
     "evalue": "name 'columnas_titulo' is not defined",
     "output_type": "error",
     "traceback": [
      "\u001b[1;31m---------------------------------------------------------------------------\u001b[0m",
      "\u001b[1;31mNameError\u001b[0m                                 Traceback (most recent call last)",
      "\u001b[1;32m<timed exec>\u001b[0m in \u001b[0;36m<module>\u001b[1;34m()\u001b[0m\n",
      "\u001b[1;31mNameError\u001b[0m: name 'columnas_titulo' is not defined"
     ]
    }
   ],
   "source": [
    "for columna in columnas_titulo:\n",
    "    test[columna+'_titulo']=test.titulo.str.contains(columna,case=False)"
   ]
  },
  {
   "cell_type": "code",
   "execution_count": 37,
   "metadata": {},
   "outputs": [],
   "source": [
    "for columna in columnas_descripcion:\n",
    "    test[columna+'_descripcion']=test.descripcion.str.contains(columna,case=False)"
   ]
  },
  {
   "cell_type": "code",
   "execution_count": 38,
   "metadata": {},
   "outputs": [],
   "source": [
    "test = test.fillna(value=0)\n",
    "test = test.drop('titulo', axis=1)\n",
    "test = test.drop('descripcion', axis=1)"
   ]
  },
  {
   "cell_type": "code",
   "execution_count": 39,
   "metadata": {},
   "outputs": [],
   "source": [
    "def write_submission(test_data, prediction, file_output):\n",
    "    \n",
    "    archivo_entrada = open(test_data)\n",
    "    entrada_csv = csv.reader(archivo_entrada)\n",
    "    next(entrada_csv, None)  # skip the headers\n",
    "\n",
    "    archivo_salida = open(file_output, 'w')\n",
    "    submit_csv = csv.writer(archivo_salida)\n",
    "    submit_csv.writerow(['id', 'target'])\n",
    "\n",
    "    for reg1, reg2  in zip(entrada_csv, prediction):\n",
    "        linea = [reg1[0], round(reg2, 2)]\n",
    "        submit_csv.writerow(linea)\n",
    "    archivo_salida.close()"
   ]
  },
  {
   "cell_type": "code",
   "execution_count": 40,
   "metadata": {},
   "outputs": [],
   "source": [
    "#-----------------------------------------------------------------\n",
    "# Modelo Random Forest Regressor\n",
    "#-----------------------------------------------------------------\n",
    "from sklearn.ensemble import RandomForestRegressor"
   ]
  },
  {
   "cell_type": "code",
   "execution_count": 42,
   "metadata": {},
   "outputs": [],
   "source": [
    "modeloRFR=RandomForestRegressor(random_state=0, n_jobs=-1, n_estimators=450)"
   ]
  },
  {
   "cell_type": "code",
   "execution_count": 43,
   "metadata": {},
   "outputs": [],
   "source": [
    "modeloRFR.fit(train_data, train_label)\n",
    "\n",
    "result = modeloRFR.predict(test)"
   ]
  },
  {
   "cell_type": "code",
   "execution_count": 47,
   "metadata": {},
   "outputs": [
    {
     "data": {
      "text/html": [
       "<div>\n",
       "<style scoped>\n",
       "    .dataframe tbody tr th:only-of-type {\n",
       "        vertical-align: middle;\n",
       "    }\n",
       "\n",
       "    .dataframe tbody tr th {\n",
       "        vertical-align: top;\n",
       "    }\n",
       "\n",
       "    .dataframe thead th {\n",
       "        text-align: right;\n",
       "    }\n",
       "</style>\n",
       "<table border=\"1\" class=\"dataframe\">\n",
       "  <thead>\n",
       "    <tr style=\"text-align: right;\">\n",
       "      <th></th>\n",
       "      <th>target</th>\n",
       "    </tr>\n",
       "    <tr>\n",
       "      <th>id</th>\n",
       "      <th></th>\n",
       "    </tr>\n",
       "  </thead>\n",
       "  <tbody>\n",
       "    <tr>\n",
       "      <td>4941</td>\n",
       "      <td>6491001.0</td>\n",
       "    </tr>\n",
       "    <tr>\n",
       "      <td>51775</td>\n",
       "      <td>1091247.0</td>\n",
       "    </tr>\n",
       "    <tr>\n",
       "      <td>115253</td>\n",
       "      <td>2453998.0</td>\n",
       "    </tr>\n",
       "    <tr>\n",
       "      <td>299321</td>\n",
       "      <td>1210332.0</td>\n",
       "    </tr>\n",
       "    <tr>\n",
       "      <td>173570</td>\n",
       "      <td>685575.0</td>\n",
       "    </tr>\n",
       "  </tbody>\n",
       "</table>\n",
       "</div>"
      ],
      "text/plain": [
       "           target\n",
       "id               \n",
       "4941    6491001.0\n",
       "51775   1091247.0\n",
       "115253  2453998.0\n",
       "299321  1210332.0\n",
       "173570   685575.0"
      ]
     },
     "execution_count": 47,
     "metadata": {},
     "output_type": "execute_result"
    }
   ],
   "source": [
    "test_1 = pd.read_csv('test.csv')\n",
    "IDS=test_1[['id']].copy()\n",
    "entregable_random=IDS[['id']].copy()\n",
    "entregable_random['target']=result\n",
    "entregable_random.set_index('id',inplace=True)\n",
    "entregable_random['target']=entregable_random['target'].round()\n",
    "entregable_random.head()"
   ]
  },
  {
   "cell_type": "code",
   "execution_count": 48,
   "metadata": {},
   "outputs": [],
   "source": [
    "entregable_random.to_csv('RANDOMF_02.csv')"
   ]
  }
 ],
 "metadata": {
  "kernelspec": {
   "display_name": "Python 3",
   "language": "python",
   "name": "python3"
  },
  "language_info": {
   "codemirror_mode": {
    "name": "ipython",
    "version": 3
   },
   "file_extension": ".py",
   "mimetype": "text/x-python",
   "name": "python",
   "nbconvert_exporter": "python",
   "pygments_lexer": "ipython3",
   "version": "3.7.0"
  },
  "notify_time": "30"
 },
 "nbformat": 4,
 "nbformat_minor": 1
}
